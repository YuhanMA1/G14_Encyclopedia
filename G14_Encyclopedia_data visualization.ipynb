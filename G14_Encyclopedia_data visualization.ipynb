{
 "cells": [
  {
   "cell_type": "markdown",
   "id": "27af3ff2",
   "metadata": {},
   "source": [
    "# G14_Encyclopedia_V1-V8_Visualization"
   ]
  },
  {
   "cell_type": "markdown",
   "id": "1b91fb25",
   "metadata": {},
   "source": [
    "## Describe\n",
    "The challenge data for our group comes from the National Library of Scotland, which is the first eight editions of Encyclopedia Britannica. It was issued from 1768 to 1860 in 143 volumes. It was first published in Edinburgh from 1768 to 1771. The first edition consists of three volumes. The encyclopedia is getting bigger and bigger: the second edition has 10 volumes, and by the fourth edition, it has expanded to 20 volumes. We downloaded the \"text only\" file, which includes 1 plain text readme file; 1 CSV inventory file; and 195 plain text files.\n",
    "+ The general type of my data is all the words in the encyclopedia. I saw through the CSV inventory file: The first edition has 3 volumes, the second edition has 10 volumes, and the third edition has two versions. After contacting the data owner, I deleted the redundant duplicate volumes according to the prompts and the third edition is 4 roll.\n",
    "+ Its scale is huge and complicated. First, according to the CSV directory file, it can be seen that it has a total of 195 volumes. Secondly, after opening the txt text file, it is found that the text comes from OCR scanning and is not cleaned up. This also means that it is completely unstructured text data.\n",
    "+ The types of our data include text, numbers, and symbols, and fields include titles, text, notes, quotations, mathematical or chemical formulas, etc.\n",
    "+ These different types of fields are all explanatory in nature, and they are used to describe or illustrate a certain topic.\n",
    "+ We considered here to analyze only the text, so the symbols and numbers are cleaned up in the code below.\n",
    "+ The data owner is the National Library of Scotland. We plan to extract all the topics in the encyclopedia, through the distribution of the entries of the corresponding topics in each version, to understand its changing trends, from a macro perspective to understand the theme changes of the eight editions of the encyclopedia, and then from the micro Explore the reasons for the changes from the perspective, and finally realize the visual display, showing the audience the changes in the theme content that the United Kingdom has begun to see the world sees."
   ]
  },
  {
   "cell_type": "code",
   "execution_count": 1,
   "id": "dental-rogers",
   "metadata": {},
   "outputs": [],
   "source": [
    "import os\n",
    "import glob\n",
    "from collections import Counter\n",
    "\n",
    "import numpy as np\n",
    "import pandas as pd\n",
    "import matplotlib.pyplot as plt\n",
    "import seaborn as sns\n",
    "sns.set_theme(style=\"darkgrid\",palette=sns.color_palette(\"Set2\"))\n",
    "\n",
    "import re\n",
    "import string  \n",
    "import nltk\n",
    "from nltk.corpus import stopwords\n",
    "from nltk import word_tokenize,pos_tag\n",
    "from nltk.stem import WordNetLemmatizer,lancaster\n",
    "import spacy\n",
    "\n",
    "import stylecloud\n",
    "from PIL import Image as pil_image\n",
    "\n",
    "\n",
    "pd.set_option(\"display.max_colwidth\",1000)\n",
    "\n",
    "import warnings\n",
    "warnings.filterwarnings(\"ignore\")"
   ]
  },
  {
   "cell_type": "markdown",
   "id": "ee8d1ae8",
   "metadata": {},
   "source": [
    "### Preparation before Expolre\n",
    "\n",
    "1. Installation instructions for non-standard software packages:\n",
    "+ [Installing NLTK](https://www.nltk.org/install.html) & [Installing NLTK Data](https://www.nltk.org/data.html)  ***Install code:*** “pip install --user -U nltk” & “nltk.download('all')”\n",
    "+ [Install spaCy](https://spacy.io/usage) & [en_core_web_lg](https://spacy.io/models/en#en_core_web_lg)  ***Install code:*** \"pip install -U pip setuptools wheel\" & \"pip install -U spacy\" & “conda install -c conda-forge spacy-model-en_core_web_lg”\n",
    "+ [Install wordcloud](https://pypi.org/project/wordcloud/) & [stylecloud](https://pypi.org/project/stylecloud/) ***Install code:*** \"conda install -c conda-forge wordcloud\" & \"pip install stylecloud\"\n",
    "2. Description of text data storage method (here you need to take out different versions of .txt files and put them in the corresponding folders):\n",
    "+ ./Encyclopedia Britannica V1-V8 *(Folder of all .txt files in version 1-8)*\n",
    "+ ./G14_Encyclopedia_V1-V8_Visualization\n"
   ]
  },
  {
   "cell_type": "markdown",
   "id": "attractive-pressing",
   "metadata": {},
   "source": [
    "# 1. Preliminary data cleaning\n",
    "Since the provided text data is scanned by OCR, it is very noisy, and one sentence or one word may be disconnected. So the first thing I did was to restore it to the original text paragraph."
   ]
  },
  {
   "cell_type": "code",
   "execution_count": 2,
   "id": "accepting-entry",
   "metadata": {},
   "outputs": [
    {
     "data": {
      "text/plain": [
       "['Encyclopedia Britannica V1-V8/Version 1/144133901.txt',\n",
       " 'Encyclopedia Britannica V1-V8/Version 1/144133902.txt',\n",
       " 'Encyclopedia Britannica V1-V8/Version 1/144133903.txt']"
      ]
     },
     "execution_count": 2,
     "metadata": {},
     "output_type": "execute_result"
    }
   ],
   "source": [
    "files_list=glob.glob(os.path.join(\"Encyclopedia Britannica V1-V8\",\"Version 1\",\"*.txt\"))\n",
    "files_list=sorted(files_list)\n",
    "files_list"
   ]
  },
  {
   "cell_type": "code",
   "execution_count": 3,
   "id": "complex-czech",
   "metadata": {},
   "outputs": [
    {
     "data": {
      "text/plain": [
       "['Encyclopedia Britannica V1-V8', 'Version 1', '144133901.txt']"
      ]
     },
     "execution_count": 3,
     "metadata": {},
     "output_type": "execute_result"
    }
   ],
   "source": [
    "files_list[0].split(os.sep)"
   ]
  },
  {
   "cell_type": "code",
   "execution_count": 4,
   "id": "recent-pastor",
   "metadata": {},
   "outputs": [],
   "source": [
    "\n",
    "def clean_raw_lines(line):\n",
    "    if line.endswith(\"-\\n\"):\n",
    "        line=line.replace(\"-\\n\",\"\")\n",
    "    elif line.endswith(\"¬\\n\"):\n",
    "        line=line.replace(\"¬\\n\",\"\")\n",
    "    elif line.endswith(\".\\n\"):\n",
    "        line=line\n",
    "    else:\n",
    "        line=line.replace(\"\\n\",\" \")\n",
    "    return line\n",
    "    \n",
    "def read_txt_files(files_list):\n",
    "    file_content_list=[]\n",
    "    for file in files_list:\n",
    "        \n",
    "        # Read a txt file and put the read content into the list\n",
    "        with open(file,encoding=\"utf-8\") as f:            \n",
    "            lines=f.readlines()\n",
    "        lines=[clean_raw_lines(line) for line in lines]\n",
    "        text=\"\".join(lines)\n",
    "        file_content_list.extend(text.split(\"\\n\"))\n",
    "            \n",
    "    # Combine the various text contents in the list\n",
    "    return file_content_list\n",
    "    \n"
   ]
  },
  {
   "cell_type": "code",
   "execution_count": 5,
   "id": "literary-cable",
   "metadata": {},
   "outputs": [],
   "source": [
    "files_content=read_txt_files(files_list)\n",
    "\n",
    "df_files_content=pd.DataFrame([files_content]).T\n",
    "df_files_content.columns=[\"text\"]"
   ]
  },
  {
   "cell_type": "code",
   "execution_count": 6,
   "id": "forward-census",
   "metadata": {},
   "outputs": [
    {
     "data": {
      "text/html": [
       "<div>\n",
       "<style scoped>\n",
       "    .dataframe tbody tr th:only-of-type {\n",
       "        vertical-align: middle;\n",
       "    }\n",
       "\n",
       "    .dataframe tbody tr th {\n",
       "        vertical-align: top;\n",
       "    }\n",
       "\n",
       "    .dataframe thead th {\n",
       "        text-align: right;\n",
       "    }\n",
       "</style>\n",
       "<table border=\"1\" class=\"dataframe\">\n",
       "  <thead>\n",
       "    <tr style=\"text-align: right;\">\n",
       "      <th></th>\n",
       "      <th>text</th>\n",
       "    </tr>\n",
       "  </thead>\n",
       "  <tbody>\n",
       "    <tr>\n",
       "      <th>200</th>\n",
       "      <td>ABARTICULATION, in anatomy, a fpeeies of articulation which is now termed diarthrofts. See Anatomy, Part I. and Diarthrofs.</td>\n",
       "    </tr>\n",
       "    <tr>\n",
       "      <th>201</th>\n",
       "      <td>ABAS, a weight ufed in Perfia for weighing pearls. It is l-8th lefs than the European carat. *' ABB ABASCIA, the country of the Alcas. SccAlcas.</td>\n",
       "    </tr>\n",
       "    <tr>\n",
       "      <th>202</th>\n",
       "      <td>ABAISED, Abaijfe, in heraldry, an epithet applied to ' the wings ofe&amp;gies, &amp;c. when the tip looks downwards to the point of the (liield, or. when the wings are (hut; the natural way of bearing them being extended.</td>\n",
       "    </tr>\n",
       "    <tr>\n",
       "      <th>203</th>\n",
       "      <td>ABASING, in the fea-language, fignifies the fame as driking.</td>\n",
       "    </tr>\n",
       "    <tr>\n",
       "      <th>204</th>\n",
       "      <td>ABASSI, or Abassas, a filver coin current in Perfia,.</td>\n",
       "    </tr>\n",
       "    <tr>\n",
       "      <th>205</th>\n",
       "      <td>equivalent in value to a French livre, or tenpence halfpenny Sterling. It took its name from Schaw Abas II.</td>\n",
       "    </tr>\n",
       "    <tr>\n",
       "      <th>206</th>\n",
       "      <td>king of Perfia, under whom it was-druck.</td>\n",
       "    </tr>\n",
       "    <tr>\n",
       "      <th>207</th>\n",
       "      <td>ABATAMENTUM, in law, is an entry to lands by interpofition, i. e. when a perfon dies feized, and another who has no right enters before the heir.</td>\n",
       "    </tr>\n",
       "    <tr>\n",
       "      <th>208</th>\n",
       "      <td>ABATE, from abatre, to dedroy ; a term ufed by the writers of the common law, both in an a&lt;5tive and neutral fenfe ; as, to abate a cadle, is to dedroy or beat it down.; to abate a writ, is, by fome exception to render it null and void.</td>\n",
       "    </tr>\n",
       "    <tr>\n",
       "      <th>209</th>\n",
       "      <td>Abate, in the manage, implies the performance of any downward motion properly. Hence a horfe is faid ta abate, or take down his curvets, when he puts both his hind-legs to the ground at once, and obferves the fame exaftnefs in all the times.</td>\n",
       "    </tr>\n",
       "  </tbody>\n",
       "</table>\n",
       "</div>"
      ],
      "text/plain": [
       "                                                                                                                                                                                                                                                  text\n",
       "200                                                                                                                        ABARTICULATION, in anatomy, a fpeeies of articulation which is now termed diarthrofts. See Anatomy, Part I. and Diarthrofs.\n",
       "201                                                                                                   ABAS, a weight ufed in Perfia for weighing pearls. It is l-8th lefs than the European carat. *' ABB ABASCIA, the country of the Alcas. SccAlcas.\n",
       "202                              ABAISED, Abaijfe, in heraldry, an epithet applied to ' the wings ofe&gies, &c. when the tip looks downwards to the point of the (liield, or. when the wings are (hut; the natural way of bearing them being extended.\n",
       "203                                                                                                                                                                                       ABASING, in the fea-language, fignifies the fame as driking.\n",
       "204                                                                                                                                                                                              ABASSI, or Abassas, a filver coin current in Perfia,.\n",
       "205                                                                                                                                        equivalent in value to a French livre, or tenpence halfpenny Sterling. It took its name from Schaw Abas II.\n",
       "206                                                                                                                                                                                                           king of Perfia, under whom it was-druck.\n",
       "207                                                                                                  ABATAMENTUM, in law, is an entry to lands by interpofition, i. e. when a perfon dies feized, and another who has no right enters before the heir.\n",
       "208       ABATE, from abatre, to dedroy ; a term ufed by the writers of the common law, both in an a<5tive and neutral fenfe ; as, to abate a cadle, is to dedroy or beat it down.; to abate a writ, is, by fome exception to render it null and void.\n",
       "209  Abate, in the manage, implies the performance of any downward motion properly. Hence a horfe is faid ta abate, or take down his curvets, when he puts both his hind-legs to the ground at once, and obferves the fame exaftnefs in all the times."
      ]
     },
     "execution_count": 6,
     "metadata": {},
     "output_type": "execute_result"
    }
   ],
   "source": [
    "df_files_content[200:210]"
   ]
  },
  {
   "cell_type": "code",
   "execution_count": null,
   "id": "identified-output",
   "metadata": {},
   "outputs": [],
   "source": []
  },
  {
   "cell_type": "markdown",
   "id": "beb2fbd2",
   "metadata": {},
   "source": [
    "## 1.1 Draft entry merging standards\n",
    "    # If a sentence starts with several consecutive capital letters and then a comma, then it is considered the beginning of an entry；\n",
    "    # If a sentence does not meet this condition, then it will be considered that the sentence should belong to the previous entry."
   ]
  },
  {
   "cell_type": "markdown",
   "id": "alert-fortune",
   "metadata": {},
   "source": [
    "![sample](sample.png)"
   ]
  },
  {
   "cell_type": "code",
   "execution_count": 7,
   "id": "senior-banana",
   "metadata": {},
   "outputs": [
    {
     "data": {
      "text/plain": [
       "'ABASSI,'"
      ]
     },
     "execution_count": 7,
     "metadata": {},
     "output_type": "execute_result"
    }
   ],
   "source": [
    "# Clean up text data through regular expressions\n",
    "\n",
    "sample1=\"ABASSI, or Abassas, a filver coin current in Perfia\"\n",
    "re.match(r\"[A-Z]+,\",sample1).group()"
   ]
  },
  {
   "cell_type": "code",
   "execution_count": 8,
   "id": "tutorial-conservative",
   "metadata": {},
   "outputs": [],
   "source": [
    "# If this pattern cannot be matched, the result will be None\n",
    "sample2=\"Abate, in the manage, implies the performance of any downward motion properly.\"\n",
    "re.match(r\"[A-Z]+,\",sample2)"
   ]
  },
  {
   "cell_type": "code",
   "execution_count": 9,
   "id": "shared-sphere",
   "metadata": {},
   "outputs": [
    {
     "data": {
      "text/plain": [
       "NoneType"
      ]
     },
     "execution_count": 9,
     "metadata": {},
     "output_type": "execute_result"
    }
   ],
   "source": [
    "type(re.match(r\"[A-Z]+,\",sample2))"
   ]
  },
  {
   "cell_type": "code",
   "execution_count": 10,
   "id": "rough-stand",
   "metadata": {},
   "outputs": [
    {
     "name": "stdout",
     "output_type": "stream",
     "text": [
      "False\n",
      "True\n"
     ]
    }
   ],
   "source": [
    "print(re.match(r\"[A-Z]+,\",sample1) is None)\n",
    "print(re.match(r\"[A-Z]+,\",sample2) is None)"
   ]
  },
  {
   "cell_type": "code",
   "execution_count": 11,
   "id": "scheduled-measure",
   "metadata": {},
   "outputs": [],
   "source": [
    "# The first half of each chapter of the encyclopedia is an Overall view instead of an entry, so I initially defined it as \"\"\n",
    "word=\"\"\n",
    "word_dict={}\n",
    "whole_sent=\"\"\n",
    "for sent in df_files_content[\"text\"]:\n",
    "    # If a sentence does not match the entry, it will be appended to the previous entry\n",
    "    res=re.match(r\"[A-Z]+,\",sent)\n",
    "    if res is None:\n",
    "        whole_sent+=sent\n",
    "    else:\n",
    "        # If a sentence matches the entry, save the previous entry and start a new entry\n",
    "        word_dict[word]=whole_sent            \n",
    "        word=res.group().strip(\",\")\n",
    "        whole_sent=sent.replace(word+\",\",\"\")\n",
    "\n",
    "# Add the last entry\n",
    "word_dict[word]=whole_sent"
   ]
  },
  {
   "cell_type": "code",
   "execution_count": null,
   "id": "ad9a507b",
   "metadata": {},
   "outputs": [],
   "source": []
  },
  {
   "cell_type": "code",
   "execution_count": 12,
   "id": "f2228e35",
   "metadata": {},
   "outputs": [],
   "source": [
    "# The first half of each chapter of the encyclopedia is that Overall view is not an entry, I initially defined it as \"\"\n",
    "word=\"\"\n",
    "word_dict={}\n",
    "whole_sent=\"\"\n",
    "for sent in df_files_content[\"text\"]:\n",
    "    # If a sentence does not match the entry, it will be appended to the previous entry\n",
    "    res=re.match(r\"[A-Z]+,\",sent)\n",
    "    if res is None:\n",
    "        whole_sent+=sent\n",
    "    else:\n",
    "        # If a sentence matches the entry, save the previous entry and start a new word\n",
    "        word_dict[word]=whole_sent            \n",
    "        word=res.group().strip(\",\")\n",
    "        whole_sent=sent.replace(word+\",\",\"\")\n",
    "\n",
    "# Add the last entry\n",
    "word_dict[word]=whole_sent"
   ]
  },
  {
   "cell_type": "code",
   "execution_count": 13,
   "id": "animal-station",
   "metadata": {},
   "outputs": [
    {
     "data": {
      "text/plain": [
       "dict_keys(['', 'SCO', 'AABAM', 'AADE', 'AAHUS', 'AAM', 'AAR', 'AARSEO', 'AATTER', 'AB', 'ABACATUAIA', 'ABACH', 'ABACO', 'ABACOT', 'ABACTORES', 'ABACTUS', 'ABACUS', 'ABADAN', 'ABADDON', 'ABADIR', 'ABACRE', 'ABAFT', 'ABAI', 'ABANBO', 'ABANCAI', 'ABANO', 'ABAPTISTON', 'ABARCA', 'ABARTICULATION', 'ABAS', 'ABAISED', 'ABASING', 'ABASSI', 'ABATAMENTUM', 'ABATE', 'ABATEMENT', 'ABATIS', 'ABAVO', 'ABB', 'ABBA', 'ABBEFORD', 'ABBESS', 'ABBEVILLE', 'ABBEY', 'ABBOT', 'ABBREVIATION', 'ABBREVIATOR', 'ABBREVOIR', 'ABBUTTALS', 'ABCASSES', 'ABCDARIA', 'ABCDARY', 'ABDALS', 'ABDELAVI', 'ABDEST', 'ABDICATION', 'ABDOMEN', 'ABDUCTION', 'ABDUCTOR', 'ABELIANS', 'ABELMOSCH', 'ABENSBURG', 'ABERBROTHOCK', 'ABERDEEN', 'ABERGAVENY', 'ABERMURDER', 'ABERRATION', 'ABERYSWITH', 'ABESTA', 'ABETTOR', 'ABEVACUATION', 'ABEX', 'ABEYANCE', 'ABHEL', 'ABIB', 'ABIES', 'ABILITY', 'ABINGDON', 'ABISHERING', 'ABIT', 'ABJURATION', 'ABLAC', 'ABLACTATION', 'ABLACQUEATION', 'ABLATIVE', 'ABLAY', 'ABLEGMINA', 'ABLET', 'ABLUENTS', 'ABLUTION', 'ABO', 'ABOARD', 'ABOLITION', 'ABOLLA', 'ABOMASUS', 'ABOMINATION', 'ABORIGINES', 'ABORTION', 'ABORTIVE', 'ABOY', 'ABRA', 'ABRACADABRA', 'ABRAHAMITES', 'ABRAMIS', 'ABRASION', 'ABRAUM', 'ABRASAX', 'ABRAX', 'ABREAST', 'ABRIDGEMENT', 'ABROBANIA', 'ABROCHMENT', 'ABROGATION', 'ABROLKOS', 'ABROTANOIDES', 'ABROTANUM', 'ABRUPTION', 'ABRUS', 'ABRUZZO', 'ABSCESS', 'ABSCHARON', 'ABSCISSE', 'ABSCONSA', 'ABSENCE', 'ABSINTHIUM', 'ABSIS', 'ABSOLUTE', 'ABSOLUTION', 'ABSORPTION', 'ABSTEMIOUS', 'ABSTENTUS', 'ABSTINENCE', 'ABSTINENTS', 'ABSTRACTION', 'ABSTRACTITIOUS', 'ABSTRUSE', 'ABSURD', 'ABSURDITY', 'ABSUS', 'ABUAI', 'ABUCCO', 'ABUNA', 'ABUSE', 'ABUTIGE', 'ABUTILON', 'ABYSS', 'ABYSSINIA', 'ACACIA', 'ACADEMIC', 'ACADEMICS', 'ACADEMY', 'ACADIE', 'ACANA', 'ACAJA', 'ACAJOU', 'ACALEPTIC', 'ACALIS', 'ACALYPHA', 'ACAMATOS', 'ACAMBOU', 'ACAMEEH', 'ACANAPHORA', 'ACANES', 'ACANGIS', 'ACANNY', 'ACANTHA', 'ACANTHABOLUS', 'ACANTHE', 'ACANTHIAS', 'ACANTHIUM', 'ACANTHOIDES', 'ACANTHUS', 'ACAPATLI', 'ACAPNON', 'ACAPULCO', 'ACARA', 'ACARAI', 'ACARICOBA', 'ACARNA', 'ACARON', 'ACATALECTIC', 'ACATALEPSY', 'ACATALIS', 'ACATERY', 'ACATHARSIA', 'ACAULIS', 'ACCALIA', 'ACCAPITARE', 'ACCAPITUM', 'ACCELERATED', 'ACCELERATION', 'ACCELERATOR', 'ACCENDENTES', 'ACCENDONES', 'ACCENSI', 'ACCENT', 'ACCENTER', 'ACCEPTANCE', 'ACCEPTATION', 'ACCEPTER', 'ACCEPTILATION', 'ACCESS', 'ACCESSARY', 'ACCESSIBLE', 'ACCESSION', 'ACCESSORY', 'ACCIB', 'ACCIDENT', 'ACCIDENTS', 'ACCIPENSER', 'ACCIPITER', 'ACCISMUS', 'ACCLAMATION', 'ACCLIVUS', 'ACCLIVITY', 'ACCOLADE', 'ACCOLEE', 'ACCOMMODATION', 'ACCOMPAGNAGE', 'ACCOMPANIMENT', 'ACCOMPLICE', 'ACCOMPLISHMENT', 'ACCORD', 'ACCORNED', 'ACCOUNT', 'ACCOUNTABLE', 'ACCOUNTANT', 'ACCOUTREMENT', 'ACCRETION', 'ACCROCHE', 'ACCROCHING', 'ACCRUE', 'ACCURATION', 'ACCUBITOR', 'ACCUMULATION', 'ACCURSED', 'ACCUSATION', 'ACE', 'ACENTETUM', 'ACEPHALI', 'ACEPHALOUS', 'ACEPHALUS', 'ACER', 'ACERB', 'ACERIDES', 'ACERINA', 'ACERNO', 'ACERRA', 'ACERSECOMES', 'ACESTIDES', 'ACETABULUM', 'ACETIFICATION', 'ACETOSA', 'ACETOSE', 'ACETUM', 'ACH', 'ACHAC', 'ACHAIA', 'ACHALACTLI', 'ACHAM', 'ACHANE', 'ACHAOVA', 'ACHASSES', 'ACHAT', 'ACHATOR', 'ACHE', 'ACHECAMBEY', 'ACHELO', 'AGHEN', 'ACHERNER', 'ACHETA', 'ACHIAR', 'ACHIENUS', 'ACHILLJSA', 'ACHILLEID', 'ACHIMENES', 'ACHIGTL', 'ACHIOTTE', 'ACHIROPOETOS', 'ACHMETSCHET', 'ACHONRY', 'ACHOR', 'ACHRAS', 'ACHRONICAL', 'ACHYRANTES', 'ACHYRANTHA', 'ACHYRONIA', 'ACHYROPHORUS', 'ACIA', 'ACICULT', 'ACIDS', 'ACIDITY', 'ACIDULATED', 'ACIERNO', 'ACINARIA', 'ACINI', 'ACINODENDRUM', 'ACINOIDES', 'ACINOS', 'ACINUS', 'ACISONTHERA', 'ACITLI', 'ACKNOWLEDGMENT', 'ACLIDES', 'ACLOWA', 'ACMELLA', 'ACNIDA', 'ACNDA', 'ACOBA', 'ACOEMETAE', 'ACOLCHICHI', 'ACOLIN', 'ACOLUTHI', 'ACOLYTHIA', 'ACOMAC', 'ACONE', 'ACONTIAS', 'ACONTIUM', 'ACOPA', 'ACOPIS', 'ACOPUM', 'ACORES', 'ACORN', 'ACORUM', 'ACORUS', 'ACOUSMATICI', 'ACOUSTIC', 'ACOUSTICS', 'ACQS', 'ACQUA', 'ACQUAPENDENTE', 'ACQUARIA', 'ACQUAVIVA', 'ACQUI', 'ACQUIESCENCE', 'ACQUISITION', 'ACQUITFAL', 'ACQUITTANCE', 'ACRA', 'ACRASIA', 'ACRE', 'ACRIBEIA', 'ACRID', 'ACRIDOPHAGI', 'ACRIMONY', 'ACRIVIOLA', 'ACROAMATIC', 'ACRQBATICA', 'ACROCHIRISMUS', 'ACROCHORDON', 'ACROCQRION', 'ACRQMATIC', 'ACROMION', 'ACROMONOGRAMMATICUM', 'ACRON', 'ACRONICAL', 'AQROSPIRED', 'ACROSTIC', 'ACROSTICUM', 'ACROSTOLIUM', 'ACROTELEUTIC', 'ACRQTERI', 'ACROTERIA', 'ACRITHYMIA', 'ACSOR', 'ACSU', 'ACT', 'ACTION', 'ACTIONARY', 'ACTIONS', 'ACTIVE', 'ACTOR', 'ACTRESS', 'ACTUAL', 'ACTUATE', 'ACTUS', 'ACUANITES', 'ACUBENE', 'ACUHYTLI', 'ACULEATE', 'ACULEI', 'ACULEOSA', 'ACUMEN', 'ACUMINA', 'ACUMULO', 'ACUPUNCTURE', 'ACUS', 'ACUTE', 'ACUTITION', 'ACYROLOGIA', 'AD', 'ADA', 'ADAGE', 'ADAGIO', 'ADAJA', 'ADALIDES', 'ADAMANT', 'ADAMBOE', 'ADAMITES', 'ADAMSHIDE', 'ADANA', 'ADANSONIA', 'ADAPTERS', 'ADAR', 'ADARCE', 'ADARME', 'ADATAIS', 'ADCHER', 'ADCRESCENTES', 'ADDA', 'ADDEPHAGIA', 'ADDER', 'ADDEXTRATORES', 'ADDICE', 'ADDICTI', 'ADDICTION', 'ADDITION', 'ADDOU', 'ADDRESS', 'ADDUCTION', 'ADDUCTOR', 'ADEA', 'ADEB', 'ADEL', 'ADELPHIANI', 'ADELSCALC', 'ADELSPERG', 'ADEN', 'ADENANTHERA', 'ADENBURG', 'ADENDUM', 'ADENOIDES', 'ADENOS', 'ADEONA', 'ADEPHAGIA', 'ADEPS', 'ADEPTS', 'ADEQUATE', 'ADERBIGAN', 'ADERNO', 'ADESSENARIANS', 'ADFILIATION', 'ADHATODA', 'ADHERGAT', 'ADHESION', 'ADHOA', 'ADJA', 'ADJACENT', 'ADIANTHUM', 'ADIAPHORISTS', 'ADJAZZO', 'ADJECTIVE', 'ADIGE', 'ADIPOSE', 'ADVIRBEITSAN', 'ADIT', 'ADJUDICATION', 'ADJUNCT', 'ADJUTANT', 'ADJUTORIUM', 'ADLOCUTION', 'ADMINICLES', 'ADMINISTRATOR', 'ADMINISTRATRIX', 'ADMIRABILIS', 'ADMIRAL', 'ADMIRATION', 'ADMISSION', 'ADMONITION', 'ADMORTIZATION', 'ADNATA', 'ADNOUN', 'ADOLESCENCE', 'ADOM', 'ADONAI', 'ADONIA', 'ADONIAS', 'ADONIDES', 'ADONION', 'ADONIS', 'ADOPTIANI', 'ADOPTION', 'ADOPTIVE', 'ADORATION', 'ADOSSEE', 'ADOUR', 'ADOXA', 'ADPERCEPTION', 'ADRACHNE', 'ADRAMMELECH', 'ADRIUNE', 'ADROBE', 'ADSCRIPTS', 'ADSTAT', 'ADSTRICTION', 'ADVANCE', 'ADVANCER', 'ADUAR', 'ADVENT', 'ADVENTITIOUS', 'ADVENTURE', 'ADVENTURER', 'ADVERSARIA', 'ADVERSARY', 'ADVERSATIVE', 'ADVERSATOR', 'ADVERTISEMENT', 'ADULT', 'ADULTERATION', 'ADVOCATE', 'ADVOUSON', 'ADVOWZON', 'ADUSTION', 'ADYTUM', 'ADZEL', 'ZECHMALOTARCHA', 'ALDITUUS', 'ZEGILETHRON', 'JEGILOPS', 'AEGIPAN', 'AEGIS', 'AEGIUCHUS', 'AEOLIC', 'AEOLIPILE', 'JEON', 'ARA', 'ARARIUM', 'ARARIUS', 'AERICA', 'AEROMANCY', 'AEROMETRY', 'AEROPHOBIA', 'AEROPHYLACEA', 'ARRA', 'AERESCHOT', 'AERY', 'AESCHYNOMENE', 'ETH', 'ETHALE', 'ETHALIES', 'ETHER', 'AETIOLOGY', 'AFFA', 'AFFECTION', 'AFFEERERS', 'AFFERI', 'AFFETUOSO', 'AFFIANCE', 'AFFICHE', 'AFFIDATUS', 'AFFIDAVIT', 'AFFILIATION', 'AFFINAGE', 'AFFINITY', 'AFFIRMATION', 'AFFIX', 'AFFLATUS', 'AFFORCEMENT', 'AFFORESTING', 'AFFRAY', 'AFFREIGHTMENT', 'AFFRI', 'AFFUIAGE', 'AFOBA', 'AFRICA', 'AFT', 'AFTO', 'AGA', 'AGADES', 'AGAI', 'AGALLOCHA', 'AGALMATA', 'AGANIPPIDES', 'AGARICUS', 'AGASYLLIS', 'AGAT', 'AGATONSI', 'AGATTON', 'AGATY', 'AGAVE', 'AGAZES', 'AGDE', 'AGE', 'AGEDA', 'AGEMA', 'AGEMOGLANS', 'AGEN', 'AGENDA', 'AGENHINE', 'AGENGRIA', 'AGENT', 'AGER', 'AGERATUM', 'AGGA', 'AGGERHUYS', 'AGGLUTINANTS', 'AGGLUTINATION', 'AGGRAVATION', 'AGGREGATE', 'AGGRESSOR', 'AGHRIM', 'AGIGENSALON', 'AGILD', 'AGILITY', 'AGILLARIUS', 'AGINCOURT', 'AGIO', 'AGISTMENT', 'AGISTOR', 'AGITATION', 'AGITATOR', 'AGITATORS', 'AGLA', 'AGLAOPHOTIS', 'AGLECTS', 'AGLIA', 'AGMOT', 'AGMEN', 'AGMONDESHAM', 'AGNABAT', 'AGNANO', 'AGNANTHUS', 'AGNATE', 'AGNEL', 'AGNO', 'AGNOMEN', 'AGNON', 'AGNONE', 'AGNOS', 'AGNUS', 'AGOBEL', 'AGOGA', 'AGON', 'AGONALIS', 'AGONALIA', 'AGONISMA', 'AGONISTARCHA', 'AGONISTICA', 'AGONISTICON', 'AGONOTHETA', 'AGONUS', 'AGORANOMUS', 'AGRA', 'AGRAM', 'AGREEMENT', 'AGRESSES', 'AGRI', 'B', 'F', 'G', 'H', 'N', 'A', 'D', 'AAA', 'AGRIMONIA', 'AGRIMONOIDES', 'AGRIOCINARA', 'AGRIPPA', 'AGROM', 'AGROPOLI', 'AGROSTEMMA', 'AGROSTIS', 'AGRYPNIA', 'AGUALVA', 'AGUAPECACA', 'AGUARICO', 'AGUBER', 'AGUE', 'AGUER', 'AGUGLIA', 'AGUIGAN', 'AGURAH', 'AGURANDE', 'AGUSADURA', 'AGUTI', 'AGUZ', 'AGWANA', 'AGYEI', 'AGYNIANI', 'AHANIGER', 'AHAUSEN', 'AHICCYATLI', 'AHMELLA', 'AHOUAI', 'AHRENSBOECK', 'AHUAS', 'AHUN', 'AHUS', 'AHUYS', 'AIA', 'AIAIA', 'AJAJOUNI', 'AJANTIA', 'AJASALOUE', 'AJAX', 'AJAZZO', 'AID', 'AIELO', 'AIGHENDALE', 'AIGLETTE', 'AIGRETTA', 'AIGUILLON', 'AIGUISCE', 'AILE', 'AILESBURY', 'AIN', 'AIR', 'AIRS', 'AIRA', 'AIRE', 'AIRESHIRE', 'AIRING', 'AIRONO', 'AIROU', 'AIRY', 'AISE', 'AISIAMENTA', 'AISNE', 'AITOCZU', 'AJUGA', 'AJUTAGE', 'AIX', 'AIZOON', 'AKISSAR', 'AKOND', 'AKROCZIM', 'AKSTADT', 'AL', 'ALA', 'ALM', 'ALABA', 'ALABASTER', 'ALABASTRA', 'ALADINISTS', 'ALADULIA', 'ALAGON', 'ALAIS', 'ALAISEE', 'ALALCOMENIUS', 'ALAMIRE', 'ALAMODALITY', 'ALAMODE', 'ALAN', 'ALAND', 'ALANGUER', 'ALANORARIUS', 'ALAQUECA', 'ALARAF', 'ALARBES', 'ALARES', 'ALARM', 'ALATAMAHA', 'ALATERNOIDES', 'ALATERNUS', 'ALAVA', 'ALAUDA', 'ALAUSA', 'ALAUTA', 'ALB', 'ALBAHURIM', 'ALBANENSES', 'ALBANI', 'ALBANO', 'ALBANS', 'ALBANY', 'ALBARA', 'ALBARDEOLA', 'ALBAZIN', 'ALBE', 'ALBELLUS', 'ALBEMARLE', 'ALBENGA', 'ALBERTUS', 'ALBESIA', 'ALBICILLA', 'ALBIGENSES', 'ALBIGEOIS', 'ALBII', 'ALBINOS', 'ALBION', 'ALBLASSERWAERT', 'ALBOGALERUS', 'ALBONA', 'ALBORAK', 'ALBORAN', 'ALBOURG', 'ALBRET', 'ALBUCA', 'ALBUCUS', 'ALBUGINEUS', 'ALBUGO', 'ALBULA', 'ALBUM', 'ALBUMEN', 'ALBUQUERQUE', 'ALBURN', 'ALBURNUM', 'ALBURNUS', 'ALBY', 'ALCA', 'ALCAID', 'ALCANITZ', 'ALCANNA', 'ALCANTARA', 'ALCARAZ', 'ALCE', 'ALCEA', 'ALCEDO', 'ALCHEMILLA', 'ALCHEMIST', 'ALCHEMY', 'ALCHIMY', 'ALCHITRAM', 'ALCIBIUM', 'ALCMAER', 'ALCMANIAN', 'ALCOBACO', 'ALCOHOL', 'ALCOHOLIZATION', 'ALCOLA', 'ALCORAN', 'ALCOST', 'ALCOVE', 'ALCOYTIN', 'ALCYON', 'ALCYONIUM', 'ALDABARAM', 'ALDARU', 'ALDBOROUGH', 'ALDEA', 'ALDEBARAN', 'ALDEGO', 'ALDENAER', 'ALDERMAN', 'ALDII', 'ALDROVANDA', 'ALE', 'ALEA', 'ALEATORIUM', 'ALEC', 'ALECTORIA', 'ALECTORICARDITES', 'ALECTOROMANTIA', 'ALEAGAR', 'ALEGRETTE', 'ALEIPHA', 'ALEMBIC', 'ALEMBROTH', 'ALENGNER', 'ALENTEJO', 'ALENZON', 'ALEORE', 'ALEPPO', 'ALERION', 'ALESSANO', 'ALESSIO', 'ALET', 'ALETRIS', 'ALEUROMANCY', 'ALEXANDERS', 'ALEXANDRETTA', 'ALEXANDRIA', 'ALEXANDRIAN', 'ALEXANDRINUM', 'ALFAQUES', 'ALFELD', 'ALFET', 'ALGA', 'ALGAROT', 'ALGARVA', 'I', 'ALGHER', 'ALGIABARII', 'ALGIERS', 'ALGOIDES', 'ALGOL', 'ALGONQUIN', 'ALGOR', 'ALGORITHM', 'ALGOSAREL', 'ALGUAZIL', 'ALHAGI', 'ALHAMA', 'ALHANDAL', 'ALHEAL', 'ALHIDADE', 'ALJAMEIA', 'ALICANT', 'ALICE', 'ALICES', 'ALICULA', 'ALICUR', 'ALIDES', 'ALJEMBUT', 'ALIBI', 'ALIEN', 'ALIENATION', 'ALIFANUS', 'ALIFORMIS', 'ALIMENT', 'ALIMENTARY', 'ALIMENTATION', 'ALIMONY', 'ALIMOS', 'ALIPILARIUS', 'ALIPTA', 'ALISE', 'ALISMA', 'ALITES', 'ALIZE', 'ALKA', 'ALKAHEST', 'ALKAHESTIC', 'ALKALI', 'ALKALINE', 'ALKANET', 'ALKEKENGI', 'ALKERMES', 'ALLA', 'ALLANTOIS', 'ALLAY', 'ALLEGATA', 'ALLEGATION', 'ALLEGIANCE', 'ALLEGORICAL', 'ALLEGORIST', 'ALLEGORY', 'ALLEGRO', 'ALLELENGYON', 'ALLELOPHAGI', 'ALLELUJAH', 'ALLEMAND', 'ALLEMANNIC', 'ALLENDORF', 'ALEU', 'ALLEVIARE', 'ALLEVEURE', 'ALLEY', 'ALLIGATI', 'ALLIER', 'ALLIGATION', 'ALLIONIA', 'ALLIOTH', 'ALLOA', 'ALLODIUM', 'ALLONGE', 'ALLOPHYLLUS', 'ALLOTTING', 'ALLOY', 'ALUMNIOR', 'ALLUSION', 'ALLUVION', 'ALLY', 'ALMACARRON', 'ALMADE', 'ALMADIE', 'ALMAGEST', 'ALMAGRA', 'ALMANAC', 'ALMANDINE', 'ALMARIA', 'ALMEDA', 'ALMEDIA', 'ALMEHRAB', 'ALMELILETU', 'ALMENE', 'ALMERIA', 'ALMISSA', 'ALMIZADIR', 'ALMODIA', 'ALMOGIZA', 'ALMOIN', 'ALMOND', 'ALMONDS', 'ALMONDBURY', 'ALMONRY', 'ALMS', 'ALMSTAD', 'ALMOXARIFARGO', 'ALMUCANTARS', 'ALMUCIUM', 'ALMUCIA', 'ALMUNECAR', 'ALMUTAZAPHUS', 'ALMUTHEN', 'ALNABATI', 'ALNAGE', 'ALNAGER', 'ALNAM', 'ALNEY', 'ALNUS', 'ALNWICK', 'ALOA', 'ALOE', 'ALOEDARY', 'ALOETICS', 'ALOGIANS', 'ALOGOTROPHIA', 'ALOOF', 'ALOPECIA', 'ALOPECIAS', 'ALOPECOPITHECUS', 'ALOPECURUS', 'ALOSA', 'ALOST', 'ALP', 'ALPHA', 'ALPHABET', 'ALPHABETICAL', 'ALPHENIC', 'ALPHESERA', 'ALPHESTES', 'ALPHETA', 'ALPHITIDION', 'ALPHITOMANCY', 'ALPKONSIN', 'ALPHOS', 'ALPINE', 'ALPINIA', 'ALPS', 'ALQUIER', 'ALRAMECH', 'ALRUM', 'ALSACE', 'ALSAHARATICA', 'ALSEN', 'ALSCHARCUR', 'ALSFIELD', 'ALSINA', 'ALSINASTRUM', 'ALSINE', 'ALSIRAT', 'ALSONE', 'ALSWANGEN', 'ALT', 'ALTAMURA', 'ALTARAGE', 'ALTARIST', 'ALTEA', 'ALTEMBURG', 'ALTENA', 'ALTENBURG', 'ALTERANTS', 'ALTERATE', 'ALTERATION', 'ALTERCUM', 'ALTERDOCHAON', 'ALTERITY', 'ALTERNATE', 'ALTERNATION', 'ALTHAEA', 'ALTINGAR', 'ALTITUDE', 'ALTKIRK', 'ALTMUL', 'ALTO', 'ALTOM', 'ALTORF', 'ALTRINGHAM', 'ALTRIP', 'ALTUMAL', 'ALTUS', 'ALTZHEIM', 'ALVAH', 'ALVAHAT', 'ALVARID', 'ALVARISTS', 'ALUDE', 'ALUDELS', 'ALVEOLUS', 'ALVIDONA', 'ALUM', 'ALUMEN', 'ALUMINOUS', 'ALUS', 'ALVUS', 'ALWAIDII', 'ALYPIAS', 'ALPUM', 'ALYSSOIDES', 'ALYSSUM', 'ALYTARCHA', 'ALZACHI', 'ALZAGI', 'ALZARAC', 'ALZIRA', 'ALZIZ', 'AMA', 'AMABYR', 'AMACUSA', 'AMADABAT', 'AMADANAGER', 'AMAIN', 'AMAK', 'AMALFA', 'AMALGAMATION', 'AMAN', 'AMANCE', 'AMAND', 'AMANTEA', 'AMAPALLA', 'AMARACUS', 'AMARANTA', 'AMARANTH', 'AMARANTHOIDES', 'AMARANTHUS', 'AMARYLLIS', 'AMASIA', 'AMASTRIS', 'AMATIDES', 'AMATITLAN', 'AMATRICE', 'AMAUROSIS', 'AMAXOBII', 'AMAZON', 'AMAZONS', 'AMAZONIAN', 'AMBACHT', 'AMBADAR', 'AMBAMARJAM', 'AMBARVALIA', 'AMBARVALIS', 'AMBE', 'AMBER', 'AMBERING', 'AMBETTUWAY', 'AMBIAM', 'AMBIDEXTER', 'AMBIERLE', 'AMBIGUITY', 'AMBIGUOUS', 'AMBILLON', 'AMBIT', 'AMBITUS', 'AMBLE', 'AMBLETEUSE', 'AMBLYGON', 'AMBO', 'AMBOHETSMENES', 'AMBOISE', 'AMBOYNA', 'AMBOSINE', 'AMBOTE', 'AMBOULE', 'AMBOURNAY', 'AMBRESBERRY', 'AMBROSE', 'AMBROSIN', 'AMBRUN', 'AMBRY', 'AMBUBEJA', 'AMBUILA', 'AMBULATORY', 'AMBURBIUM', 'AMBUSCADE', 'AMBUSTION', 'AMBY', 'AMED', 'AMEDIANS', 'AMEL', 'AMELBURG', 'AMELIA', 'AMEN', 'AMEND', 'AMENDOLARA', 'AMENDMENT', 'AMENTACEOUS', 'AMENTUM', 'AMERADE', 'AMERCEMENT', 'AMERGO', 'AMERIA', 'AMERICA', 'AMPRICIMA', 'AMERSFORT', 'AMETHYSTUS', 'AMETHYST', 'AMETHYSTEA', 'AMETHYSTINE', 'AMGAILA', 'AMHAR', 'AMIA', 'AMIANTHUS', 'AMICABLE', 'AMICITIA', 'AMICTUS', 'AMICULUM', 'AMIENS', 'AMIGDALUS', 'AMIESTIES', 'AMILICTI', 'AMINA', 'AMIRANTE', 'AMMA', 'AMMAA', 'AMMAN', 'AMMANNIA', 'AMMERGAW', 'AMMI', 'AMMITES', 'AMMOCOETUS', 'AMMOCHRYSOS', 'AMMODYTES', 'AMMON', 'AMMONIAC', 'AMNA', 'AMNESTY', 'AMNIMODAR', 'AMNIOS', 'AMOER', 'AMOL', 'AMOMUM', 'AMORBACH', 'AMORGO', 'AMORTIZATION', 'AMOVING', 'AMOY', 'AMPANA', 'AMPELIS', 'AMPELITES', 'AMPER', 'AMPEZO', 'AMPHERES', 'AMPHIARTHROSIS', 'AMPHIBIA', 'AMPHIBIOUS', 'AMPHIBLESTROIDES', 'AMPHIBOLOGY', 'AMPHIBRACHYS', 'AMPHICTYONS', 'AMPHIDROMIA', 'AMPHIDRYON', 'AMPHIMACER', 'AMPHIPNEUMA', 'AMPHIPGLES', 'AMPHIPOLIS', 'AMPHIPPII', 'AMPHIPROSTYLE', 'AMPHISCII', 'AMPHITANE', 'AMPHITHEATRE', 'AMPHITHURA', 'AMPHODONTA', 'AMPHOTIDES', 'AMPHTHILL', 'AMPLIATION', 'AMPLIFICATION', 'AMPURIAS', 'AMPUTATION', 'AMRAS', 'AMSEGETES', 'AMSTERDAM', 'AMULET', 'AMULETICS', 'AMURCA', 'AMY', 'AMYGDALA', 'AMYGDALAE', 'AMYGDALUS', 'AMYLON', 'AMYRBERIS', 'AMYRIS', 'ANA', 'ANABAO', 'ANABAPTISTON', 'ANABAPTISTS', 'ANABLEPS', 'ANABOLEUS', 'ANABROCHISMUS', 'ANACA', 'ANACALYPTERIA', 'ANACAMPSEROS', 'ANACAMPTERIA', 'ANACAMPTIC', 'ANACARDIUM', 'ANACATHARSIS', 'ANACATHARTICS', 'ANACEPHALALOSIS', 'ANACHIMOIJSSI', 'ANACHORET', 'ANACHRONISM', 'ANACLETERIA', 'ANACLINTERIA', 'ANACOLLEMA', 'ANACRISIS', 'ANACUICS', 'ANACYCLUS', 'ANADEMA', 'ANADIPLOSIS', 'ANADOSIS', 'ANADROMOUS', 'ANAESTHESIA', 'ANAGALLIS', 'ANAGARSKAYE', 'ANAGLYPHICE', 'ANAGNI', 'ANAGNOSTA', 'ANAGOGICAL', 'ANAGOGY', 'ANAGRAM', 'ANAGRAMMATIST', 'ANAGROS', 'ANALABE', 'ANALEMMA', 'ANALEPSIS', 'ANALEPTICS', 'ANALOGISM', 'ANALGISTA', 'ANALOGY', 'ANALYSIS', 'ANALYTIC', 'ANAMNESTICS', 'ANAMORPHOSIS', 'ANANAS', 'ANANCITIS', 'ANANTHOCYCLUS', 'ANAPEST', 'ANAPES', 'ANAPHORA', 'ANAPHRODISIA', 'ANAPLASIS', 'ANAPLEROSIS', 'ANAPLEROTICS', 'ANAPODOPHYLLUM', 'ANAPULA', 'ANAQUITO', 'ANARCHY', 'ANARICHAS', 'ANARRHINON', 'ANARRHOPIA', 'ANAS', 'ANASCAPTA', 'ANASARCA', 'ANASSA', 'ANASTALTICS', 'ANASTASIS', 'ANASTOCCHICGSIS', 'ANASTOMATICS', 'ANASTROPHE', 'ANATHEMA', 'ANATHEMATIZING', 'ANATICULA', 'ANATOLIA', 'ANATOMICAL', 'Y', 'C', 'M', 'K', 'E', 'BICEPS', 'S', 'VENTRICULUS', 'U', 'O', 'P', 'ANATORIA', 'ANATRON', 'ANAXAGORIA', 'ANAXIMANDRIANS', 'ANAZZO', 'ANBAR', 'ANBURY', 'ANCAMARES', 'ANCARANO', 'ANCASTER', 'ANCENIS', 'ANCESTORS', 'ANCESTREL', 'ANCHIALUS', 'ANCHILOPS', 'ANCHIO', 'ANCHOR', 'ANCHORAGE', 'ANCHORED', 'ANCHOVY', 'ANCHUSA', 'ANCHYLOBLEPHARON', 'ANCIENTLY', 'ANCLABRIS', 'ANCLAM', 'ANCLE', 'ANCOBER', 'ANCILIA', 'ANCONA', 'ANCONES', 'ANCONY', 'ANCRE', 'ANCRET', 'ANGUAH', 'ANGUBITUS', 'ANCYLE', 'ANCYLOGLGSSUM', 'ANCYLOSIS', 'ANCYROIDES', 'ANDALUSIA', 'ANDAMAN', 'ANDANAGAR', 'ANDANCE', 'ANDAYE', 'ANDELI', 'ANDENA', 'ANDENES', 'ANDERLECHT', 'ANDERNACHT', 'ANDERO', 'ANDES', 'ANDORINHA', 'ANDOVER', 'ANDRACHNE', 'ANDREJOS', 'ANDREW', 'ANDRIA', 'ANDROAS', 'ANDROGYNOUS', 'ANDROIDES', 'ANDROLEPSY', 'ANDROMEDA', 'ANDRON', 'ANDRONION', 'ANDROPOGON', 'ANDROS', 'ANDROSACE', 'ANDROMOTY', 'ANDRUM', 'ANEE', 'ANEGADA', 'ANELE', 'ANEMIUS', 'ANEMOMACHIA', 'ANEMOMETER', 'ANEMONE', 'ANEMOSCOPE', 'ANET', 'ANETHUM', 'ANEURISM', 'ANFA', 'ANGAMALA', 'ANGARIA', 'ANGASMAGO', 'ANGEIOGRAPHY', 'ANGEIOTOMY', 'ANGEL', 'ANGELICA', 'ANGELICS', 'ANGELITES', 'ANGELOLATRIA', 'ANGELOS', 'ANGELOT', 'ANGERBURG', 'ANGERMUND', 'ANGERONALIA', 'ANGERS', 'ANGHIERA', 'ANGINA', 'ANGIOSPERMIA', 'ANGLE', 'ANGLER', 'ANGLESEY', 'ANGLICISM', 'ANGLING', 'ANGOL', 'ANGOLA', 'ANQON', 'ANGGULESME', 'ANGOUMOIS', 'ANGOURA', 'ANGRA', 'ANGROGNA', 'ANGUILLA', 'ANGUINA', 'ANGUINEAL', 'ANGUIS', 'ANGULAR', 'ANGUS', 'ANGUSTICLAVIA', 'ANHALT', 'ANHELATIO', 'ANHINGA', 'ANHYDROS', 'ANI', 'ANIAN', 'ANJENGO', 'ANIENS', 'ANIL', 'ANIMACHA', 'ANIMADVERSION', 'ANIMAL', 'ANIMALS', 'ANIMALCULE', 'ANIMATED', 'ANIME', 'ANIMETTA', 'ANINGA', 'ANISCALPTOR', 'ANITERSOR', 'ANKER', 'ANN', 'ANNA', 'ANNAACIOUS', 'ANNABERG', 'ANNAGH', 'ANNALE', 'ANNALS', 'ANNAMABOE', 'ANNAN', 'ANNAPOLIS', 'ANNATES', 'ANNEALING', 'ANNE', 'ANNEXATION', 'ANNIENTED', 'ANNIHILATION', 'ANNIVERSARY', 'ANNOBON', 'ANNOISANCE', 'ANNOMINATION', 'ANNONA', 'ANNONAY', 'ANNOT', 'ANNOTATION', 'ANNUAL', 'ANNUALRENT', 'ANNULAR', 'ANNULATA', 'ANNULET', 'ANNULLING', 'ANNUNCIATION', 'ANOCTORON', 'ANOCISTI', 'ANODYNE', 'ANOLYMPIADS', 'ANOMALOUS', 'ANOMIA', 'ANOMOEANS', 'ANOMORHOMBOIDIA', 'ANONA', 'ANONIS', 'ANONYMOS', 'ANONYMOUS', 'ANOREXY', 'ANOUT', 'ANSA', 'ANSE', 'ANSER', 'ANSERES', 'ANSES', 'ANSLO', 'ANSPACH', 'AJMSPESSADES', 'ANT', 'ANTA', 'ANTACHATES', 'ANTAGONIST', 'ANTALGICS', 'ANTANAGOGE', 'ANTANISOPHYLLUM', 'ANTAPHRODISIACS', 'ANTARCTIC', 'ANTARES', 'ANTEAMBULONES', 'ANTECEDENT', 'ANTECEDENCE', 'ANTECESSOR', 'ANTECURSORES', 'ANTEDATE', 'ANTEDILUVIAN', 'ANTEGO', 'ANTELOPE', 'ANTEMURALE', 'ANTENNAE', 'ANTEPAGMENTA', 'ANTEPENULTIMA', 'ANTEPILANI', 'ANTEPILEPTICS', 'ANTEPOSITION', 'ANTEPREDICAMENTS', 'ANTEQUIERA', 'ANTERIDES', 'ANTERIOR', 'ANTEROTES', 'ANTESIGNANI', 'ANTESTATURE', 'ANTHAKIA', 'ANTHELIX', 'ANTHELMINTICS', 'ANTHEM', 'ANTHEMIS', 'ANTHERICUM', 'ANTHESPORIA', 'ANTHESTERIA', 'ANTHESTERION', 'ANTHIAS', 'ANTHOCEROS', 'ANTHOLOGION', 'ANTHOLOGY', 'ANTHOLYZA', 'ANTHONY', 'ANTHORISMUS', 'ANTHOS', 'ANTHOSPERMUM', 'ANTHOXANTHUM', 'ANTHRACIS', 'ANTHRACOSIS', 'ANTHRISCUS', 'ANTHROPOGRAPHY', 'ANTHROPOLATRE', 'ANTHROPOLATRIA', 'ANTHROPOLOGY', 'ANTHROPOMORHISM', 'ANTHROPOMORPHITES', 'ANTHROPOMORPHOUS', 'ANTHROPOPATHY', 'ANTHROPOSCOPY', 'ANTHROPOPHAGY', 'ANTROPOTHYSIA', 'ANTHUM', 'ANTHUS', 'ANTHYPOPHORA', 'ANTI', 'ANTIADES', 'ANTIDIAPHORISTS', 'ANTIBACGHIUS', 'ANTIBES', 'ANTICARDIUM', 'ANTICHRESIS', 'ANTICHRIST', 'ANTICHTHONES', 'ANTICOR', 'ANTICOSTE', 'ANTICUS', 'ANTIDICOMARIANITES', 'ANTIDOTE', 'ANTIENT', 'ANTIGONIA', 'ANTIHECTICS', 'ANTILLES', 'ANTILOGARITHM', 'ANTILOGY', 'ANTIMETABOLE', 'ANTIMONARCHICAL', 'ANTIMONIALS', 'ANTIMONIATED', 'ANTIMONY', 'ANTIOCH', 'ANTIOCHENUM', 'ANTIPATHY', 'ANTTPERISTASIS', 'ANTIPHONY', 'ANTIPODES', 'ANTIPOPE', 'ATIPTOSIS', 'ANTIQUARY', 'ANTIQUITY', 'ANTIRRHINUM', 'ANTISCII', 'ANTISEPTICS', 'ANTISTOECHON', 'ANTISTROPHE', 'ANTITHENAR', 'ANTITHETARIUS', 'ANTITRINITARIANS', 'ANTITYPE', 'ANTIVARI', 'ANTIVETRIA', 'ANTLER', 'ANTOECI', 'ANTONIO', 'ANTRIM', 'ANTWERP', 'ANTYX', 'ANUS', 'ANZAR', 'ANZERMA', 'ANZUGUI', 'AONIDES', 'AORIST', 'AOUST', 'APAMEA', 'APANAGE', 'APARINE', 'APATHY', 'APATIZATIO', 'APATURIA', 'APE', 'APELITES', 'APENE', 'APENNAGE', 'APENNINE', 'APENRADE', 'APEPSY', 'APER', 'APERIENTS', 'APERTURE', 'APETALOSE', 'APEX', 'APHACA', 'APHALRESIS', 'APHANES', 'APHELIUM', 'APHIS', 'APHORISM', 'APHRATIC', 'APHRODISIA', 'APHRODISIACS', 'APHRODITA', 'APHRODITES', 'APHRONITRE', 'APIARY', 'APIASTELLUM', 'APIASTER', 'APICES', 'APIOS', 'APIS', 'APIUM', 'APLUDA', 'APOBATERION', 'APOCALYPSE', 'APOCARPASUM', 'APOCHYLISMA', 'APOCRISIARIUS', 'APOCRUSTICS', 'APOCRYPHAL', 'APOCYNUM', 'APODICTICAL', 'APODOSIS', 'APODYTERIUM', 'APOGEE', 'APOLLINARIANS', 'APOLLINARIS', 'APOLLONIA', 'APOLOGUE', 'APOLOGY', 'APOMELI', 'APONEUROSIS', 'APOPHASIS', 'APOPHLEGMATIZANTS', 'APOPHTHEGM', 'APOPHYGE', 'APOPHYSIS', 'APOPLEXY', 'APORIA', 'APOSIOPESIS', 'APOSTACY', 'APOSTASIS', 'APOSTATE', 'APOSTHUME', 'APOSTOLICI', 'APOSTROPHE', 'APOTACTITES', 'APOTHECARY', 'APOTHEOSIS', 'APOTOME', 'APOZEM', 'APPARATUS', 'APPARENT', 'APPARITION', 'APPARITOR', 'APPARURA', 'APPAUMEE', 'APPEAL', 'APPEARANCE', 'APPELLANT', 'APPELLANTS', 'APPELLEE', 'APPENDIX', 'APPERCEPTION', 'APPERTINANCES', 'APPETITE', 'APPLAUSE', 'APPLE', 'APPLEBY', 'APPLICATE', 'APPLICATION', 'APPOGIATURA', 'APPOINTED', 'APPOINTMENT', 'APPORTIONMENT', 'APPOSITION', 'APPREHENSION', 'APPRYSING', 'APPROACH', 'APPROACHES', 'APPROACHING', 'APPROPRIATION', 'APPROXIMATION', 'APPUI', 'APPUXSE', 'APRICOT', 'APRIL', 'APRON', 'APSIS', 'APSYRTUS', 'APTE', 'APTERA', 'APTHANE', 'APTOTE', 'APUA', 'APULIA', 'APUS', 'APYCNOS', 'APYREXY', 'AQUA', 'AQUAPENDENTE', 'AQUARIANS', 'AQUARIUS', 'AQUARTIA', 'AQUATIC', 'AQUAVIVA', 'AQUELEIA', 'AQUEOUS', 'AQUIFOLIUM', 'AQUILA', 'AQUILEGIA', 'AQUILICIUM', 'AQUILINE', 'AQUINO', 'ARABET', 'ARABIA', 'ARABIAN', 'ARABICI', 'ARABIS', 'ARABISM', 'ARACK', 'ARACAN', 'ARACARI', 'ARACH', 'ARACHIS', 'ARACHNOIDES', 'ARAEOMETER', 'ARAEOTICS', 'ARAF', 'ARAFAT', 'ARAGON', 'ARAIGNEE', 'ARALIA', 'ARALIASTRUM', 'ARANEA', 'ARANEUS', 'ARANJUEZ', 'ARARAT', 'ARARAUNA', 'ARASH', 'ARAUCO', 'ARAXES', 'ARAYA', 'ARBELA', 'ARBITER', 'ARBITRARY', 'ARBITRATION', 'ARBITRATOR', 'ARBOIS', 'ARBON', 'ARBOUR', 'ARBUTUS', 'ARC', 'ARCADIA', 'ARCANUM', 'ARCBOUTANT', 'ARCH', 'ARCHANGEL', 'ARCHBISHOP', 'ARCHBUTLER', 'ARCHCHAMBERLAIN', 'ARCHCHANCELLOR', 'ARCHCHANTOR', 'ARCHCOUNT', 'ARCHDEACON', 'ARCHED', 'ARCHER', 'ARCHETYPE', 'ARCHEUS', 'ARCHILOCHIAN', 'ARCHIPELAGO', 'ARCHITECT', 'ARCHITRAVE', 'ARCHIVE', 'ARCHMARSHAL', 'ARCHOMTICI', 'ARCHTREASURER', 'ARCIGOVINO', 'ARCILEUTO', 'ARCION', 'ARCO', 'ARCTAPELIOTES', 'ARCTOPHYLAX', 'ARCTOPUS', 'ARCTOTIS', 'ARCTURUS', 'ARCTUS', 'ARCUATION', 'ARCYRIA', 'ARDENNE', 'ARDEVIL', 'ARDMAGH', 'ARDRES', 'ARE', 'AREA', 'AREBON', 'ARECA', 'AREMBERG', 'ARENA', 'ARENARIA', 'ARENATION', 'AREOLA', 'AREOPAGUS', 'AREQUIPPA', 'AREHA', 'ARETHUSA', 'ARGEMONE', 'AREZZO', 'ARGEA', 'ARGENT', 'ARGENTAN', 'ARGENTIERE', 'ARGENTINA', 'ARGENTON', 'ARGILLA', 'ARGO', 'ARGONAUTA', 'ARGONAUTS', 'ARGOS', 'ARGUIN', 'ARGUMENT', 'ARGUN', 'ARGYLESHIRE', 'ARGYROPOEIA', 'ARIANO', 'ARIANS', 'ARICA', 'ARIDAS', 'ARIDULLAM', 'ARIES', 'ARISARUM', 'ARISH', 'ARISI', 'ARISTA', 'ARISTIDA', 'ARISTOCRACY', 'ARISTOLOCHIA', 'ARISTOLUS', 'ARK', 'ARLEUX', 'ARLON', 'ARM', 'ARMADA', 'ARMAGH', 'ARMAGNAC', 'ARMAN', 'ARMED', 'ARMENIA', 'ARMENIACA', 'ARMENIANS', 'ARMENTIERS', 'ARMIERS', 'ARMIGER', 'ARMILLARY', 'ARMILUSTRIUM', 'ARMINIANS', 'ARMIRO', 'ARMOISIN', 'ARMORIAL', 'ARMORY', 'ARMOURER', 'ARMUYDEN', 'ARMY', 'ARNHEIM', 'ARNICA', 'ARNO', 'ARNOLDISTS', 'ARNOT', 'AROLEC', 'ARONA', 'ARONCHES', 'AROURA', 'ARQUATA', 'ARRACHEE', 'ARRAIGNMENT', 'ARRAN', 'ARRAS', 'ARREST', 'ARRESTMENT', 'ARRESTIS', 'ARRIERE', 'ARROE', 'ARRONDEE', 'ARSCHIN', 'ARSENIC', 'ARSMART', 'ART', 'ARTEMISIA', 'ARTERIOTOMY', 'ARTERY', 'ARTHRITIS', 'ARTHRODIA', 'ARTICLE', 'ARTICULATION', 'ARTIFICER', 'ARTIFICIAL', 'ARTOIS', 'ARUBA', 'ARUM', 'ARUNCUS', 'ARUNDO', 'ARUSPICES', 'ARYTHMUS', 'ARZILLA', 'AS', 'ASAFOETIDA', 'ASAPPES', 'ASARABACCA', 'ASARUM', 'ASBESTOS', 'ASCARIS', 'ASCENDANTS', 'ASCENDING', 'ASCENSION', 'ASCETICS', 'ASCHAFFENBURG', 'ASCIDIA', 'ASCII', 'ASCITES', 'ASCLEPIAD', 'ASCLEPIAS', 'ASCOLI', 'ASCOLIA', 'ASCUS', 'ASELLUS', 'ASH', 'ASHES', 'ASHFORD', 'ASIA', 'ASILUS', 'ASINUS', 'ASISIO', 'ASLANT', 'ASMER', 'ASPIS', 'ASPALATHUS', 'ASPARAGUS', 'ASPECT', 'ASPER', 'ASPERIFOLIATE', 'ASPERUGO', 'ASPERULA', 'ASPHALTUM', 'ASPHODELUS', 'ASPHURELATA', 'ASPIRATE', 'ASPIRATION', 'ASPLENIUM', 'ASPREDO', 'ASS', 'ASSAI', 'ASSASSIN', 'ASSAULT', 'ASSAY', 'ASSEMBLAGE', 'ASSESSOR', 'ASSEVERATION', 'ASSIDEANS', 'ASSIGN', 'ASSIGNEE', 'ASSIGNING', 'ASSIGNMENT', 'ASSIMILATION', 'ASSIS', 'ASSISER', 'ASSIZE', 'ASSOILZIE', 'ASSONANCE', 'ASSOS', 'ASSUMPSIT', 'ASSUMPTION', 'ASSURANCE', 'ASSUROR', 'ASSYRIA', 'ASSYTH', 'ASTER', 'ASTERABAT', 'ASTERIA', 'ASTERIAS', 'ASTERISCUS', 'ASTERISK', 'ASTEROCEPHALUS', 'ASTEROIDES', 'ASTEROPODIUM', 'ASTHMA', 'ASTI', 'ASTORGA', 'ASTOUR', 'ASTRACAN', 'ASTRAGAL', 'ASTRAGALOIDES', 'ASTRAGALUS', 'ASTRANTIA', 'ASTREA', 'ASTRENIUM', 'ASTRICTION', 'ASTRINGENTS', 'ASTROGNOSIA', 'ASTROITES', 'ASTROLABE', 'ASTROLOGY', 'ASTRONOMICALS', 'ASTROSCOPE', 'ASTRUM', 'ASTUR', 'ASTURIA', 'ASTYNOMI', 'ASYLUM', 'ASYMMETRY', 'ASYMPTOTE', 'ASYNDETON', 'ATARAXY', 'ATAXY', 'ATCHE', 'ATCHIEVEMENT', 'ATHAMAPULET', 'ATHAMANTA', 'ATHANASIA', 'ATHANATI', 'ATHANOR', 'ATHEIST', 'ATHELING', 'ATHENA', 'ATHENAA', 'ATHENAEUM', 'ATHENREE', 'ATHENS', 'ATHEROMA', 'ATHLONE', 'ATHOL', 'ATHOS', 'ATHY', 'ATINGUACU', 'ATLANTIDES', 'ATMOSPHERE', 'ATOM', 'ATONICS', 'ATONY', 'ATRACTYLIS', 'ATRAGENE', 'ATRAPHYXIS', 'ATRI', 'ATRICAPILLA', 'ATRICES', 'ATRICI', 'ATRIPLEX', 'ATROPHY', 'ATTACHING', 'ATTAINDER', 'ATTAINT', 'ATTAINTED', 'ATTELABUS', 'ATTENDANTS', 'ATTESTATION', 'ATTIRE', 'ATTITUDE', 'ATTOCK', 'ATTOLLENS', 'ATTORNEY', 'ATTOURNMENT', 'ATTRACTION', 'ATTRIBUTE', 'ATTRITION', 'AVA', 'AVALON', 'AVARIA', 'AVAST', 'AVAUNCHERS', 'AUBAGNE', 'AUBANE', 'AUBE', 'AUBIGNE', 'AUBIN', 'AUBURN', 'AUBUSSON', 'AUCTION', 'AUDE', 'AUDIANISM', 'AUDIENCE', 'AUDIT', 'AUDITOR', 'AVEIN', 'AVELLANA', 'AVELLANE', 'AVELLINO', 'AVENA', 'AVENACEOUS', 'AVENAGE', 'AVENOR', 'AVENS', 'AVENTURE', 'AVENUE', 'AVERAGE', 'AVERANCE', 'AVERDUPOIS', 'AVERIA', 'AVERNI', 'AVERRHOA', 'AVERHOISTS', 'AVERRUNCI', 'AYES', 'AVESNES', 'AUGMENT', 'AUGMENTATION', 'AUGRE', 'AUGSBURGH', 'AUGER', 'AUGURY', 'AUGUST', 'AUGUSTBURG', 'AUGUSTALES', 'AUGUSTALIA', 'AUGUSTINE', 'AUGUSTINS', 'AUGUSTINUS', 'AVIARY', 'AVICIENNA', 'AVIGLIANO', 'AVILA', 'AVILES', 'AVIS', 'AVISO', 'AULCESTER', 'AULIC', 'AULOS', 'AUMBRY', 'AUME', 'AUNE', 'AUNIS', 'AVOCATORIA', 'AVOIDANCE', 'AVON', 'AVOSETTA', 'AURA', 'AURACH', 'AURANCHES', 'AURANTIUM', 'AURATA', 'AURAY', 'AURELIA', 'AURELIANA', 'AURENGABAD', 'AUREOLA', 'AUREUS', 'AURICH', 'AURICHALCUM', 'AURICLE', 'AURICULA', 'AURIGA', 'AURILLAC', 'AURIPIGMENTUM', 'AURISCALPIUM', 'AURORA', 'AURUM', 'AUSPEX', 'AUSTRAL', 'AUTHENTIC', 'AUTHOR', 'AUTHORITY', 'AUTOGRAPH', 'AUTUMN', 'AUTUN', 'AUVERGNE', 'AUX', 'AUXERRE', 'AUXONE', 'AWARD', 'AWME', 'AWN', 'AWNING', 'AXBRIDGE', 'AXEL', 'AXILLA', 'AXIOM', 'AXIOPOLIS', 'AXIS', 'AXMINSTER', 'AXUMA', 'AXUNGIA', 'AXYRIS', 'AYAMONTE', 'AYENIA', 'AYRY', 'AZAB', 'AZALEA', 'AZAMOR', 'AZAROLUS', 'AZARUM', 'AZAZEL', 'AZED', 'AZERADACH', 'AZIMUTH', 'AZONI', 'AZOPH', 'BABELMANDEL', 'BABOON', 'BACALIAU', 'BACCEM', 'BACCHANALIA', 'BACCHARAC', 'BACCHARIS', 'BACCHIUS', 'BACHARIS', 'BACHIAN', 'BACHU', 'BACK', 'BACULE', 'BACULOMETRY', 'BADAJOX', 'BADEN', 'BADENWEILLER', 'BADGER', 'BADIANE', 'BADIS', 'BALTUS', 'BAFFETAS', 'BAG', 'BAGDAT', 'BAGGAGE', 'BAGNIALUCK', 'BAGNIO', 'BAGPIPE', 'BAGRE', 'BAGUETTE', 'BAHAMA', 'BACHAREN', 'BAHIR', 'BAHUS', 'BAJA', 'BAJADOR', 'BAIL', 'BAILIAGE', 'BAILIE', 'BAILIFF', 'BAILIWICK', 'BAILO', 'BAIOCAO', 'BAIRAM', 'BAIT', 'BAITING', 'BAJULUS', 'BAKAL', 'BAKER', 'BAKEWELL', 'BAKING', 'BALAMBUAN', 'BALANCE', 'BALANGIAR', 'BALANUS', 'BALAUSTIA', 'BALBASTRO', 'BALBEC', 'BALCHA', 'BALCONY', 'BALDACHIN', 'BALDIVIA', 'BALDNESS', 'BALDOC', 'BALE', 'BALI', 'BALISORE', 'BALISTES', 'BALK', 'BALKE', 'BALL', 'BALLAD', 'BALLANCE', 'BALLANGER', 'BALLAST', 'BALLASTAGE', 'BALLERUS', 'BALLIAGE', 'BALLICONNEL', 'BALTIMORE', 'BALLISHANNON', 'BALLISTES', 'BALLOON', 'BALLOTA', 'BALLS', 'BALLUSTER', 'BALLUSTRADE', 'BALM', 'BALNEUM', 'BALOTADE', 'BALSAM', 'BALSAMICS', 'BALSAMINA', 'BALSAMITA', 'BALSARA', 'BAMBERG', 'BAMBOE', 'BAMFF', 'BAMPTON', 'BAN', 'BANBURY', 'BANC', 'BANCA', 'BANCOCK', 'BAND', 'BANDA', 'BANDAGE', 'BANDALEER', 'BANDELET', 'BANDERET', 'BANDEROLE', 'BANDITTI', 'BANDO', 'BANDORA', 'BANIANA', 'BANIANS', 'BANILLA', 'BANISFIMENT', 'BANK', 'BANKAFALET', 'BANKER', 'BANN', 'BANNAGHER', 'BANNERET', 'BANNISTERIA', 'BANNIMUS', 'BANNOCK', 'BANTAM', 'BANTON', 'BANTRY', 'BANZA', 'BAPAUME', 'BAPTISM', 'BAPTISTS', 'BAPTISTERY', 'BAR', 'BARABINSKOI', 'BARACKS', 'BARACOA', 'BARANCA', 'BARANGI', 'BARATHRUM', 'BARB', 'BARBA', 'BARBACAN', 'BARBADOES', 'BARBARA', 'BARBARIAN', 'BARBARISM', 'BARBARY', 'BARBE', 'BARBED', 'BARBELICOTAE', 'BARBER', 'BARBERINO', 'BARBERRY', 'BARBICAN', 'BARBLE', 'BARBLES', 'BARBOTINE', 'BARBORA', 'BARBUDA', 'BARBUS', 'BARBUSINSKOI', 'BARBY', 'BARBYLA', 'BARCA', 'BARCALON', 'BARCELONA', 'BARCELOS', 'BARDANA', 'BARDED', 'BARDELLE', 'BARDESANISTS', 'BARDEWICK', 'BARDS', 'BARDT', 'BAREITH', 'BARFLEUR', 'BARILLIA', 'BARJOLS', 'BARIPICNI', 'BARK', 'BARKAN', 'BARKARY', 'BARKHAMSTEAD', 'BARKING', 'BARKLEY', 'BARKWAY', 'BARLEDUC', 'BARLEMONT', 'BARLETTA', 'BARLEY', 'BARM', 'BARNABITES', 'BARNACLE', 'BARNACLES', 'BARNET', 'BARNSTABLE', 'BAROCHE', 'BAROCO', 'BAROMETER', 'BARON', 'BARONET', 'BARONY', 'BAROSCOPE', 'BARRA', 'BARRACAN', 'BARRACKS', 'BARRATOR', 'BARREL', 'BARRI', 'BARRICADE', 'BARRIER', 'BARRISTER', 'BARROW', 'BARRULET', 'BARRULY', 'BARRY', 'BARTER', 'BARTQN', 'BARTSIA', 'BARUA', 'BARULES', 'BARUTH', 'BARYTONUM', 'BASALTES', 'BASANUS', 'BASARUCO', 'BASELLA', 'BASEMENT', 'BASHAW', 'BASIENTO', 'BASILIC', 'BASILICA', 'BASILICATE', 'BASILICI', 'BASILICON', 'BASILICS', 'BASILICUS', 'BASILIDIANS', 'BASILIGOROD', 'BASILISCUS', 'BASILISK', 'BASIOGLOSSUS', 'BASIS', 'BASKET', 'BASKIRI', 'BASON', 'BASQUE', 'BASS', 'BASSAIM', 'BASSEE', 'BASSEMPOIN', 'BASSET', 'BASSOON', 'BASSORA', 'BASTERNA', 'BASTIMENTOS', 'BASSTOIGNE', 'BASTONADE', 'BAT', 'BATAVIA', 'BATCHELOR', 'BATH', 'BATHING', 'BATHMUS', 'BATICALA', 'BATIS', 'BATMAN', 'BATON', 'BATRACHITES', 'BATRACHOMYOMACHIA', 'BATTA', 'BATTALIA', 'BATTALION', 'BATTEL', 'BATTEN', 'BATTENBURY', 'BATTERY', 'BATTLE', 'BATTLEMENTS', 'BATEOLOGY', 'BATTON', 'BATTORY', 'BATTUS', 'BATUECOS', 'BAVARIA', 'BAUHINIA', 'BAVINS', 'BAUM', 'BAURAC', 'BAUTZEN', 'BAWLING', 'BAY', 'BAYEUX', 'BAYONET', 'BAYONNE', 'BAYS', 'BAZAR', 'BAZAS', 'BAZAT', 'BDELLIUM', 'BEACON', 'BEACONAGE', 'BEACONFIELD', 'BEADLE', 'BEAGLE', 'BEAK', 'BEAKED', 'BEAKING', 'BEAM', 'BEAN', 'BEAR', 'BEARALSTON', 'BEARD', 'BEARER', 'BEARERS', 'BEARING', 'BEARN', 'BEAT', 'BEATIFICATION', 'BEATING', 'BEATS', 'BEAUCAIRE', 'BEAVER', 'BEAUGENCY', 'BEAUJEU', 'BEAUJOLOIS', 'BEAUMARIS', 'BEAUMONT', 'BEAUTY', 'BEAUVIN', 'BEAUVOIR', 'BEAUVOIS', 'BECAH', 'BECALM', 'BECANER', 'BECCABUNGA', 'BECHICS', 'BECHIN', 'BECKENRIEDT', 'BECZAU', 'BED', 'BEDAL', 'BEDEREPE', 'BEDFORD', 'BEDOUINS', 'BEDWIN', 'BEECH', 'BEELE', 'BEER', 'BEESTING', 'BEET', 'BEETLE', 'BEFORT', 'BEG', 'BEGGAR', 'BEGHARDI', 'BEGLERBEG', 'BEGONIA', 'BEGUARDI', 'BEGUINS', 'BEHEADING', 'BEHEN', 'BEJA', 'BEICHLINGEN', 'BEILA', 'BEILSTEIN', 'BEIZA', 'BELAC', 'BELAY', 'BELCASTRO', 'BELCOE', 'BELEM', 'BELEMNITES', 'BELEZERO', 'BELFAST', 'BELFRY', 'BELGOROD', 'BELGRADE', 'BELIEF', 'BELL', 'BELLADONA', 'BELLCLAIRE', 'BELLE', 'BELLENTS', 'BELLESM', 'BELLEY', 'BELLEVILLE', 'BELLIDIASTRUM', 'BELLIDIOIDES', 'BELLIS', 'BELLEISLE', 'BELLON', 'BELLONARII', 'BELLONIA', 'BELLOWING', 'BELLOWS', 'BELLY', 'BELOAR', 'BELONE', 'BELT', 'BELTURBET', 'BELTZ', 'BELVIDERE', 'BEMA', 'BEMBER', 'BEMSTER', 'BENAVARRE', 'BENBECULA', 'BENCH', 'BENCHERS', 'BENCOOLEN', 'BEND', 'BENDER', 'BENDIDIA', 'BENDING', 'BENDITTO', 'BENDLET', 'BENDS', 'BENDY', 'BENE', 'BENCAPED', 'BENEDICITE', 'BENEDICTINS', 'BENEDICTION', 'BENEDICTUS', 'BENEFICE', 'BENESCHAW', 'BENEVENTE', 'BENEVENTO', 'BENEVOLENCE', 'BENFIELD', 'BENGA', 'BENGAL', 'BENGUELA', 'BENJAMIN', 'BENJAEL', 'BENIN', 'BENSHEIM', 'BENTHEIM', 'BENZOIN', 'BERAMS', 'BERAR', 'BERAUN', 'BERAY', 'BERBERII', 'BERBERIS', 'BERCHEROIT', 'BERENGARIANS', 'BERENICE', 'BERESOWA', 'BERG', 'BERGAMO', 'BERGAMOT', 'BERGEN', 'BERGERACK', 'BERGZABERN', 'BERKSHIRE', 'BERLIN', 'BERME', 'BERMUDIANA', 'BERN', 'BERNARDIA', 'BERNARDINES', 'BERNBURG', 'BERNICOLA', 'BERNICLE', 'BERSELLO', 'BERTH', 'BERVY', 'BERWICK', 'BERYL', 'BESAILE', 'BESANCON', 'BESANT', 'BESIERS', 'BESLERIA', 'BESORCH', 'BESSARABIA', 'BESSY', 'BESTAIL', 'BESTIARII', 'BESTRICIA', 'BETA', 'BETANCOS', 'BETEL', 'BETELFAGUI', 'BETHLEHEM', 'BETHLEHEMITES', 'BETHUNE', 'BETLIS', 'BETONY', 'BETROTHMENT', 'BETUE', 'BETULA', 'BEVECUM', 'BEVEL', 'BEVELAND', 'BEVERLY', 'BEVILE', 'BEUTHEN', 'BEWDLEY', 'BEWITS', 'BEXOQUILLO', 'BEY', 'BEYLAN', 'BEZANS', 'BEZANTLER', 'BEZOAR', 'BEZOARDIC', 'BIA', 'BIAFAR', 'BIALOGOROD', 'BIALGRODKO', 'BIARU', 'BIAS', 'BIATHANATI', 'BIBERSBERG', 'BIBLE', 'BIBLIOTHECA', 'BIBLISTS', 'BIBRACH', 'BICANER', 'BICAUDA', 'BICE', 'BICHET', 'BICLINIUM', 'BICORNIS', 'BIDDER', 'BIDENTAL', 'BIDENTALES', 'BIDON', 'BIEL', 'BIELSKI', 'BIER', 'BIENNE', 'BIGA', 'BIGAMY', 'BIGEN', 'BIGGLESWADE', 'BIGHT', 'BIGNESS', 'BIGNONIA', 'BIGOREE', 'BIGOT', 'BILANDER', 'BILATERAL', 'BILBOWS', 'BILE', 'BILEDULGERID', 'BILIMBI', 'BILINGUIS', 'BILOUS', 'BILL', 'BILLARD', 'BILLERECA', 'BILLET', 'BILLETING', 'BILLIARDS', 'BILLITON', 'BILLON', 'BILSDON', 'BILSEN', 'BIMEDIAL', 'BIMINI', 'BINDBROKE', 'BINCH', 'BIND', 'BINDING', 'BISHOPING', 'BISHOPRIC', 'BISIGNANO', 'BISKET', 'BISMILLA', 'BISMUTH', 'BISNAGER', 'BISOCHI', 'BISOMUM', 'BISON', 'BISQUET', 'BISSACRAMENTALES', 'BISSECTION', 'BISSEXTILE', 'BISTI', 'BISTORTA', 'BISTOURY', 'BISTRE', 'BIT', 'BITCH', 'BITONTO', 'BITTACLE', 'BITTER', 'BITTERN', 'BITUMEN', 'BIVALVES', 'BIVENTER', 'BIUMBRES', 'BIXA', 'BIZARRO', 'BIZOCHI', 'BIZU', 'BLACKS', 'BLADDER', 'BLAIN', 'BLAIRIA', 'BLAKEA', 'BLAMONT', 'BLANCHING', 'BLANFORD', 'BLANK', 'BLANKENBURG', 'BLANKET', 'BLANOS', 'BLANQUILLE', 'BLARE', 'BLAREGNIES', 'BLASIA', 'BLASPHEMY', 'BLAST', 'BLASTING', 'BLATTA', 'BLATTARIA', 'BLAVET', 'BLAWBUREN', 'BLAYE', 'BLAZE', 'BLAZONING', 'BLEA', 'STEEPING', 'BLECHINGLY', 'BLECHNUM', 'BLEEDING', 'BLEKING', 'BLEMYES', 'BLEND', 'BLENHEIM', 'BLENNIUS', 'BLEYME', 'BLIGHT', 'BLINDS', 'BLINDNESS', 'BLISTER', 'ELITE', 'BLITH', 'BLOATING', 'BLOCK', 'BLOCKADE', 'BLOIS', 'BLOMARY', 'BLONIC', 'BLOOD', 'BLOOM', 'BLOW', 'BLOWING', 'BLUE', 'BLUNDERBUSS', 'BLUSHING', 'BOA', 'BOAR', 'BOARD', 'BOAT', 'BOATSWAIN', 'BOB', 'BOBARTIA', 'BOBBIN', 'BOBBING', 'BOBBIO', 'BOCA', 'BOCARDO', 'BOCCONIA', 'BOCE', 'BOCHARA', 'BOCKHOLT', 'BODKIN', 'BODY', 'BOEDROMIA', 'BOERHAAVIA', 'BOESCHOT', 'BOGDOI', 'BGGOMILI', 'BOGOTO', 'BOHEA', 'BOHEMIA', 'BOHOL', 'BOJANO', 'BOIGUACU', 'BOIL', 'BOILING', 'BOIQUIRA', 'BOISLEDUC', 'BOKHARAH', 'BOLETUS', 'BOLINGBROKE', 'BOLISLAW', 'BOLLARDS', 'BOLLITO', 'BOLSLAW', 'BOLSWAERT', 'BOLT', 'BOLTON', 'BOLUS', 'BOLZAS', 'BOMAL', 'BOMB', 'BOMBARD', 'BOMBARDIER', 'BOMBARDO', 'BOMBASINE', 'BOMBAST', 'BOMBAY', 'BOMBUS', 'BOMENE', 'BOMMEL', 'BOMONICI', 'BON', 'BONA', 'BONAIRE', 'BONAROTA', 'BONASIUS', 'BONAVENTURA', 'BONAVISTA', 'BOND', 'BONDAGE', 'BONDOUR', 'BONDUC', 'BONE', 'BONGO', 'BONIFACIO', 'BONNET', 'BONNEVILLE', 'BONNY', 'BONTIA', 'BONZES', 'BOOK', 'PROB', 'T', 'BOOKSELLER', 'BOOKING', 'BOOM', 'BOOMING', 'BOOPHTHALMUS', 'BOOPS', 'BOOTES', 'BOOTY', 'BOPPART', 'BOQUINIANS', 'BORA', 'BORAGO', 'BORASSUS', 'BORAX', 'BORBONIA', 'BORCH', 'BORCHLEON', 'BORDAT', 'BORDER', 'BORDURE', 'BORE', 'BOREAL', 'BOREAS', 'BOREASMI', 'BOREEL', 'BORGO', 'BORIA', 'BORIQUE', 'BORISSOW', 'BORISTHENES', 'BORMIO', 'BORNE', 'BORNEO', 'BORNHOLM', 'BOROUGH', 'BOROZAIL', 'BORRELLISTS', 'BORSALO', 'BOS', 'BOSCAGE', 'BOSCHETTO', 'BOSEA', 'BOSPHORUS', 'BOSQUETS', 'BOSS', 'BOSSAGE', 'BOSSINEY', 'BOSSORA', 'BOSSUPT', 'BOSTANGIS', 'BOSTON', 'BOSWORTH', 'BOTANIST', 'BOTANOPHILI', 'BOTATRISSA', 'BOTE', 'BOTELESS', 'BOTHNIA', 'BOTTLE', 'BOTTOM', 'BOTTOMRY', 'BOTWAR', 'BOTZEN', 'BOTZENBOURG', 'BOVA', 'BOUGE', 'BOUILLON', 'BOVINES', 'BOVINO', 'BOVISTA', 'BOULETTE', 'BOULOGNE', 'BOULTINE', 'BOUNCE', 'BOUNTY', 'BOURBON', 'BOURBOURG', 'BOURDINES', 'BOURG', 'BOURGES', 'BOURGET', 'BOURIGNONISTS', 'BOURO', 'BOUT', 'BOUTANT', 'BOUVILLON', 'BOW', 'BOWE', 'BOWELS', 'BOWER', 'BOWESS', 'BOWGE', 'BOWLING', 'BOWSE', 'BOWYERS', 'BOX', 'BOXBERG', 'BOXTEL', 'BOXTHUDE', 'BOYAR', 'BOYAU', 'BOYER', 'BOYES', 'BOYNE', 'BOZOLO', 'BRABANT', 'BRABEUTES', 'BRACCIANO', 'BRACED', 'BRACELET', 'BRACHLEUS', 'BRACHIONUS', 'BRACHIUM', 'BRACHMINS', 'BRACHYGRAPHY', 'BRACHYPTERA', 'BRACHYPYRENIA', 'BRACHYTELOSTYLA', 'BRACKET', 'BRACKLEY', 'BRACTEA', 'BRADFIELD', 'BRADFORTH', 'BRADNICH', 'BRADYPUS', 'BRAG', 'BRAGGET', 'BRAIL', 'BRAILOW', 'BRAIN', 'BRAINTREE', 'BRAMA', 'BRAMBER', 'BRAMBLE', 'BRAMPTON', 'BRAN', 'BRANCH', 'BRANCHER', 'BRANCHON', 'BRANDEIS', 'BRANDENBURG', 'BRANDON', 'BRANDRITH', 'BRANDY', 'BRANLIN', 'BRANSKA', 'BRASIDIA', 'BRASIL', 'BRASSE', 'BRASSICAVIT', 'BRAVA', 'BRAULS', 'BRAUNAU', 'BRAURONIA', 'BRAWN', 'BRAY', 'BRAYLE', 'BRAZED', 'BRAZEN', 'BRAZING', 'BRAZZA', 'BREACH', 'BREAD', 'BREADTH', 'BREAKING', 'BREAM', 'BREAST', 'BREATH', 'BREATHING', 'BRECHIN', 'BRECON', 'BREDA', 'BREECHES', 'BREECHINGS', 'BREEDING', 'BREEZE', 'BREIDEWICK', 'BREMEN', 'BREMERVHOIDE', 'BREMGARTEN', 'BREMINGHAM', 'BRENBERG', 'BRENT', 'BRENTA', 'BRENTFORD', 'BRENTWOOD', 'BREPHOTROPHIUM', 'BRESCIA', 'BRESELLO', 'BRESICATE', 'BRESLAW', 'BRESMA', 'BRESSE', 'BRESSICI', 'BRESSVIRE', 'BREST', 'BRESTE', 'BRETESSE', 'BRETON', 'BRETVEIL', 'BREUBERG', 'BREVE', 'BREVET', 'BREVIARY', 'BREVIATOR', 'BREVIER', 'BREVORDT', 'BREWER', 'BREYNIA', 'BRIAR', 'BRIBE', 'BRICIANI', 'BRIDE', 'BRIDEGROOM', 'BRIDEWELL', 'BRIDGE', 'BRIDLE', 'BRIDON', 'BRIDPORT', 'BRIEF', 'BRIEG', 'BRIENNOIS', 'BRIEUX', 'BRIGADE', 'BRIGANDINE', 'BRIGANTINE', 'BRIGG', 'BRIGHTELMSTONE', 'BRIHUEGA', 'BRILL', 'BRILLIANT', 'BRIN', 'BRINDISI', 'BRINE', 'BRION', 'BRIONES', 'BRIONI', 'BRISAC', 'BRISGOW', 'BRISTLE', 'BRISTOL', 'BRITAIN', 'BRITE', 'BRITTLENESS', 'BRIXEN', 'BRIZA', 'BRIZE', 'BROADALBIN', 'BROCADE', 'BROCATEL', 'BROCCOLI', 'BROCK', 'BROD', 'BRODERA', 'BRODIUM', 'BROGLIO', 'BROITSCHIA', 'BROKER', 'BROMELIA', 'BROMSGROVE', 'BROMLEY', 'BROMOIDES', 'BROMUS', 'BRONCHIA', 'BRONCHUS', 'BRONTIUM', 'BRONZE', 'BRONZES', 'BRONZING', 'BROOD', 'BROODING', 'BROOK', 'BROOM', 'BROOMING', 'BROTHER', 'BROUCK', 'BROUERSHAVEN', 'BROW', 'BROWALLIA', 'BROWN', 'BRUCA', 'BRUCHSAL', 'BRUCHUS', 'BRUGES', 'BRUISE', 'BRUMALIA', 'BRUNELLA', 'BRUNIA', 'BRUNSBUTTEL', 'BRUNSFELSIA', 'BRUNSWICK', 'BURNTISLAND', 'BRUSH', 'BRUSSELS', 'BRUTE', 'BRUTON', 'BRYGMUS', 'BRYONIA', 'BRYUM', 'BUBALIS', 'BUBON', 'BUBONOCELE', 'BUCANEPHYLLON', 'BUCARDIA', 'BUCARIZA', 'BUCCAL', 'BUCCANEERS', 'BUCCARI', 'BUCCINA', 'BUCCO', 'BUCCULA', 'BUCENTAUR', 'BUCEROS', 'BUCH', 'BUCHAN', 'BUCHNERA', 'BUCHAREST', 'BUCHORN', 'BUCK', 'BUCKING', 'BUCKINGHAM', 'BUCKLE', 'BUCKLER', 'BUCKNHAM', 'BUCKRAM', 'BUCKSTALL', 'BUCOLIC', 'BUD', 'BUDA', 'BUDDESDALE', 'BUDDLE', 'BUDDLEIA', 'BUDDLING', 'BUDINGEN', 'BUDOA', 'BUDWEIS', 'BUFF', 'BUFFALO', 'BUFFOON', 'BUFO', 'BUFONIA', 'BUG', 'BUGEN', 'BUGEY', 'BUGGASINS', 'BUGGERS', 'BUGGERER', 'BUGGERY', 'BUGIA', 'BUGIE', 'BUGLE', 'BUGULA', 'BUHL', 'BUILDING', 'BULAC', 'BULAFO', 'BULB', 'BULBOCASTANUM', 'BULBOCODIUM', 'BULGAR', 'BULGARIA', 'BULIMY', 'BULL', 'BULLA', 'BULLEN', 'BULLET', 'BULLINGBROKE', 'BULLION', 'BULLOCK', 'BULTEL', 'BULWARK', 'BUMICILLI', 'BUNGAY', 'BUNGO', 'BUNIAS', 'BUNDLE', 'BUNIUM', 'BUNK', 'BUNTING', 'BUNTINGFORD', 'BUNTZLAU', 'BUONO', 'BUOY', 'BUOYANT', 'BUPHAGA', 'BUPHTHALMUM', 'BUPLEURUM', 'BUPRESTIS', 'BUQUOI', 'BUR', 'BURBAS', 'BURDEN', 'BURDO', 'BURDOCK', 'BURDUGNO', 'BUREN', 'BURFQRD', 'BURG', 'BURGA', 'BURGAGE', 'BURGEON', 'BURGESS', 'BURGH', 'BURGHMASTER', 'BURGHMOTE', 'BURGLARY', 'BURGLES', 'JBURGOMASTER', 'BURGOO', 'BURGOS', 'BURGOW', 'BURGUNDY', 'BURIAL', 'BURICK', 'BURLESQUE', 'BURLINGTON', 'BURMANNIA', 'BURN', 'BURNET', 'BURNHAM', 'BURNING', 'BURNISHER', 'BURNISHING', 'BURNLEY', 'BURR', 'BURRE', 'BURREGREG', 'BURROCK', 'BURROW', 'BURROWS', 'BURSA', 'BURSAR', 'BURSE', 'BURSTEN', 'BURTON', 'BURY', 'BUSH', 'BUSHEL', 'BUSKIN', 'BUST', 'BUSTARD', 'BUSTUARJI', 'BUSTUM', 'BUTCHER', 'BUTE', 'BUTLER', 'HUTMENTS', 'BUTOMUS', 'BUTRINTO', 'BUTTERFLY', 'BUTTERIS', 'BUTTERY', 'BUTTON', 'BUTZAW', 'BUXTON', 'BUYS', 'BUZZARD', 'BYGHOF', 'BYRLAW', 'BYSSUS', 'BZO', 'CAB', 'CABALIST', 'CABALLARIA', 'CABALLEROS', 'CABBAGE', 'CABBAGING', 'CABBALA', 'CABBALISTS', 'CABECA', 'CABENDA', 'CABIN', 'CABIRI', 'CABIRIA', 'CABLAN', 'CABLE', 'CABOCHED', 'CABOLETTO', 'CABURNS', 'CACAGOGA', 'CACALIA', 'CACALIANTHEMUM', 'CACAO', 'CACERES', 'CACHAN', 'CACHAO', 'CACHECTIC', 'CACHEMIRE', 'CACHEXY', 'CACHRYS', 'CACTUS', 'CAD', 'CADARI', 'CADE', 'CADENCE', 'CADENE', 'CADET', 'CADI', 'CADILESCHER', 'CADIZ', 'CADIZADELITES', 'CADMIA', 'CADORIN', 'CADRITES', 'CADSAND', 'CADUCEUS', 'CADUS', 'CALCILIA', 'CEMENTATION', 'CAEN', 'CAERFILLT', 'CAERITES', 'CAERLEON', 'CAERMARTHEN', 'CAERWIS', 'GVESTUS', 'CAFFA', 'CAFFILA', 'CAFFRARIA', 'CAG', 'CAGE', 'CAGLI', 'CAGLIARI', 'CAGUI', 'CAHLO', 'CAHORS', 'CAHYS', 'CAJANABURG', 'CAJAZZO', 'CAIFUM', 'CAIMACAN', 'CAIMAN', 'GAINIANS', 'CAINS', 'CAISSON', 'CAKILE', 'CALABA', 'CALABRIA', 'CALADE', 'CALAHORRA', 'CALAIS', 'CALAMINARIS', 'CALAMINT', 'CALAMITA', 'CALAMUS', 'CALANGAY', 'CALASH', 'CALASIRIS', 'CALATAJUD', 'CALATHUS', 'CALATOR', 'CALATRAVA', 'CALCADA', 'CALCANEUM', 'CALCAR', 'CALCARIOUS', 'CALCEARIUM', 'CALCEOLUS', 'CALCINATION', 'CALCITRAPA', 'CALCULUS', 'CALDARIUM', 'CALEFACTION', 'CALENDAR', 'CALENDER', 'CALENDS', 'CALENDULA', 'CALF', 'CALIACA', 'CALIBER', 'Q', 'CALICUT', 'CALIDUCT', 'CALIN', 'CALIPH', 'CALIXTINS', 'CALKA', 'CALKINS', 'CALLS', 'CALLA', 'CALLABAS', 'CALLAO', 'CALLEN', 'CALLIFORNIA', 'CALLIGONUM', 'CALLIGRAPHUS', 'CALLIONYMUS', 'CALLISTEA', 'CALLUS', 'CALM', 'CALMAR', 'CALMUCKS', 'CALOPHYLLUM', 'CALOTTE', 'CALPE', 'CALQUING', 'CALTHA', 'CALVARIA', 'CALVINISTS', 'CALUMET', 'CALX', 'CALYPTRA', 'CALYX', 'CAM', 'CAMAIA', 'CAMAIEU', 'CAMALDULIANS', 'CAMARA', 'CAMAYES', 'CAMBLET', 'CAMBODIA', 'CAMBRAY', 'CAMBRICKS', 'CAMBRIDGE', 'CAMEL', 'CAMELFORD', 'CAMELIA', 'CAMELOPARDALIS', 'CAMELUS', 'CAMERARIA', 'CAMERATED', 'GAMERINO', 'CAMERLINGO', 'GAMERONIANS', 'CAMERY', 'CAMP', 'CAMPAGNA', 'CAMPAIGN', 'CAMPANIA', 'CANPANIFORM', 'CAMPANULA', 'CAMPDEN', 'CAMPEACHY', 'CAMPEN', 'CAMPHOR', 'CAMPION', 'CAMPOIDES', 'CAMPREDON', 'CAMUS', 'CAN', 'CANADA', 'CANARIES', 'CANARY', 'CANCALE', 'CANCELIER', 'CANCELLI', 'CANCER', 'CANCHERIZANTE', 'CANDAROR', 'CANDIDATE', 'GANDISH', 'CANDLE', 'CANDLEMAS', 'CANDLESTICK', 'CANDY', 'CANE', 'CANEA', 'CANEPHORJE', 'CANEPHORIA', 'GANG', 'CANICULA', 'CANNA', 'CANNABIS', 'CANNACORUS', 'CANNON', 'CANOE', 'CANON', 'CANONESS', 'CANONIZATION', 'CANONRY', 'CANOPUS', 'CANTABRICA', 'CANTALIVERS', 'CANTAR', 'CANTATA', 'CANTERBURY', 'CANTHARIS', 'CANTICLES', 'CANTO', 'CANTONING', 'CANTRED', 'CANVAS', 'CANATUS', 'CANZONE', 'CANZONETTA', 'CAP', 'CAPE', 'CAPELLA', 'CAPER', 'CAPERQUIN', 'CAPHAR', 'CAPIAS', 'CAPIGI', 'CAPITAL', 'CAPITANATE', 'CAPITANIA', 'CAPITATION', 'CAPITOL', 'CAPITOUL', 'CAPITULATION', 'GAPNOIDES', 'CAPON', 'GAPPACIA', 'CAPRAIA', 'CAPRARIA', 'CAPRI', 'CAPRICORN', 'CAERIFOLIUM', 'CAPRIOLES', 'CAPSICUM', 'CAPSTAN', 'CAPSULE', 'CAPTAIN', 'CAPTION', 'CAPTIVITY', 'CAPUA', 'CAPUCHINS', 'CARABINE', 'CARABINEERS', 'CARABUS', 'CARACOL', 'CARACOLI', 'CARACT', 'CARAGROUTH', 'CARAGUATA', 'CARAITES', 'CARAMANIA', 'CARAMANICO', 'CARAMANTA', 'CARANNA', 'CARAPO', 'CARAVAN', 'CARAVANSERA', 'CARAVANSERASKIER', 'CARAWAY', 'CARBUNCLE', 'CARCHARIAS', 'CARCASSE', 'CARCASSONE', 'CARCERES', 'CARD', 'CARDS', 'CARDAMINDUM', 'CARDAMINE', 'CARDAMOM', 'CARDIACA', 'CARDIALGIA', 'CARDIFF', 'CARDIGAN', 'CARDINAL', 'CARDIUM', 'CARDONNA', 'CARDUEL', 'CARDUELIS', 'CARDUUS', 'CAREENING', 'CARELSCROON', 'CARENTAN', 'CARET', 'CARETTA', 'CAREX', 'CARGADORS', 'CARGAPOL', 'CARIAMA', 'CARIBBIANA', 'CARICA', 'CARICATURA', 'CARICOUS', 'CARIES', 'CARIGNAN', 'CARIGUE', 'CARINTHIA', 'CARIONOLA', 'CARIPI', 'CARLINA', 'CARLINE', 'CARLINGS', 'CARLISLE', 'CARLOCK', 'CARLOWITZ', 'CARLSTADT', 'CARMAGNIOL', 'GARMENTALIA', 'CARMINATIVES', 'CARMINE', 'CARMONA', 'CARNARVON', 'CARNELIAN', 'CARNERO', 'CARNIOLA', 'CARNIVAL', 'CAROLINA', 'CAROLSTAT', 'CARP', 'CARPENTRY', 'CARPET', 'CARPIO', 'CARPOBALSAM', 'CARPOBOLUS', 'CARPUS', 'CARR', 'CARRIAGE', 'CARRICK', 'CARROUSAL', 'GARS', 'CARSE', 'CARTAMA', 'CARTEL', 'CARTERET', 'CARTHAGE', 'CARTHAMUS', 'CARTHUSIANS', 'CARTILAGE', 'CARTMEL', 'CARTRIDGE', 'CARVA', 'CARUM', 'CARUNCULA', 'CARUS', 'CARWAR', 'CARYOCOSTINUM', 'CARYOPHYLLATA', 'CARYOPHYLLUS', 'CARYOTA', 'CASAL', 'CASAN', 'CASCADE', 'CASCARILLA', 'CASE', 'CASERTA', 'CASHELL', 'CASIA', 'CASK', 'CASSANDRA', 'CASSANO', 'CASSEL', 'CASSIA', 'CASSIDA', 'CASSIMERE', 'CASSINE', 'CASSIOPEIA', 'CASSIS', 'CASSITERIA', 'CASSOCK', 'CASSOWARY', 'CASSUMBAZAR', 'CASSUMUNAR', 'CASTANEA', 'CASTANOVITZ', 'CASTELLA', 'CASTELLAN', 'CASTELLANY', 'CASTIGLIONE', 'CASTILE', 'CASTILLARA', 'CASTILLON', 'CASTLE', 'CASTON', 'CASTOR', 'CASTOREA', 'CASTOREUM', 'CASTRATION', 'CASTRES', 'CASTRO', 'CAT', 'CATALEPSY', 'CATALONIA', 'CATAMENIA', 'CATANANCHE', 'CATAPASM', 'CATAPHONICS', 'CATAPHRACTA', 'CATAPLASM', 'CATAPULTA', 'CATARACT', 'CATARO', 'CATARACTES', 'CATARRH', 'CATASTASIS', 'CATASTROPHE', 'CATECHISM', 'CATECHU', 'CATEGORY', 'CATENARIA', 'CATERGI', 'CATERPILLAR', 'CATHARTICS', 'CATHEDRAL', 'CATHETER', 'CATHETUS', 'CATHNESS', 'CATHOLIC', 'CATHOLICON', 'CATOCHE', 'CATODON', 'CATOPSIS', 'CATOPTRICS', 'CATULUS', 'CATZENELLIBOQEN', 'CAVALRY', 'CAVAN', 'CAUCALIS', 'CAUCASUS', 'CAUDIVERBERA', 'CAVEAR', 'CAVEAT', 'CAVEATING', 'CAVEDG', 'CAVEZON', 'CAVILLON', 'CAUKING', 'CAUL', 'CAULIFLOWERS', 'CAULIS', 'CAUSALTY', 'CAUSE', 'CAUSTICS', 'CAUSUS', 'CAUTERIZATION', 'CAUTION', 'CAUTIONER', 'CAXA', 'CAY', 'CAZEROM', 'CAZIMIR', 'CEANOTHUS', 'CECROPIA', 'CEDAR', 'CEDRELA', 'CEDRUS', 'CELANDINE', 'CELERES', 'CELERI', 'CELERITY', 'CELESTINS', 'CELIBACY', 'CELOSIA', 'CELSIA', 'CELTIS', 'CENADA', 'GENCHRAMIDEA', 'CENCHRIS', 'CENCHRUS', 'GENCONTLTAOLLI', 'CENOBITE', 'CENOTAPH', 'CENSER', 'CENSOR', 'CENSURE', 'CENSUS', 'CENTAUR', 'CENTAUREA', 'CENTESIMATION', 'CENTIPES', 'GENTRISCUS', 'GENTUMVIRI', 'CENTUNCULUS', 'CENTURION', 'CENTURY', 'CEPAEA', 'CEPHALANTHUS', 'CEPHALIC', 'CEPHALONIA', 'CEPHEUS', 'CERAM', 'CERAMBYX', 'CERASTES', 'CERASTIUM', 'CERASUS', 'CERATION', 'CERATOCARPUS', 'CERATOGEPHALOIDES', 'CERATOCEPHALUS', 'CERATONIA', 'CERATOPHYLLUM', 'CERATUM', 'CERBERA', 'CERCIS', 'CEREBELLUM', 'CEREBRUM', 'CEREMONY', 'CERIGO', 'CERINTHIANS', 'CERINTHOIDES', 'CEROPEGIA', 'CERRUS', 'CERTHIA', 'CERTIORARI', 'CERTITUDE', 'CERVIA', 'CERVIX', 'CERUMEN', 'CERVUS', 'CESTRUM', 'GESTHS', 'CETACEOUS', 'CETE', 'CETTE', 'CETUS', 'CEUTA', 'CEYLON', 'CHABLAIS', 'CHACO', 'CHAIN', 'CHAISE', 'CHALAZA', 'CHALCEDONY', 'CHALCIDES', 'CHALDEA', 'CHALDEE', 'CHALDRON', 'CHALK', 'CHALYBEAT', 'CHAMA', 'CHAMZEDAPHNE', 'CHAMALPITYS', 'CHAMASROPS', 'CHAMBERLAIN', 'CHAMBERRY', 'CHAMOIS', 'CHAMPAIGN', 'CHAMPAIN', 'CHAMPION', 'CHANCE', 'CHANCEL', 'CHANCELLOR', 'CHANDELIER', 'CHANTRY', 'CHAOS', 'CHAPEAU', 'CHAPEL', 'CHAPELET', 'CHAPITERS', 'CHAPLAIN', 'CHAPLET', 'CHAPTER', 'CHARA', 'CHARABON', 'CHARACTER', 'CHARADRIUS', 'CHARANTIA', 'CHARAX', 'CHARBON', 'CHARCAS', 'CHARCOAL', 'CHARENTE', 'CHARENTON', 'CHARGED', 'CHARIOT', 'CHARISTIA', 'CHARITY', 'CHARLEMONT', 'CHARLETON', 'CHARLOCK', 'CHARM', 'CHARNEL', 'CHARNUB', 'CHART', 'CHARTER', 'CHARTOPHYLAX', 'CHARTRES', 'CHARTREUSE', 'CHARYBDIS', 'CHATELET', 'CHATHAM', 'CHATTELS', 'CHATTILLON', 'CHAUMONT', 'CHEADLE', 'CHECAYA', 'CHECK', 'CHEEK', 'CHEESE', 'CHEGFORD', 'CHEIRANTHUS', 'CHEKAO', 'CHEKAIM', 'CHELIDONHJM', 'CHELM', 'CHELMSFORD', 'CHELONE', 'CHELSEA', 'CHELTENHAM', 'CHEMISE', 'CHENOPODIUM', 'CHEPELIO', 'CHEPSTOW', 'CHERLESQUIOR', 'CHERMES', 'CHERSO', 'CHERUB', 'CHERVIL', 'CHERWEL', 'CHESHAM', 'CHESHIRE', 'CHESS', 'CHEST', 'CHESTERFIELD', 'CHEVALER', 'CHEVALIER', 'CHEVERON', 'CHEVIOT', 'CHEVISANCE', 'CHEVRON', 'CHEVRONED', 'CHEVRONEL', 'CHEVRONNE', 'CHIAMPA', 'CHIARASCO', 'CHIARENZA', 'CHIAROSCURO', 'CHICHESTER', 'CHICK', 'CHICUITO', 'CHIDLEY', 'CHIEFTAIN', 'CHIERI', 'CHILBLAINS', 'CHILI', 'CHILIAD', 'CHILIARCHA', 'CHILIASTS', 'CHILMINAR', 'CHILTERN', 'CHIALERA', 'CHIMAY', 'CHIMERA', 'CHIMNEY', 'CHINA', 'CHINCA', 'CHINESE', 'CHINON', 'CMO', 'CHIONANTHUS', 'CHIOZZO', 'CHIPPENHAM', 'CHIPPING', 'CHIKONIA', 'CBIRONOMY', 'CHIROTONF', 'CHIRVAN', 'CHITAU', 'CHIVALRY', 'CHIVES', 'CHLAMYS', 'CHLOKIS', 'CHLOROSIS', 'CHOCOLATE', 'CHOENIX', 'CHOIR', 'CHOLEDOCHUS', 'CHONDRILLA', 'CHONDROPTERYGII', 'CHOPIN', 'CHORASSAN', 'CHORD', 'CHORDAPSUS', 'CHORDEE', 'CHOREUS', 'CHORGES', 'CHORIAMBUS', 'CHORION', 'CHOROBATA', 'CHOROGRAPHY', 'CHORUS', 'CHOTZIM', 'CHOUG', 'CHOUGH', 'CHREMNITZ', 'CHREMPS', 'CHRISM', 'CHRISTIANS', 'CIJRISTIANA', 'CHRISTIANSBURGH', 'CHRISTIANSTADT', 'CHRISTMAS', 'CHRISTOPHERS', 'CHRISTOPHORIANA', 'CHROASTACES', 'CHROMA', 'CHROMATIC', 'CHROMIS', 'CHRONIC', 'CHRONICLE', 'CHRONOGRAM', 'CHRONOLOGY', 'CHRONOMETER', 'CHRONOSCOPE', 'CHROSTASIMA', 'CHRYSALIS', 'CHRYSANTHEMOIDES', 'CHRYSANTHEMUM', 'CHRYSOBERYL', 'CHRYSOCOLLA', 'CHRYSOCOMA', 'CRYSOGONUM', 'CHRYSOLITE', 'CHRYTOMELA', 'CHRYSOPHYTLUM', 'CHRYSORRASUS', 'CHRYSTAL', 'CHUB', 'CHURCH', 'CHUSAN', 'CHUSISTAN', 'CHUTON', 'CHYLE', 'CHYTOSIS', 'CHYME', 'CHYMISTRY', 'CHYMOLOGI', 'CHYMOSIS', 'CIALIS', 'CIBDELOPLACIA', 'CIBDELOSTRACIA', 'CICADIA', 'CICATRIX', 'CICATRIZANTS', 'CICER', 'CICERBITA', 'CICHORIUM', 'CICINDELIA', 'CICONIA', 'CICUTA', 'CICUTARIA', 'CIDARIS', 'CIFALU', 'CILIA', 'CILIARIS', 'CILICIUM', 'CIMEX', 'CINALOA', 'CINAN', 'CINCHONA', 'CINCTURE', 'CINOLOA', 'CINTRA', 'CINYRA', 'CION', 'CIPHER', 'CIPPUS', 'CIRCASSIA', 'CIRCIA', 'CIRCINALIS', 'CIRCLE', 'CIRCUIT', 'CIRCULAR', 'CIRCULATION', 'CIRCULUS', 'CIRCUMAMBIENT', 'CIRCUMCISION', 'CIRCUMFERENCE', 'CIRCUMFERENTOR', 'CIRCUMFLEX', 'CIRCUMGYRATION', 'CIRCUMLOCUTION', 'CIRCUMSCRIBED', 'CIRCUMSCRIPTION', 'CIRCUMSTANCE', 'CIRCUMSTANTIBUS', 'CIRCUMVALLATION', 'CIRCUMVOLUTION', 'CIRCUS', 'CIRENCESTER', 'CIRLUS', 'CIRRI', 'CIRSIUM', 'CIRSOCELE', 'CISALPINE', 'CISLEU', 'CISMAR', 'CISSAMPELOS', 'CISSUS', 'CISTERCIANS', 'CISTERN', 'CISTUS', 'CITADEL', 'CITATION', 'CITHARA', 'CITHARISTA', 'CITILLE', 'CITIZEN', 'CITRINELLA', 'CITRINUS', 'CITRULLUS', 'CITRUS', 'CITTADELLA', 'CITTADELLAPIEVE', 'GIVEN', 'GIVES', 'CIVET', 'CIVIL', 'CIVILIAN', 'CLACK', 'CLAGENFURT', 'CLAKIS', 'CLAMPING', 'CLANDESTINA', 'CLANDESTINE', 'CLANGULA', 'CLAP', 'CLARE', 'CLARENCIEUX', 'CLARENZA', 'CLARET', 'CLARICKORD', 'CLARIFICATION', 'CLARION', 'CLARY', 'CLASS', 'CLASSIC', 'CLATHRUS', 'CLAVARIA', 'CLAUSENBURG', 'CLAVUS', 'CLAW', 'CLAY', 'CLAYTONIA', 'CLEAVERS', 'CLEBURY', 'CLECHE', 'CLEDGE', 'CLEF', 'CLEIDOMASTOIDEUS', 'CLEMATIS', 'CLEOME', 'CLEPSYURA', 'CLERGY', 'CLERK', 'CLERMONT', 'CLERODENDRUM', 'CLEROMANCY', 'CLETHRA', 'CLEVES', 'CLEVELAND', 'CLIENT', 'CLIFFORTIA', 'CLIMATE', 'CLIMAX', 'CLINCHING', 'CLINOIDES', 'CLINOPODIUM', 'CLIO', 'CLIPEUS', 'CLITORIA', 'CLITORIS', 'CLOACA', 'CLOCK', 'CLOGHER', 'CLOSE', 'CLOTH', 'CLOUD', 'CLOYNE', 'CLUTIA', 'CLYDE', 'CLYMENUM', 'CLYPEOLA', 'CLYPEUS', 'CLYSSUS', 'CLYSTER', 'CNEORUM', 'GOA', 'COACH', 'COAGULATION', 'COAGULUM', 'COAL', 'COALITION', 'COAT', 'COBALT', 'COBITIS', 'COBLENTZ', 'COBWEB', 'COCCINELLA', 'COCCOTHRAUSTES', 'COCCUS', 'COCCYX', 'COCHIN', 'COCHLEA', 'COCHLEARIA', 'COCHLITES', 'COCK', 'COCKERMOUTH', 'COCOA', 'COCOI', 'COCONATO', 'COCTION', 'COD', 'CODE', 'CODEX', 'CODIA', 'CODICIL', 'CODLIN', 'CODLING', 'COECUM', 'COEFFICIENTS', 'COELESTIAL', 'COELOMA', 'COENOBITE', 'COEUR', 'COEVORDEN', 'CQFFEA', 'COGITATION', 'COGNATE', 'COGNATION', 'COGNI', 'COGNIZANCE', 'COGS', 'COHABITATION', 'COHESION', 'COIF', 'COILOPHYLLUM', 'COIMBRA', 'COINAGE', 'COIRE', 'COIX', 'COKENHAUSEN', 'COLCHESTER', 'COLCHICUM', 'COLD', 'COLEOPTERA', 'COLIAS', 'COLIC', 'COLIR', 'COLITES', 'COLLAR', 'COLLARAGE', 'COLLATERAL', 'COLLATION', 'COLLEAGUE', 'COLLECTS', 'COLLECTIVE', 'COLLECTOR', 'COLLEGATORY', 'COLLEGE', 'COLLETICS', 'COLLINSONIA', 'COLLIQUAMENTUM', 'COLLISION', 'COLLURIO', 'COLLUSION', 'COLLYRIUM', 'COLOCASIA', 'COLOCYNTHIS', 'COLOGNE', 'COLON', 'COLONEL', 'COLONNA', 'COLONNADE', 'COLOPHONY', 'COLOQUINTIDA', 'COLORATURA', 'COLOSSUS', 'COLOURING', 'COLTIE', 'COLUBER', 'COLUMBA', 'COLUMBINE', 'COLUMELLA', 'COLUMN', 'COLURES', 'COLURI', 'COLUTEA', 'COLYMBUS', 'COLYTEA', 'COMA', 'COMARUM', 'COMB', 'COMBAT', 'COMBINATION', 'COMET', 'COMETARIUM', 'COMFREY', 'COMITIA', 'COMITIUM', 'COMMA', 'COMMELINA', 'COMMEMORATION', 'COMMENDAM', 'COMMENSURABLE', 'COMMENTARY', 'COMMERCE', 'COMMINUTION', 'COMMISSARY', 'COMMISSION', 'COMMISSIONER', 'COMMITTEE', 'COMMIXTION', 'COMMODATE', 'COMMODITY', 'COMMODORE', 'COMMON', 'COMMONER', 'COMMONTY', 'COMMUNICATION', 'COMMUNION', 'COMMUNITY', 'COMPACT', 'COMPARISON', 'COMPARTMENT', 'COMPASS', 'COMPASSES', 'COMPEIGN', 'COMPENDIUM', 'COMPENSATION', 'COMPETENCE', 'COMPETITION', 'COMPITALIA', 'COMPLEMENT', 'COMPLEXION', 'COMPLEXUS', 'COMPLICATION', 'COMPOUND', 'COMPOSITE', 'COMPOSITION', 'COMPOST', 'CQMPOSTELJLA', 'COMPREHENSION', 'COMPRESSION', 'COMPRINT', 'COMPROMISE', 'COMPUNCTION', 'COMPUTATION', 'CONARION', 'CONATUS', 'CONCATENATION', 'CONCAVE', 'CONCENTRATION', 'CONCENTRIC', 'CONCEPTION', 'CONCERT', 'CONCHA', 'CONCHYLIA', 'CONCLAVE', 'CONCOCTION', 'CONCOMITANT', 'CONCORD', 'CONCORDANCE', 'CONCORDIA', 'CONCRETE', 'CONCRETION', 'CONCUBINAGE', 'CONCUPISCENCE', 'CONDAMIN', 'CONDE', 'CONDENSER', 'CONDITION', 'CONDITIONALS', 'CONDORMIENTES', 'CONDUCTOR', 'CONDUIT', 'CONDYLOMA', 'CONDYLUS', 'CONE', 'CONFECTS', 'CONFERVA', 'CONFESSION', 'CONFESSIONAL', 'CONFESSOR', 'CONFIGURATION', 'CONFISCATION', 'CONFLAGRATION', 'CONFLUENT', 'CONFORMATION', 'CONFORMITY', 'CONFUSION', 'CONGELATION', 'CONGER', 'CONGERIES', 'CONGIUS', 'CONGLUTINATION', 'CONGO', 'CONGREGATION', 'CONGREGATIONALISTS', 'CONGRESS', 'CONGRUITY', 'CONINGSECK', 'CONJUGATION', 'CONIUM', 'CONJUNCT', 'CONJUNCTION', 'CONJUNCTIVA', 'CONNAUGHT', 'CONNARUS', 'CONNECTICUT', 'CONNECTION', 'CONNOISSEUR', 'CONNOR', 'CONOCARPODENDRON', 'CONOCARPUS', 'CONOID', 'CQNQIDES', 'CONSANGUINITY', 'CONSCIENCE', 'CONSCRIPT', 'CONSECRATION', 'CONSENT', 'CONSEQENCE', 'CONSERVATOR', 'CONSERVATORY', 'CONSERVE', 'CONSISTENCE', 'CONSISTORIAL', 'CONSISTORY', 'CONSOLE', 'CONSOLIDA', 'CONSOLIDATION', 'CONSONANCE', 'CONSONANT', 'CONSPIRACY', 'CONSTABLE', 'CONSTANCE', 'CONSTANTINOPLE', 'CONSTELLATION', 'CONSTIPATION', 'CONSTITUTION', 'CONSTRICTOR', 'CONSUALIA', 'CONSUBSTANTIATION', 'CONSUL', 'CONSUMMATION', 'CONTACT', 'CONTEMPLATION', 'CONTEMPORARY', 'CONTENT', 'CONTESSA', 'CONTI', 'CONTINENT', 'CONTINGENT', 'CONTINUITY', 'CONTINUO', 'CONTOUR', 'CONTOURNE', 'CONTOURNIATED', 'CONTRABAND', 'CONTRACTION', 'CONTRARIETY', 'CONTRARY', 'CONTRAVALLATION', 'CONTRAVENTION', 'CONTRAYERVA', 'CONTRE', 'CONTRITION', 'CONTROLLER', 'CONTUSION', 'CONVALLARIA', 'CONVENT', 'CONVENTICLE', 'CONVENTION', 'CONVERGING', 'CONVERSE', 'CONVERSION', 'CONVEX', 'CONVEXITY', 'CONVEYANCE', 'CONVICT', 'CONVICTION', 'CONVOCATION', 'CONVOLUTION', 'CONVOLVULUS', 'CONVOY', 'CONVULSION', 'CONWAY', 'CONYZA', 'COOPER', 'COPAL', 'COPENHAGEN', 'COPERNICAN', 'COPERNICUS', 'COPHTS', 'COPHTIC', 'GOPPEL', 'COPPELLING', 'COPPERAS', 'COPPICE', 'COPULATION', 'CORACOIDES', 'CORACOMANTES', 'CORALLODENDRON', 'CORAN', 'CORBEILS', 'CORBEL', 'CORBY', 'CORCHORUS', 'CORDAGE', 'CORDATED', 'CORDED', 'CORDELERAS', 'CORDELIER', 'COIIDIA', 'CORDIAL', 'CORDON', 'CORDOUA', 'COREA', 'CORDYLINA', 'CORDYLUS', 'COREGONUS', 'COREIA', 'COREOPSIS', 'CORFU', 'CORIANDRUM', 'CORIARIA', 'CORINDUM', 'CORINTH', 'CORISPERMUM', 'CORK', 'CORMORANT', 'CORN', 'CORNAGE', 'CORNER', 'CORNET', 'CORNERS', 'CORNICHE', 'CORNICULARIUS', 'CORNIX', 'CORNUCOPIA', 'CORNUS', 'CORNUTIA', 'CORNWAL', 'COROLLA', 'COROLLULA', 'CORONA', 'CORONAL', 'CORONARIA', 'CORONEOLA', 'CORONER', 'CORONILLA', 'CORONOPUS', 'CORPORAL', 'CORPORATION', 'CORPULENCY', 'CORPUSCLE', 'CORRECTION', 'CORRECTOR', 'CORRELATIVE', 'CORRIGIOLA', 'CORROBORANTS', 'CORROSION', 'CORRUGATOR', 'CORROSIVES', 'CORRUPTION', 'CORSA', 'CORSAIR', 'CORSELET', 'CORSICA', 'CORTEX', 'CORTONA', 'CORUSCATION', 'CORVUS', 'CORYBANTES', 'CORYCOMACHIA', 'CORYDALIS', 'CORYLUS', 'CORYMBIUM', 'CORYMBUS', 'CORYPHA', 'CORYZA', 'CORZOLA', 'COS', 'COSENZA', 'COSMETIC', 'COSMICAL', 'COSMOGRAPHY', 'COSSACKS', 'COSSET', 'COSTAL', 'COSTIVENESS', 'COSTMARY', 'COSTRANGULA', 'COSTUME', 'COSTUS', 'COTHURNIX', 'COTICE', 'COTINUS', 'COTONASTER', 'COTRONA', 'COTTON', 'COTTUS', 'COTULA', 'COTURNIX', 'COTYLEDON', 'COTYLEDONES', 'COUGH', 'COUCHANT', 'COVENANT', 'COVENTRY', 'COVERDEN', 'COVERTURE', 'COULTER', 'COUNCIL', 'COUNSELLOR', 'COUNTY', 'COUPED', 'COUPER', 'COUPLET', 'COURBARIL', 'COURIER', 'COURLAND', 'COURSING', 'COURT', 'COURTESY', 'COURTISAN', 'COURTRAY', 'COUSIN', 'COUSU', 'COVERT', 'COW', 'COWARD', 'COWES', 'COWL', 'COXWOLD', 'COZUMEL', 'CRAB', 'CRABRO', 'CRACOA', 'CRACKER', 'CRACOW', 'CRADLE', 'CRAFT', 'CRAIL', 'CRAMBE', 'CRAMP', 'CRAMPER', 'CRANAGE', 'CRANE', 'CRANGANOR', 'CRANIOLARIA', 'CRANIUM', 'CRANNY', 'CRAPE', 'CRAPULA', 'CRASIS', 'CRASSAMENTUM', 'CRASSULA', 'CRATCHES', 'CRATER', 'CRATEVA', 'CRATO', 'CRAVEN', 'CRAX', 'CRAYON', 'CREAM', 'CREATION', 'CREDENTIALS', 'CREDIBILITY', 'CREDIT', 'CREDITON', 'CREDITOR', 'CREED', 'CREEK', 'CREEPER', 'CREMA', 'CREMASTER', 'CREMONA', 'CRENATED', 'CRENCLES', 'CRENOPHYLAX', 'CREPANCE', 'CREPIS', 'CREPUNDIA', 'CRESCENT', 'CRESCENTIA', 'CRESS', 'CRESSY', 'CREST', 'CRESTED', 'CREUX', 'CREW', 'CREX', 'CRIBBAGE', 'CRIBRATION', 'CRICK', 'CRICKLADE', 'CRICOIDES', 'CRIM', 'CRIME', 'CRIMSON', 'CRINONES', 'CRINUM', 'CRISIS', 'GRISTLE', 'CRITHE', 'CRITHMUM', 'CRITICISM', 'CROATIA', 'CROCCEUS', 'CROCINUM', 'CROCODES', 'CROCODILE', 'CROCUS', 'CROFT', 'CROISADE', 'CROISES', 'CROISIERS', 'CROMARTY', 'CRONENBURG', 'CRONSLOT', 'CRONSTAT', 'CROPPER', 'CROSIER', 'CROSSELET', 'CROTALOPHORUS', 'CROTALUS', 'CROTCHET', 'CROTON', 'CROTOY', 'CROW', 'CROWLAND', 'CROWN', 'CROYDON', 'CRUCIANELLA', 'CRUCIATA', 'CRUCIBLE', 'CRUCIFIX', 'CRUCIFIXION', 'CPUCIFORM', 'CRUDE', 'CRUDITY', 'CRUISE', 'CRUMENTATA', 'CRUOR', 'CRUPPER', 'CRURAL', 'CRUS', 'CRUSCA', 'CRUSTACEOUS', 'CRUX', 'CRYMODES', 'CRYPTOGAMIA', 'CRYPTOGRAPHY', 'CRYSTAL', 'CRYSTALLIZATION', 'CUB', 'CUBA', 'CUBAGUA', 'CUBE', 'CUBEBS', 'CUBIC', 'CUBIT', 'CUCKOW', 'CUCUBALUS', 'CUCUMIS', 'CUCURBIT', 'CUCURBITA', 'CUDWEED', 'CUENCA', 'CUIRASSE', 'CULDEES', 'CULEUS', 'CULEX', 'CULLIAGE', 'CULLEN', 'CULM', 'CULMORE', 'CULPRIT', 'CULROSS', 'CULVERIN', 'CULVERTAILED', 'CUMBERLAND', 'CUMINOIDES', 'CUMINUM', 'CUNEIFORM', 'CUNEUS', 'CUNILA', 'CUNNINGHAM', 'CUP', 'CUPANIA', 'CUPOLA', 'CUPPEL', 'CUPPING', 'CUPRESSUS', 'CUPRUM', 'CURASSOW', 'CURATE', 'CURATOR', 'CURB', 'CURCULIO', 'CURCUMA', 'CURDISTAN', 'CURDLING', 'CURFEW', 'CURIA', 'CURIISTG', 'CURNOCK', 'CURRANS', 'CURRENT', 'CURRIERS', 'CURRYING', 'CURTATION', 'CURTIN', 'CURVE', 'CURVET', 'CURVILINEAR', 'CURVIROSTRA', 'CURZOLA', 'CUSCO', 'CUSCUTA', 'CUSPIDATED', 'CUSTOM', 'CUTAMBULI', 'CUTANEOUS', 'CUTICLE', 'CUTIS', 'CUZT', 'CYCLAMEN', 'CYCLISCUS', 'CYCLOID', 'CYCLOMETRY', 'CYCLOPAEDIA', 'CYCLOPTERUS', 'CYDER', 'CYDONIA', 'CYGNUS', 'CYLINDER', 'CYLINDROID', 'CYLINDRUS', 'CYMA', 'CYMATIUM', 'CYMBAL', 'CYMBARIA', 'CYNANCHE', 'CYNANCHUM', 'CYNANTHROPIA', 'CYNAPIUM', 'CYNARA', 'CYNICS', 'CYNIPS', 'CYNOCEPHALUS', 'CYNOGLOSSUM', 'CYPERUS', 'CYPHOMA', 'CYPRASA', 'CYPRINUS', 'CYPRUS', 'CYRENAICS', 'CYST', 'CYSTIC', 'CYTISUS', 'CZACKATHURN', 'CZAR', 'CZASLAW', 'CZERNLGOF', 'CZONGRODT', 'DACA', 'DACE', 'DACTYL', 'DADUCHI', 'DEMONIAC', 'DAGO', 'DAHGESTAN', 'DAHOME', 'DALEA', 'DALEBURGH', 'DALKEITH', 'DALIA', 'DALMATIA', 'DAMA', 'DAMAGE', 'DAMAN', 'DAMASKEENING', 'DAMASONIUM', 'DAMBEA', 'DAMELOPRE', 'DAMIANISTS', 'DAMPS', 'DAMSEL', 'DANCE', 'DANGETTE', 'DANDELION', 'DANEGELT', 'DARNAMAS', 'DANTELLE', 'DANTIA', 'DANTZICK', 'DANUBE', 'DAPHNE', 'DARAPTI', 'DARBY', 'DARDANELLS', 'DARIEN', 'DARII', 'DARKING', 'DARLINGTON', 'DARMSTAT', 'DARNEL', 'DARTFORD', 'DARTMOUTH', 'DARWENT', 'DATA', 'DATE', 'DATISI', 'DATIVE', 'DATURA', 'DAUCUS', 'DAVIDISTS', 'DAVIDS', 'DAVIT', 'DAUPHIN', 'DAUPHINE', 'DEACON', 'DEACONESS', 'DEADS', 'DEAFNESS', 'DEAL', 'DEAN', 'DEBENHAM', 'DEBENTURE', 'DEBILITY', 'DEBT', 'DEBTOR', 'DECAGON', 'DECALOGUE', 'DECAN', 'DECANTATION', 'DECANUS', 'DECAPROTI', 'DECASTYLE', 'DECEIT', 'DECEMBER', 'DECEMPEDA', 'DECEMVIRI', 'DECENNALIA', 'DECIDUOUS', 'DECIL', 'DECIMATION', 'DECIPHERING', 'DECISE', 'DECKENDORF', 'DECLINATION', 'DECLINATOR', 'DECOCTION', 'DECOMPOSITION', 'DECORATION', 'DECORUM', 'DECOURS', 'DECOY', 'DECREE', 'DECREMENT', 'DECREPITATION', 'DECRETAL', 'DECURIO', 'DECURY', 'DECUSSATION', 'DECUSSORIUM', 'DEDDINGTON', 'DEDHAM', 'DEDICATION', 'DEE', 'DEED', 'DEEMSTERS', 'DEEPING', 'DEER', 'DEFAMATION', 'DEFAULT', 'DEFECATE', 'DEFENCE', 'DEFERENT', 'DEFILE', 'DEFINITE', 'DEFINITION', 'DEFINITIVE', 'DEFLAGRATION', 'DEFLUXION', 'DEFORCEMENT', 'DEFORMITY', 'DEGENERATION', 'DEGLUTITION', 'DEGRADATION', 'DEGREE', 'DEJECTION', 'DEIFICATION', 'DEISM', 'DEISTS', 'DEITY', 'DELEGATES', 'DELEGATION', 'DELETERIOUS', 'DELF', 'DELFT', 'DELIA', 'DELIBAMENTA', 'DELIMA', 'DELINQUENT', 'DELIQUIUM', 'DELIRIUM', 'DELIVERY', 'DELLY', 'DELOS', 'DELPHINUS', 'DELSBERG', 'DELTOIDES', 'DELUGE', 'DEMAIN', 'DEMEMBRATION', 'DEMER', 'DEMESNE', 'DEMETRIA', 'DEMETRIOWITZ', 'DEMI', 'DEMOCRACY', 'DEMONSTRABLE', 'DEMONSTRATION', 'DEMONSTRATIVE', 'DEMULCENTS', 'DEMURRAGE', 'DEMURRER', 'DEN', 'DENARIUS', 'DENBY', 'DENDERMOND', 'DENDRANATOMY', 'DENDROPHORIA', 'DENEB', 'DENIER', 'DENIZEN', 'DENMARK', 'DENNIS', 'DENOMINATOR', 'DENTARIA', 'DENTEX', 'DENTILES', 'DENTISCALPRA', 'DENTITION', 'DENUNCIATION', 'DEOBSTRUENTS', 'DEODAND', 'DEPOPULATION', 'DEPORTATION', 'DEPOSIT', 'DEPOSITARY', 'DEPOSITATION', 'DEPOSITION', 'DEPRECATION', 'DEPRECATORY', 'DEPRESSOR', 'DEPRIVATION', 'DEPTFORD', 'DEPUTATION', 'DEPUTY', 'DEPUTATUS', 'DERBENT', 'DEREHAM', 'DERIVATIVE', 'DERMESTES', 'DEROGATORY', 'DERPT', 'DERVIS', 'DERWENT', 'DESART', 'DESCANT', 'DESCENDENTS', 'DESCENSION', 'DESCENT', 'DESCRIPTION', 'DESEADA', 'DESERTER', 'DESERTION', 'DESIGN', 'DESISE', 'DESPOTICAL', 'DESSAW', 'DESSERT', 'DESSICCATIVE', 'DESTINIES', 'DESTINY', 'DESTRUCTION', 'DESUDATION', 'DETACHMENT', 'DETERGENTS', 'DETERIORATION', 'DETERMINATION', 'DETERSIVES', 'DETHMOLD', 'DETINUE', 'DETONATION', 'DETTINGEN', 'DEVA', 'DEVICE', 'DEVINCTION', 'DEVISE', 'DEVISES', 'DEUNX', 'DEVOLUTION', 'DEVONSHIRE', 'DEVOTION', 'DEUTERONOMY', 'DEUTEROPOTMI', 'DEUTEROSIS', 'DEW', 'DEXTANS', 'DEXTER', 'DEXTROCHERE', 'DEY', 'DEYNSE', 'DIABROSIS', 'DIACARYON', 'DIACHYLON', 'DIACODIUM', 'DIACOUSTICS', 'DIADELPHIA', 'DIADEM', 'DIAGLYPHICE', 'DIAGNOSTIC', 'DIAGONAL', 'DIAGRAM', 'DIAHEXAPLA', 'DIALECT', 'DIALOGISM', 'DIALOGUE', 'DIALYSIS', 'DIAMETER', 'DIAMOND', 'DIANDRIA', 'DIANO', 'DIANTHERA', 'DIANTHUS', 'DIAPASON', 'DIAPEDESIS', 'DIAPENSIA', 'DIAPENTE', 'DIAPHANOUS', 'DIAPHOENICUM', 'DIAPHORESIS', 'DIAPHORETICS', 'DIAPORESIS', 'DIARIJEC', 'DIARRHOEA', 'DIARTHROSIS', 'DIARY', 'DIACHISM', 'DIASCORDIUM', 'DIASEBESTEN', 'DIASENNA', 'DIASTOLE', 'DIASYRMUS', 'DIATONIC', 'DIATRAGACANTH', 'DIAUGOPHRAGMIA', 'DICE', 'DICHOTOMY', 'DICHOTOPHYLLUM', 'DICKER', 'DICTAMUS', 'DICTATOR', 'DICTION', 'PRESENTLY', 'FORM', 'GREAT', 'LONG', 'BROAD', 'NARROW', 'STRAIT', 'TIGHT', 'MOE', 'DIDACTIC', 'DIDAPPER', 'DIDELPHIS', 'DIDUS', 'DIDYNAMIA', 'DIE', 'DIEPE', 'DIEPHOLT', 'DIERVILLA', 'DIESIS', 'DIET', 'DIETETIC', 'DIETS', 'DIEXAHEDRIA', 'DIFFUSE', 'DIFFUSION', 'DIGASTRICUS', 'DIGEST', 'DIGESTION', 'DIGESTIVE', 'DIGIT', 'DIGITALIS', 'DIGITATED', 'DIGITUS', 'DIGLYPH', 'DIGNE', 'DIGNITARY', 'DIGNITY', 'DIJON', 'DILATATION', 'DILATATORES', 'DILEMMA', 'DILIGENCE', 'DILL', 'DILLEMBURG', 'DILLENGEN', 'DILLENIA', 'DIMENSION', 'DIMINUTIVE', 'DIMORPHOTHECA', 'DINANT', 'DINKELSPIEL', 'DIOCESE', 'DIOCTAHEDRIA', 'DIODIA', 'DIODON', 'DIOMEDEA', 'DIONYSIA', 'DIOECIA', 'DIOPTRICS', 'DIOSCOREA', 'DIOSMA', 'DIOSPYROS', 'DIOTOTHECA', 'DIPHTHONG', 'DIPHYES', 'DIPLOE', 'DIPLOMA', 'DIPONDIUS', 'DIPSACUS', 'DIPSAS', 'DIPTOTES', 'DIPTYCHS', 'DIRECTION', 'DIRECTOR', 'DIRICENT', 'DISC', 'DISCERNING', 'DISCIPLE', 'DISCIPLINE', 'DISCLAMATION', 'DISCORD', 'DISCOUNT', 'DISCRETE', 'DISCUS', 'DISCUSSION', 'DISCUTIENTS', 'DISDIAPASON', 'DISEASE', 'DISFRANCHISING', 'DISLOCATION', 'DISMA', 'DISPENSARY', 'DISPLAYED', 'DISPONDEE', 'DISPOSITION', 'DISQUISITION', 'DISS', 'DISSECTION', 'DISSEISIN', 'DISSENTERS', 'DISSIPATION', 'DISSOLVENT', 'DISSONANCE', 'DISSYLLABLE', 'DISTAFF', 'DISTEMPER', 'DISTENSION', 'DISTICH', 'DISTILLATION', 'DISTINCTION', 'DISTORTION', 'DISTRESS', 'DISTRICT', 'DISTRINGAS', 'DITONE', 'DITRIHEDRIA', 'DITTANY', 'DITTO', 'DIVAL', 'DIU', 'DIVAN', 'DIVANDUROW', 'DIVER', 'DIVERGENT', 'DIVERSION', 'DIVESTING', 'DIVIDEND', 'DIVINATION', 'DIVINE', 'DIVING', 'DIVINITY', 'DIVISIBILITY', 'DIVISION', 'DIVISOR', 'DIUL', 'DIURESIS', 'DIURNAL', 'DIZIER', 'DIZZINESS', 'DO', 'DOCK', 'DOCTOR', 'DOCUMENT', 'DODARTIA', 'DODDER', 'DODECAGON', 'DODECANDRIA', 'DODO', 'DODRANS', 'DOESBURG', 'DOG', 'DOGE', 'DOGGERS', 'DOGMA', 'DOGMATICAL', 'DOGMATISTS', 'DOLE', 'DOLICHOS', 'DOLPHIN', 'DOM', 'DOMAIN', 'DOME', 'DOMESDAY', 'DOMICILE', 'DOMIFYING', 'DOMINATION', 'DOMINGO', 'DOMINICA', 'DOMINICANS', 'DOMINION', 'DON', 'DONATION', 'DONATISTS', 'DONATIVE', 'DONATORY', 'DONAWERT', 'DONAX', 'DONOR', 'DOOR', 'DORCHESTER', 'DORDONNE', 'DOREE', 'DORIA', 'DORIC', 'DORMANT', 'DORMER', 'DORMITORY', 'DORONICUM', 'DORPT', 'DORSTENIA', 'DORSUM', 'DORT', 'DORTMANNA', 'DORYCNIUM', 'DOSITHEANS', 'DOTTEREL', 'DOUAY', 'DOUBLETS', 'DOUBLING', 'DOUBLON', 'DOUBTING', 'DOUCINE', 'DOVE', 'DOUGLAS', 'DOWAGER', 'DOWN', 'DOWNETON', 'DOWNHAM', 'DOWNS', 'DOWRY', 'DOXOLOGY', 'DRABA', 'DRABS', 'DRACOCEPHALUM', 'DRACONTIUM', 'DRACUNCULI', 'DRACUNCULUS', 'DRAGOMAN', 'DRAGON', 'DRAGOON', 'DRAGS', 'DRAINS', 'DRAKE', 'DRAMA', 'DRAMATIC', 'DRANK', 'DRAPERY', 'DRAUGHT', 'DRAW', 'DRAWING', 'DRAY', 'DRYATON', 'DREDGE', 'DREDGERS', 'DREIN', 'DRENCH', 'DRESDEN', 'DREUX', 'DRIFT', 'DRILL', 'DRINK', 'DRIVERS', 'DRIVING', 'DROGHEDA', 'DROITWICH', 'DRONE', 'DROPS', 'DROPSY', 'DRQSERA', 'DROWNING', 'DRUG', 'DRUGGET', 'DRUIDS', 'DRUM', 'DRUMLANERK', 'DRUNKENNESS', 'DRUPE', 'DRUSENHEIM', 'DRYADS', 'DUBLIN', 'DUGAL', 'DUCAT', 'DUCATOGN', 'DUCENARIUS', 'DUCK', 'DUCKING', 'DUCKUP', 'DUCT', 'DUCTILITY', 'DUDERSTAT', 'DUEL', 'DUELLING', 'DULCIFYING', 'DULL', 'DULWICH', 'DUMBLAIN', 'DUMBNESS', 'DUMFERMLINE', 'DUMFRIES', 'DUNBAR', 'DUNBARTON', 'DUNGANNON', 'DUNDALK', 'DUNDEE', 'DUNG', 'DUNKELD', 'DUNKIRK', 'DUNNEGAL', 'DUNNINGTON', 'DUNS', 'DUNSTABLE', 'DUO', 'DUODECIMA', 'DUODENUM', 'DUPLE', 'DUPLICATE', 'DUPLICATION', 'DUPLICATURE', 'DUPONDUS', 'DURANCE', 'DURANTA', 'DURATION', 'DURESSE', 'DURHAM', 'DUSSELDORP', 'DUTCHY', 'DUTY', 'DUUMVIRATE', 'DUUMVIRI', 'DWAL', 'DWARF', 'DWINA', 'DYE', 'DYER', 'DYEING', 'DYNASTY', 'DYSCRACY', 'DYSENTERY', 'DYSERT', 'DYSOREXY', 'DYSPEPSY', 'DYSPNOEA', 'DYSURY', 'DYTISCUS', 'EAGLET', 'EAR', 'EARL', 'EARNEST', 'EASEMENT', 'EASING', 'EASLOW', 'EAST', 'EASTER', 'EASTERN', 'EATON', 'EAVES', 'EBDOMARIUS', 'EBENUS', 'EBIONITES', 'EBRO', 'EBULUS', 'ECBOLIUM', 'ECCHYMOSIS', 'ECCLESIASTICAL', 'ECCLESIASTICUS', 'ECCOPE', 'ECHAPER', 'ECHENEIS', 'ECHEVIN', 'ECHINATE', 'ECHINITES', 'ECHINOPHORA', 'ECHINOPS', 'ECHINUS', 'ECHIUM', 'ECHOMETER', 'ECLECTICS', 'ECLIPSE', 'ECLOGUE', 'ECPIESMA', 'ECPIESMUS', 'ECPUCTICA', 'ECTHESIS', 'ECTHLIPSIS', 'ECTROPIUM', 'ECTYLOTICS', 'ECU', 'EDDISH', 'EDICT', 'EDITOR', 'EDUCATION', 'EDULCORATION', 'EEL', 'EFFECT', 'EFFERVESCENCE', 'EFFIGY', 'EFFLORESCENCE', 'EFFLUVIUM', 'EFFUSION', 'EFT', 'EGERMOND', 'EGG', 'EGLANTINE', 'EGYPT', 'EGYPTEN', 'EGYPTIANS', 'EJECTA', 'EJECTION', 'EIENHOVFN', 'EIGHT', 'EIMBECK', 'EISLEBEA', 'ELASAGNUS', 'ELAEOTHESIUM', 'ELAPHEBOLIUM', 'ELASMIS', 'ELATER', 'ELATINE', 'ELBE', 'ELBOW', 'ELCESAITES', 'ELECAMPANE', 'ELECT', 'ELECTION', 'ELECTOR', 'ELECTORATE', 'ELECTUARY', 'ELEGANCE', 'ELEGIAC', 'ELEGIT', 'ELEGY', 'ELEMENT', 'ELEMI', 'ELENCHUS', 'ELEPHANT', 'ELEPHANTIASIS', 'ELEPHANTINE', 'ELEPHAS', 'ELEVATOR', 'ELEVATORY', 'ELEUSINIA', 'ELEUTHERIA', 'ELF', 'ELGIN', 'ELIQUATION', 'ELISION', 'ELIXATION', 'ELIXIR', 'ELK', 'ELKHOLM', 'ELL', 'ELLERENA', 'ELLIPSIS', 'ELLIPTIC', 'ELLIPOMACHROSTYLA', 'ELLIPOPACHYSTYLA', 'ELM', 'ELNA', 'ELOCUTION', 'ELODES', 'ELOGY', 'ELOINED', 'ELONGATION', 'ELOPEMENT', 'ELOPS', 'ELOQUENCE', 'ELSINORE', 'ELVAS', 'ELUL', 'ELUTRIATION', 'ELY', 'ELYMUS', 'ELYSIUM', 'ELYTROIDES', 'EMANATION', 'EMARGINATED', 'EMASCULATION', 'EMBALMING', 'EMBARGO', 'EMBASSY', 'EMBDEN', 'EMBERIZA', 'EMBLEM', 'EMBOLISMIC', 'EMBOLUS', 'EMBOSSING', 'EMBROCATION', 'EMBROIDERY', 'EMBRUN', 'EMBRIO', 'EMBRYOTHLASTES', 'EMBRYOTOMY', 'EMBRYULCUS', 'EMERALD', 'EMETIC', 'EMINENCE', 'EMIR', 'EMMENAGOGUES', 'EMMERIC', 'EMOLLIENTS', 'EMPALEMENT', 'EMPEROR', 'EMPETRUM', 'EMPHASIS', 'EMPHYSEMA', 'EMPIRE', 'EMPIRIC', 'EMPIS', 'EMPRESS', 'EMPROSTHOTONOS', 'EMPYREUM', 'EMPYREUMA', 'EMULGENT', 'EMULSION', 'EMUNCTORY', 'ENALLAGE', 'ENAMEL', 'ENARTHROSIS', 'ENCAMPMENT', 'ENCEINTE', 'ENCEPHALI', 'ENCHANTER', 'ENCHASING', 'ENCHYSMA', 'ENCRATITES', 'ENDECERIS', 'ENDEMIC', 'ENDIVE', 'ENDLESS', 'ENDORSE', 'ENDORSED', 'ENDOWMENT', 'ENEMA', 'ENEMY', 'ENERGUMENS', 'ENERGY', 'ENFILADE', 'ENFRANCHISEMENT', 'ENGENDERING', 'ENGERS', 'ENGHIEN', 'ENGINEER', 'ENGLAND', 'ENGLISH', 'ENGRAILED', 'ENGRAVING', 'ENGYSCOPE', 'ENHARMONIC', 'ENHYDRUS', 'ENIXUM', 'ENNEAGON', 'ENNEANDRIA', 'ENS', 'ENSEELED', 'ENSIGN', 'ENSISHEIM', 'ENSKIRKEN', 'ENTABLATURE', 'ENTEROCELE', 'ENTEROMPHALUS', 'ENTERSOLE', 'ENTHUSIASM', 'ENTHUSIAST', 'ENTHYMEME', 'ENTOMON', 'ENTREPAS', 'ENVELOPE', 'ENVOY', 'ENVY', 'EPANORTHOSIS', 'EPARER', 'EPAULEMENT', 'EPENTHESIS', 'EPERLANUS', 'EPHA', 'EPHEDRA', 'EPHEMERY', 'EPHEMERA', 'EPHEMERIDES', 'EPHEMERUM', 'EPHIALTES', 'EPHIPPUIM', 'EPHOD', 'PHORI', 'EPIC', 'EPICEDIUM', 'EPICOENE', 'EPICYCLE', 'EPICYCLOID', 'EPICYEMA', 'EPIDEMIA', 'EPIDENDRUM', 'EPIDERMIS', 'EPIDIDYMIS', 'EPIGLOTTIS', 'EPIGRAM', 'EPIGRAPHE', 'EPILEPSY', 'EPILOBIUM', 'EPILOGUE', 'EPIMEDIUM', 'EPIPHANY', 'EPIPHONEMA', 'EPIPHORA', 'EPIPHYSIS', 'EPIPLOCELE', 'EPIPLOOMPHALON', 'EPISCOPAL', 'EPISCOPALIANS', 'EPISODE', 'EPISPASIIC', 'EPISTEMONARCH', 'EPISTOLARY', 'EPISTROPHE', 'EPITAPH', 'EPITASIS', 'EPITHALAMIUM', 'EPITHEM', 'EPITHET', 'EPITRITUS', 'EPIZEUXIS', 'EPOCHA', 'EPODE', 'EPOPOEIA', 'EFOTIDES', 'EPPINGEN', 'EPSOM', 'EPULONES', 'EQUABLE', 'EQUAL', 'EQUALITY', 'EQUANIMITY', 'EQUATION', 'EQUERRY', 'EQUIANGULAR', 'EQUICRURAL', 'EQUIDISTANT', 'EQUILATERAL', 'EQUILIBRIUM', 'EQUIMULTIPLES', 'EQUINOX', 'EQUISETUM', 'EQUITY', 'EQUIVALENT', 'EQUULEUS', 'EQUUS', 'ERANARCHA', 'ERANTHEMUM', 'ERECTION', 'EREMITA', 'ERFURT', 'ERGOT', 'ERICA', 'ERIE', 'ERIGERON', 'ERINACEUS', 'ERIOCEPHALUS', 'ERITHACUS', 'ERIVAN', 'ERKELENS', 'ERMIN', 'EROSION', 'EROTIC', 'ERRATIC', 'ERRHINES', 'ERROUR', 'ERUPTION', 'ERVUM', 'ERINGIUM', 'ERYSIMUM', 'ERYSIPELAS', 'ERYTHRINA', 'ERYTHRINUS', 'ERYTHROIDES', 'ERYTHRONIUM', 'ERYTHROPHTHALMUS', 'ERZERUM', 'ESCHAR', 'ESCHAROTICS', 'ESCHEAT', 'ESCHRAKITES', 'ESCUAGE', 'ESCULENT', 'ESCULUS', 'ESCURIAL', 'ESCUTCHEON', 'ESDRAS', 'ESENS', 'ESK', 'ESLINGEN', 'ESOX', 'ESPALIERS', 'ESPERIE', 'ESPINAL', 'ESPLANADE', 'ESPLEES', 'ESPOUSALS', 'ESSECK', 'ESSEN', 'ESSENCE', 'ESSENES', 'ESSENTIAL', 'ESSEX', 'ESSOIN', 'ESTATE', 'ESTHER', 'ESTRAY', 'ESTREMADURA', 'ESTREMOS', 'ETHIOPIA', 'ETNA', 'EVACUANTS', 'EVANGELIST', 'EVANID', 'EVAPORATION', 'EVATES', 'EUBAGES', 'EUCHARIST', 'EVESDROPPERS', 'EVESHAM', 'EUGENIA', 'EVIAN', 'EVICTION', 'EVIDENCE', 'EULOGY', 'EUMENIDES', 'EUNUCH', 'EVOLUTION', 'EUONYMOIDES', 'EUONYMUS', 'EVORA', 'EUPATORIUM', 'EUPHYMISM', 'EUPHORBIA', 'EUPHORBIUM', 'EUPHRASIA', 'EUPHRATES', 'EUREUX', 'EURIPUS', 'EUROPE', 'EURYTHMY', 'EUSTACE', 'EUSTYLE', 'EUTYCHIANS', 'EUXINE', 'EWAGE', 'EWE', 'EWRY', 'EXACUM', 'EXALTATION', 'EXAMINERS', 'EXCELLENCY', 'EXCENTRIC', 'EXCENTRICITY', 'EXCEPTION', 'EXCERPTA', 'EXCESS', 'EXCHANGE', 'EXCHEQUER', 'EXCIPIENT', 'EXCISE', 'EXCLAMATION', 'EXCOMMUNICATION', 'EXCORIATION', 'EXCREMENT', 'EXCRESCENCE', 'EXCRETION', 'EXCRETORY', 'EXCURSION', 'EXECRATION', 'EXECUTION', 'EXECUTOR', 'EXECUTRY', 'EXEGESIS', 'EXEMPLAR', 'EXEMPTION', 'EXERCISE', 'EXERCITOR', 'EXERGUM', 'EXETER', 'EXFOLIATION', 'EXHALATION', 'EXHIBIT', 'EXHORTATION', 'EXIGENT', 'EXIGENTERS', 'EXISTENCE', 'EXIT', 'EXLEGALITUS', 'EXOCOETUS', 'EXODIARY', 'EXODIUM', 'EXODUS', 'EXOMPHALUS', 'EXORCISM', 'EXORCISTS', 'EXORDIUM', 'EXOIIC', 'EXPANSION', 'EXPECTORANTS', 'EXPECTORATION', 'EXPERIMENT', 'EXPIATION', 'EXPIRATION', 'EXPLICITE', 'EXPLOSION', 'EXPONENT', 'EXPORTATION', 'EXPOSITION', 'EXPOSITOR', 'EXPOSURE', 'EXPRESS', 'EXPULSION', 'EXTASY', 'EXTENSION', 'EXTENSOR', 'EXTERIOR', 'EXTERMINATION', 'EXTERNAL', 'EXTINCTION', 'EXTINGUISHMENT', 'EXTIRPATION', 'EXTISPEX', 'EXTORTION', 'EXTRACT', 'EXTRACTION', 'EXTRACTOR', 'EXTRAVAGANTES', 'EXTRAVASATION', 'EXTREMES', 'EXTRINSIC', 'EXULCERATION', 'EXUVIAE', 'EYE', 'EYEMOUTH', 'EYRAC', 'EYRE', 'EYSENACH', 'EZEKIEL', 'EZRA', 'FABAGO', 'FABLE', 'FACE', 'FACET', 'FACTION', 'FACTOR', 'FACTUM', 'FACULTY', 'FAENSA', 'FAGARA', 'FAGGOT', 'FAGONIA', 'FAGUS', 'FAIR', 'FAIRFIELD', 'FAIRFORD', 'FAIRY', 'FAITFI', 'FAITHEUL', 'FAKENHAM', 'FAKIR', 'FALCADE', 'FALCATED', 'FALCO', 'FALCONER', 'TALCONRY', 'FALKIRK', 'FALL', 'FALLACY', 'FALLOW', 'FALMOUTH', 'FALSE', 'FALSHOOD', 'FALX', 'FAN', 'FANO', 'FAR', 'FARCE', 'FARCIN', 'FARE', 'FAREHAM', 'FARINGTON', 'FARM', 'FARNHAM', 'FARO', 'FARREATION', 'FARRIER', 'FASCETS', 'FASCIA', 'FASCIAE', 'FASCIALIS', 'FASCINATION', 'FAST', 'FASTERMANS', 'FASTI', 'FAT', 'FATE', 'FATES', 'FATHOM', 'FAVIFORM', 'FAUNALIA', 'FAWN', 'FEALTY', 'FEAST', 'FEATHER', 'FEBRIFUGE', 'FEBRIS', 'FEBRUARY', 'FECIALES', 'FEE', 'FEELERS', 'FEELING', 'FEINT', 'FELAPTON', 'FELIN', 'FELLS', 'FELKIRK', 'FELLOWSHIP', 'FELON', 'FELONY', 'FELT', 'FELTRI', 'FELUCCA', 'FEMALE', 'FEMININE', 'FEMUR', 'FENCE', 'FENCING', 'FENNEL', 'FEOD', 'FEOFFMENT', 'FERALIA', 'FERDEN', 'FERENTARII', 'FERMENTATION', 'FERN', 'FERNANDO', 'FERRARA', 'FERRET', 'FERRETTO', 'FERRO', 'FERROL', 'FERRUGINOUS', 'FERRUGO', 'FERRUM', 'FERRY', 'FERTILITY', 'FESTINO', 'FESTIVAL', 'FESTOON', 'TETIPOUR', 'FEUD', 'FEUDATORY', 'FEVER', 'FEVERFEW', 'FEVERSHAM', 'FEZ', 'FIAR', 'FIASCONE', 'FIAT', 'FIBRE', 'FIBROSE', 'FIBULA', 'FICARIA', 'FICEDULA', 'FICOIDEA', 'FICOIDES', 'FICUS', 'FIDO', 'FIDICINALES', 'FIEF', 'FIELD', 'FIFE', 'FIFTH', 'FIGURAL', 'FIGURE', 'FIGURED', 'FILAMENT', 'FILBERT', 'FILE', 'FILIGRANE', 'FILIPENDULA', 'FILIX', 'FILLET', 'FILLY', 'FILM', 'FILTER', 'FIMBRLE', 'FIMBRIATED', 'FIN', 'FINAL', 'FINANCES', 'FINE', 'FINERY', 'FINISTERRA', 'FINITE', 'FINLAND', 'FIRE', 'FIRKIN', 'FIRLOT', 'FISC', 'FISCAL', 'FISH', 'FISHERY', 'TISTULA', 'FISTULAR', 'FIT', 'FITZ', 'FIVES', 'FLACCIDITY', 'FLAG', 'FLAGEOLET', 'FLAIL', 'FLAMBEAU', 'FLAME', 'FLAMEN', 'FLAW', 'FLAX', 'FLEA', 'FLEAM', 'FLECHE', 'FLEECE', 'FLEET', 'FLENSBURGH', 'FLESH', 'FLEURY', 'FLEXIBLE', 'FLEXOR', 'FLOATAGES', 'FLORENCE', 'FLORENTINE', 'FLORES', 'FLORIDA', 'FLORIN', 'FLORIST', 'FLORY', 'FLOS', 'FLOTSON', 'FLOUNDER', 'FLOUR', 'FLOWER', 'FLUID', 'FLUOR', 'FLUSHING', 'FLUTE', 'FLUVIALIS', 'FLUXIONS', 'FRYING', 'FOAL', 'FOETOR', 'FOETUS', 'FOG', 'FOIL', 'FOLIA', 'FOLIAGE', 'FOLIO', 'FOLKSTONE', 'FOMAHANT', 'FOMENTATION', 'FONDI', 'FONT', 'FONTAINEBLEAU', 'FQNTANELLA', 'FONTARABIA', 'FONTENAYLE', 'FONTENOY', 'FONTEVRAUD', 'FONTICULUS', 'FONTINALIS', 'FOOL', 'FORAMEN', 'FORCALQUIER', 'FORCE', 'FORCEPS', 'FOREIGN', 'FOREIGNER', 'FORELOCKS', 'FOREST', 'FORESTALLER', 'FORESTALLING', 'FORESTER', 'FORFAR', 'FORFEITURE', 'FORFICULA', 'FORGE', 'FORGER', 'FORGERY', 'FORISFAMILIATION', 'FORMAL', 'FORMICA', 'FORMOSA', 'FORMULA', 'FORMULARY', 'FORNACALIA', 'FORNICATION', 'FORNIX', 'FORRAGE', 'FORRES', 'FORTALICE', 'FOSS', 'FOSSIL', 'FOSSOMBRONE', 'FOUMART', 'FOUNDATION', 'FOUNDER', 'FOUNDERY', 'FOUNTAIN', 'FOWEY', 'FOWL', 'FOY', 'FRACTION', 'FRACTURE', 'FRANCE', 'TRANCFORT', 'FRANCHISE', 'FRANCONIA', 'FRANCENIA', 'FRANKENSTEIN', 'FRANKER', 'FRANKS', 'FRANSTAT', 'FRASCATI', 'FRATERNITY', 'FRATRICELLI', 'FRATRIAGE', 'FRAUD', 'FRAXINUS', 'FREDENBERG', 'FREDERICA', 'FREDERICKSHALL', 'FREDERICKSODE', 'FREDERICKSTAT', 'FREE', 'FREEDOM', 'FREEZE', 'FREEZING', 'FREIGHT', 'FRENCH', 'FRESCO', 'FRESH', 'FRET', 'FRIABLE', 'FRIAR', 'FRICTION', 'FRIDBURG', 'FRIEDBURG', 'FRIESLAND', 'FRIEZE', 'FRIGAT', 'FRIGID', 'FRIGORIFIC', 'FRILL', 'FRINGILLA', 'FRINWALT', 'FRIO', 'FRISACH', 'FRISONE', 'FRIT', 'FRITH', 'FRITILLARIA', 'FRIULI', 'FRODINGHAM', 'FRODSHAM', 'FROG', 'FRONTEIRA', 'FRONTIER', 'FROST', 'FROTH', 'FRUCTIFEROUS', 'FRUCTIFICATION', 'FRUIT', 'FRUMENTACEOUS', 'FRUMENTARII', 'FRUSH', 'FRY', 'FUCUS', 'FUEL', 'FUGUE', 'FULCRUM', 'TULD', 'FULICA', 'FULIGINOUS', 'FULIGNO', 'FULIGO', 'FULLER', 'FULLERY', 'FULLING', 'FULMINATING', 'FULMINATION', 'FUMARIA', 'FUMIGATION', 'FUMITORY', 'FUNCHAL', 'FUNCTION', 'FUNDAMENT', 'FUNEN', 'FUNGIBLES', 'FUNGUS', 'FURCA', 'FURIES', 'FURLING', 'FURLONG', 'FURLOUGH', 'FURNACE', 'FURNES', 'FURSTENRURGH', 'FURTHCOMING', 'FURUNCLE', 'FURZE', 'FUSANUS', 'FUSAROLE', 'FUSEE', 'FUSIBILITY', 'FUSILIERS', 'FUSION', 'FUSTIAN', 'FUSTICK', 'FUTTOCKS', 'FUTURE', 'GABEL', 'GABIN', 'GAD', 'GADUS', 'GAIETA', 'GAINSBOROUGH', 'GAIOPHRAGMIA', 'GALACTITES', 'GALANGALS', 'GALANTHUS', 'GALATA', 'GALATIA', 'GALAX', 'GALAXY', 'GALBANUM', 'GALEGA', 'GALENISTS', 'GALERITA', 'GALICIA', 'GALILE', 'GALILEANS', 'GALL', 'GALLERY', 'GALLEY', 'GALLI', 'GALLICIAN', 'GALLICISM', 'GALLINACIOUS', 'GALLINULA', 'GALLION', 'GALLIPOLI', 'GALLO', 'GALLON', 'GALLOPAVO', 'GALLOWAY', 'GALLUS', 'GALLY', 'GAMBIA', 'GAMBOGE', 'GAME', 'GAMELIA', 'GAMING', 'GANGES', 'GANGI', 'GANGLIO', 'GANGRENE', 'GANTLET', 'GAOL', 'GAP', 'GARBE', 'GARCINIA', 'GARDA', 'GARDELEBEN', 'GARDENING', 'GARLAND', 'GARNET', 'GARONNE', 'GARTER', 'GASCOIN', 'GASCONY', 'CASSENHOVEN', 'GASTEROSTEUS', 'GASTRIC', 'GASTROCNEMIUS', 'GASTROMANCY', 'GASTRORAPHY', 'GATE', 'GATTON', 'GAVEREN', 'GAUGER', 'GAWSE', 'GAZELLA', 'GAZETTE', 'GELATINOUS', 'GELDERLAND', 'GELDING', 'GELDERS', 'GEMARA', 'GEMBLOURS', 'GEMINI', 'GEMMA', 'GEMUND', 'GENEALOGY', 'GENEP', 'GENERAL', 'GENERATION', 'GENESIS', 'GENET', 'GENEVA', 'GENIOGLOSSI', 'GENIS', 'GENISTA', 'GENITAL', 'GENITES', 'GENITIVE', 'GENIUS', 'GENOA', 'GENTIANA', 'GENTILE', 'GEOCENTRIC', 'CH', 'GEORGIA', 'GEORGIC', 'GERANITES', 'GERANIUM', 'GERARDIA', 'GERFAJXON', 'GERGENTUM', 'GERMAINS', 'GERM', 'GERMAN', 'GERMANDER', 'GERMANY', 'GERMEN', 'GERMERSHEIM', 'GERMINATION', 'GERONTES', 'GESNERIA', 'GESTATION', 'GESTRICIA', 'GESTURE', 'CETHYLLIS', 'GEVAUDAN', 'GEUM', 'GHENT', 'GIAGH', 'CIALLOLINO', 'GIBELINS', 'GIBRALTAR', 'GIFT', 'GIGG', 'GILAN', 'GILDING', 'GILL', 'GILLS', 'GILOLO', 'GIN', 'GINGER', 'GINGLYMUS', 'GINSENG', 'GIRONNE', 'GISBORN', 'GISBOROUGH', 'GLADIATORS', 'GLADIOLUS', 'GLAMORGANSHIRE', 'GLAND', 'GLANDERS', 'CLARIS', 'GLASS', 'GLASTONBURY', 'GLATZ', 'GLAUCION', 'GLAUCIUM', 'GLAUCOMA', 'GLAUCUS', 'GLAUX', 'GLAZIER', 'GLAZING', 'GLEBE', 'GLECHOMA', 'GLEET', 'GLIRES', 'GLENOIDES', 'GLISCHROMICTHES', 'GLISTER', 'GLOBE', 'GLOBULARIA', 'GLOBULE', 'GLOGAW', 'GLORIOSA', 'GLOSSARY', 'GLOSSOPETRA', 'GLOTTIS', 'GLUCKSTAT', 'GLUE', 'GLUME', 'GLYCYRRHIZA', 'GLYPH', 'GNAPHALIUM', 'GNESNA', 'GNIDIA', 'GNOMON', 'GNOMONICS', 'GNOSTICS', 'GOAT', 'GOBIUS', 'GOD', 'GOLDINGEN', 'GOMPHOSIS', 'GONORRHOEA', 'GOOD', 'GOR', 'GORE', 'GORGE', 'GORGED', 'GORGONA', 'GORGONS', 'GORLITZ', 'GOSLAR', 'GOSPEL', 'GOTHIC', 'GOTHLAND', 'GOTTENBURG', 'GOTTINGEN', 'GOTTORP', 'GOUDE', 'GOVERNMENT', 'GOURD', 'GOUT', 'GRABOW', 'GRACE', 'GRACULA', 'GRACULUS', 'GRADATION', 'GRADISKA', 'GRADUATE', 'GRAFT', 'GRATES', 'GRAIN', 'GRAMPOUND', 'GRAMPUS', 'GRANADA', 'GRANADIER', 'GRANADILLOS', 'GRANADO', 'GRANARY', 'GRANDE', 'GRANDEE', 'GRANDENTZ', 'GRANICUS', 'GRANITE', 'GRANTHAM', 'GRANULATED', 'GRAPE', 'GRAPHOMETER', 'GRAPNELS', 'GRASS', 'GRASSHOPPER', 'GRATIOLA', 'GRAVE', 'GRAVEL', 'GRAVESEND', 'GRAY', 'GREECE', 'GREEN', 'GREENWICH', 'GRENOBLE', 'GRENOCK', 'GREWIA', 'GRIFFON', 'GRIMPERG', 'GRIMSBY', 'GRINDING', 'GRINDSTEAD', 'GRISONS', 'GRIST', 'GROATS', 'GROCERS', 'GROGRAM', 'GRONINGEN', 'GRONOVIA', 'GROOM', 'GROOVE', 'GROTESQUE', 'GROTSKA', 'GROTTO', 'GROVE', 'GROUND', 'GROUSE', 'GRUBS', 'GRUBBING', 'GRUBENHAGEN', 'GRUME', 'GRYLLUS', 'GRYPHITES', 'GUADALAJARA', 'GUADALAXARA', 'GUADALUPE', 'GUADIANA', 'GUADILBARBAR', 'GUADILQUIVIR', 'GUAJACUM', 'GUALEOR', 'GUAM', 'GUANIHANI', 'GUANUCO', 'GUARANTY', 'GUARD', 'GUARDIAN', 'GUERNSEY', 'GUIAQUIL', 'GUIARA', 'GUIDON', 'GUIENNE', 'GUILD', 'GUILDFORD', 'GUBEN', 'GUINEA', 'GUIPUSCOA', 'GUIRA', 'GUISE', 'GULA', 'GULES', 'GULPH', 'GUM', 'GUN', 'GUNELLUS', 'GUNNER', 'GUNNERY', 'GURIEL', 'GURK', 'GURNARD', 'GUSSET', 'GUSTROW', 'GUTSKROW', 'GUTTERS', 'GUTTURAL', 'GUTTY', 'GUY', 'GUZES', 'GYMNASIARCH', 'GYMNASIUM', 'GYMNASTICS', 'GYMNOPYRUS', 'GYMNOSOPHISTS', 'GYMNOSPERMIA', 'GYMNOTUS', 'GYNALCEUM', 'GYNANDRIA', 'GYPSUM', 'GYSHORN', 'HABAKKUK', 'HABIT', 'HABITUAL', 'HABITUDE', 'HACHA', 'HACKNEY', 'HADDINGTON', 'HADDOCK', 'HADRAMUT', 'HAEMATITES', 'HAEMATOPUS', 'HAEMOPTOSIS', 'HAEMORRHAGE', 'HAEMORRHOIDAL', 'HAEMORRHOIDS', 'HAERLEM', 'HAGAI', 'HAGENAU', 'HAGUE', 'HAIL', 'HAKE', 'HALBERSTAT', 'HALCYON', 'HALE', 'HALEM', 'HALESWORTH', 'HALIOTIS', 'HALL', 'HALLAGE', 'HALLELUJA', 'HALLEN', 'HALLEIN', 'HALLER', 'HALLERIA', 'KALMSTAT', 'HALO', 'HALTWESEL', 'HAM', 'HAMA', 'HAMADRYADS', 'HAMAXOBIANS', 'HAMBURGH', 'HAMCHEU', 'HAMELIN', 'HAMMONT', 'HAMPSHIRE', 'HAMPSTEAD', 'HAMPTON', 'HANAU', 'HAND', 'HANOVER', 'HANSE', 'HAPPINESS', 'HARBINGER', 'HARBOROUGH', 'HARBOUR', 'HARBURGH', 'HARDENING', 'HARDERWICK', 'HARFLEUR', 'HARIOT', 'HARLEBECK', 'HARLEQUIN', 'HARLINGEN', 'HARLOW', 'HARMONICS', 'HARMONY', 'HARP', 'HARPIES', 'HARPINEER', 'HARPSICHORD', 'HARQUEBUSS', 'HARROW', 'HART', 'HARTFORD', 'HARTLAND', 'HARTLEPOOL', 'HARWICH', 'HASSIDEANS', 'HASTA', 'HASTINGS', 'HAT', 'HATCHEL', 'HATCHES', 'HATCHING', 'HATFIELD', 'HATHERLY', 'HATTEM', 'HATTOCK', 'HATUAN', 'HAVANT', 'HAVEL', 'HAVEN', 'HAUNCH', 'HAUTBOY', 'HAWKING', 'HAWSER', 'HAWSES', 'HAY', 'HAYNAULT', 'HAYWARD', 'HAZARD', 'HAZLE', 'HEAD', 'HEAM', 'HEART', 'HEATH', 'HEATHENS', 'HEAVEN', 'HEBDOMARY', 'HEBENSTRETIA', 'HEBRAISM', 'HEBREW', 'HEBRIDES', 'HECATOMB', 'HEDERA', 'HEDGES', 'HEDMORA', 'HEDYOTIS', 'HEEL', 'HEELER', 'HEGIRA', 'HEIDELBURG', 'HEILA', 'HEIR', 'HEIRESS', 'HELENA', 'HELENIUM', 'HELLEA', 'HELIACAL', 'HELIANTHUS', 'HELIASTES', 'HELICTERES', 'HELIOCARPUS', 'HELIOCOMETES', 'HELIOSCOPE', 'HELIOSTATA', 'HELIX', 'HELLEBORUS', 'HELLENISM', 'HELLENISTIC', 'HELLESPONT', 'HELMET', 'HELMINTHOLITHUS', 'HELMONT', 'HELMSTAT', 'HELOTS', 'HELSINGIA', 'HELSTON', 'HELVOETSLUYS', 'HEMEROBIUS', 'HEMEROCALLIS', 'HEMI', 'HEMINA', 'HEMIONITIS', 'HEMIPLEGIA', 'HEMISPHERE', 'HEMISTICH', 'HEMLOCK', 'HEMP', 'HEN', 'HENDECAGON', 'HENLEY', 'HENNEBURG', 'HENRICO', 'HENRY', 'HEPATIC', 'HEPATICA', 'HEPTACHORD', 'HEPTAGON', 'HEPTANDRIA', 'HEPTANGULAR', 'HEPTARCHY', 'HEPTATEUCH', 'HEPHTHEMIMERIS', 'HERACLEA', 'HERACLEONITES', 'HERACLEUM', 'HERALD', 'HERALDRY', 'HERAT', 'HERB', 'HERBAL', 'HERBOURG', 'HERCINIAN', 'HERCOLE', 'HERCULES', 'HEREDITARY', 'HERESY', 'HERETAGE', 'HERETIC', 'HERLING', 'HERMAS', 'HERMALA', 'HERMANIA', 'HERMANASTAT', 'HERMATHENA', 'HERMETIC', 'HERMIT', 'HERMON', 'HERNANDIA', 'HERNGRUNT', 'HERNIA', 'HERNIARIA', 'HERO', 'HERON', 'HERRING', 'HESPERIDES', 'HETEROGENEITY', 'HETEROGENOUS', 'HETEROSCII', 'HEUCHERA', 'HEXACHORD', 'HEXAGON', 'HEXAMETER', 'HEXANDRIA', 'HEXASTYLE', 'HEXHAM', 'HIATICULA', 'HIATUS', 'HICCUP', 'HIDE', 'HIERACHIUM', 'HIERARCHY', 'HIEROGLYPHICS', 'HIEROGRAMMATISTS', 'HIEROMANOY', 'HEROMNEMON', 'HIEROPHANTES', 'HIEROPHYLAX', 'HIGHNESS', 'HILARIA', 'HILARODI', 'HILDESHEIM', 'HILUM', 'HIN', 'HINDOWN', 'HINE', 'HIPPOBOSCA', 'HIPPOCAMPUS', 'HIPPOCENTAUR', 'HIPPODROME', 'HIPPOGLOSSUS', 'HIPPOPHAE', 'HIPPOPOTAMUS', 'HIPPURIS', 'HIRCANIA', 'HIRCHFIELD', 'HIRTELLA', 'HIRUDO', 'HIRUNDO', 'HISPANIOLA', 'HISTORIOGRAPHER', 'HISTORY', 'HISTRIO', 'HITCHING', 'HIVE', 'HOARSENESS', 'HOBBY', 'HOE', 'HOG', 'HOGSHEAD', 'HOGUE', 'HOHIO', 'HOLCUS', 'HOLDING', 'HOLLAND', 'HOLLY', 'HOLOCAUST', 'HOLOGRAPH', 'HOLSTEIN', 'HOMAGE', 'HOMBERG', 'HOMICIDE', 'HOMILY', 'HOMO', 'HOMOLOGOUS', 'HONAN', 'HONDURAS', 'HONE', 'HONEY', 'HONFLEUR', 'HONOUR', 'HOOF', 'HOOKER', 'HORDICALIA', 'HOREHOUND', 'HORIZON', 'HORIZONTAL', 'HORMINUM', 'HORN', 'HORNET', 'HORNING', 'HORNSEY', 'HOROLOGIUM', 'HOROSCOPE', 'HORSE', 'HORTULANUS', 'HOSANNA', 'HOSEA', 'HOSTAGE', 'HOTTONIA', 'HOVINGHAM', 'HOULSWORTHY', 'HOUR', 'HOUSE', 'HOUSTONIA', 'HOYE', 'HUEGLY', 'HUETTE', 'HUGUENOTS', 'HULKS', 'HULL', 'HULPEN', 'HUMAN', 'HUMANITY', 'HUMBER', 'HUMERUS', 'HUMIDITY', 'HUMOUR', 'HUMULUS', 'HUNDRED', 'HUNGARY', 'HUNGER', 'HUNNINGHEN', 'HUNNOBY', 'HUQUAM', 'HURA', 'HURDLES', 'HURON', 'HURRICANE', 'HUSBAND', 'HUSK', 'HUSSARS', 'HUSSITES', 'HUSTINGS', 'HUSUM', 'HUTHERFIELD', 'HUY', 'HYACINTH', 'HYACINTHUS', 'HYADES', 'HYDNUM', 'HYDRA', 'HYDRAGOGUES', 'HYDRANGEA', 'HYDRAULICS', 'HYDRENTEROCELE', 'HYDROCELE', 'HYDROCEPHALUS', 'HYDROCHARIS', 'HYDROCORAX', 'HYDROCOTYLE', 'HYDROMEL', 'HYDROPHACE', 'HYDROPHANAE', 'HYDROPHOBIA', 'HYDROPHYJLLUM', 'HYDROPS', 'HYDROSCOPE', 'HYMEN', 'HYMENAIA', 'HYMN', 'HYOIDES', 'HYOSCYAMUS', 'HYOTHYROIDES', 'HYPECUM', 'HYPERBATON', 'HYPERBOLE', 'HYPERCATALECTIC', 'HYPERICUM', 'HYPERSARCOSIS', 'HYPHEN', 'HYPNOTIC', 'HYPNUM', 'HYPOCAUSTUM', 'HYPOCHAERIS', 'HYPOCHONDRIA', 'HYPOGASTRIC', 'HYPOGASTRIUM', 'HYPOPHYLLOCARPODENDRON', 'HYPOPYON', 'HYPOSTASIS', 'HYPOTHEC', 'HYPOTHENAR', 'HYPOTHENUSE', 'HYPOTHESIS', 'HYSSOPUS', 'HYSTERICS', 'HYSTRIX', 'JACCA', 'JACK', 'JACKALL', 'JACOBITES', 'JACOBUS', 'JAFFA', 'JAFNAPATAN', 'JAGENDORF', 'JALAP', 'JAMAICA', 'JAMBA', 'JAMBOLIFERA', 'JAMBY', 'JAMES', 'JANEIRO', 'JANICAW', 'JANIZARIES', 'JANSENISTS', 'JANUARY', 'JAPAN', 'JAPANNING', 'JASMINUM', 'JASPER', 'JASPONYX', 'JASQUES', 'JATROPHA', 'JAVELIN', 'JAUNDICE', 'JAW', 'JAWER', 'JAZY', 'IBEX', 'IBIS', 'ICE', 'ICHNEUMON', 'ICHNOGRAPHY', 'ICHOGLANS', 'IGHOR', 'ICHTHYOLOGY', 'ICHTHYPERIA', 'ICOSAHEDRON', 'ICOSANDRIA', 'IDA', 'IDEA', 'IDENTITY', 'IDES', 'IDIOM', 'IDIOPATHY', 'IDIOT', 'IDOLATRY', 'IDYLLION', 'JEALOUSY', 'JEDBURGH', 'JEDDO', 'JEER', 'JEHOVAH', 'JEMPTERLAND', 'JENA', 'JEREMIAH', 'JERSEY', 'JERUSALEM', 'JESI', 'JESSO', 'JESUAT', 'JESUITES', 'JET', 'JEWEL', 'JEWS', 'IGLAW', 'IGNAVUS', 'IGNITION', 'IGNORANCE', 'IGUANA', 'ELCHESTER', 'ILIAD', 'ILIUM', 'ILLENOIS', 'ILLER', 'ILMEN', 'ILMINSTER', 'IMAGE', 'IMAGINATION', 'IMAN', 'IMBECILLITY', 'IMBIBING', 'IMENSTAT', 'IMITATION', 'IMMACULATE', 'IMMATERIAL', 'IMMEDIATE', 'IMMENSITY', 'IMMERSION', 'IMMORTAL', 'IMMUNITY', 'IMPALED', 'IMPALPABLE', 'IMPANATION', 'IMPANNELLING', 'IMPARLANCE', 'IMPASTATION', 'IMPATIENS', 'IMPEACHMENT', 'IMPENETRABILITY', 'IMPERATIVE', 'IMPERATOR', 'IMPERFECT', 'IMPERIAL', 'IMPERVIOUS', 'IMPETUS', 'IMPLICATION', 'IMPORTATION', 'IMPOST', 'IMPOSTHUME', 'IMPOTENCE', 'IMPREGNATION', 'IMPROPRIATION', 'IMPULSE', 'IMPURITY', 'IMPUTATION', 'INACCESSIBLE', 'INALIENABLE', 'INANIMATE', 'INANITION', 'INARCHING', 'INAUGURATION', 'INCA', 'INCAMERATION', 'INCANTATION', 'INCAPACITY', 'INCARNATION', 'INCARNATIVES', 'INCEST', 'INCH', 'INCIDENCE', 'INCISIVE', 'INCLE', 'INCLINATION', 'INCLOSURE', 'INCOGNITO', 'INCOMBUSTIBLE', 'INCOMMENSURABLE', 'INCOMPATIBLE', 'INCORPORATION', 'INCORPOREAL', 'INCORRUPTIBLE', 'INCRASSATING', 'INCUBATION', 'INCUBUS', 'INCUMBENT', 'INCUS', 'INDEFINITE', 'INDELIBLE', 'INDEMNITY', 'INDENTED', 'INDEPENDENTS', 'INDETERMINATE', 'INDEX', 'INDIA', 'INDICATION', 'INDICATIVE', 'INDICTMENT', 'INDIES', 'INDIGESTION', 'INDIGETES', 'INDIGO', 'INDIGOFERA', 'INDIVIDUAL', 'INDIVISIBLE', 'INDORSEMENT', 'INDUCTION', 'INDULGENCES', 'INDULT', 'INDULTO', 'INDUS', 'INFALLIBLE', 'INFAMY', 'INFANT', 'INFANTE', 'INFANTRY', 'INFEFTMENT', 'INFINITE', 'INFINITESIMALS', 'INFLAMMABILITY', 'INFLECTION', 'INFORMATION', 'INFUNDIBULIFORM', 'INFUSION', 'INGELSHEIM', 'INGOLSTAT', 'INGOT', 'INGRAFTING', 'INGRESS', 'INGRIA', 'INGROSSER', 'INGUEN', 'INHERITANCE', 'INHIBITION', 'INHUMATION', 'INJECTION', 'INK', 'INN', 'INNERKEITHING', 'INNISKILLING', 'INOCULATION', 'INOSCULATION', 'INQUEST', 'INQUISITION', 'INSCRIBED', 'INSCRIPTION', 'INSERTION', 'INSIPID', 'INSOLVENT', 'INSPIRATION', 'INSPISSATING', 'INSPRUCK', 'INSTALLMENT', 'INSTANT', 'INSTAURATIQN', 'INSTEP', 'INSTINCT', 'INSTITUTE', 'INSTITUTION', 'INSULATED', 'INSURANCE', 'INTAGLIOS', 'INTEGER', 'INTERCALARY', 'INTERCOSTAL', 'INTERDICT', 'INTERDICTION', 'INTEREST', 'INTERJECTION', 'INTERIM', 'INTERLOCUTOR', 'INTERLOPERS', 'INTERLUDE', 'INTERMITTENT', 'INTERPOLATION', 'INTERREGNUM', 'INTERROGATION', 'INTERVAL', 'INTESTATE', 'INTESTINES', 'INTESTINAL', 'INTRIGUE', 'INTRINSIC', 'INTUITION', 'INVECTED', 'INVENTION', 'INVERARY', 'INVERNESS', 'INVERSE', 'INVERURY', 'INVESTIGATION', 'INVESTITURE', 'INULA', 'INVOCATION', 'INVOICE', 'INVOLUCRUM', 'INVOLUTION', 'JOACHIMITES', 'JOANNA', 'JOB', 'JOBBER', 'JOHN', 'JOINERY', 'JOINT', 'JOINTURE', 'JOISTS', 'JONAH', 'IONIA', 'JONK', 'JOSHUA', 'JOURNAL', 'IPSWICH', 'IRIS', 'IRONY', 'IROQUOIS', 'IRRADIATION', 'IRTIS', 'IRWIN', 'ISABELLA', 'ISAIAH', 'ISATIS', 'ISCHIUM', 'ISCHURY', 'ISENACH', 'ISENARTS', 'ISH', 'ISIA', 'ISLAND', 'ISNARDIA', 'ISNY', 'ISOCHRONAL', 'ISOLA', 'ISOPYRUM', 'ISPAHAN', 'ISPIDA', 'ISSUES', 'ISTHMIA', 'ITALIAN', 'ITALY', 'ITCH', 'JUBILEE', 'JUCATAN', 'JUDE', 'JUDENBURGH', 'JUDGE', 'JUDGMENT', 'JUDOIGNE', 'IVES', 'JUGERUM', 'JUGULAR', 'IVICA', 'JUICE', 'JUJUBES', 'JULEP', 'JULIAN', 'JULIERS', 'JULY', 'JUNCUS', 'JUNGERMANNIA', 'JUNIPERUS', 'JUNK', 'JUNTO', 'IVORY', 'JUPITER', 'JUREA', 'JURISPRUDENCE', 'JUST', 'JUSTICE', 'JUSTICIA', 'JUSTICIARY', 'JUTES', 'JUTLAND', 'IVY', 'IXIA', 'IXORA', 'KAKENHAUSEN', 'KALI', 'KALLO', 'KAOLIN', 'KAUSBEUREN', 'KEBLA', 'TEDGING', 'KEEL', 'KEELSON', 'KEISERWAERT', 'KELLINGTON', 'KELP', 'KELSO', 'KEMPTEN', 'KENDAL', 'KENKS', 'KENSINGTON', 'KENT', 'KERMAN', 'KERRY', 'KESSEL', 'KESTRIL', 'KETMIA', 'KETTERING', 'KETCH', 'KEVEL', 'KEXHOLME', 'KEY', 'KIAM', 'KIAMSI', 'KIDDERMINSTER', 'KIDNEYS', 'KIGGELARIA', 'KIDDARE', 'KILDERKIN', 'KILKENNY', 'KIMBOLTON', 'KING', 'KINGHORN', 'KINGSTON', 'KINSALE', 'KIOF', 'KIRK', 'KIRKHAM', 'KIRKUDBRIGHT', 'KIRKWALL', 'KNARESBOROUGH', 'KNAVE', 'KNAVESHIP', 'KNAUTIA', 'KNEE', 'KNIFE', 'KNIGHT', 'KNOWLEDGE', 'KONIGSBURG', 'KORAN', 'KOS', 'KUR', 'KUTUCHTA', 'XABARUM', 'LABDANUM', 'LABEL', 'LABIAU', 'LABOUR', 'LABOURER', 'LABRADOR', 'LABRUS', 'LABURNUM', 'LABYRINTH', 'LAC', 'LACCA', 'LACE', 'LACEDEMON', 'LACERTA', 'LACHRYMAL', 'LACHRYMATORY', 'LACTUCA', 'LACUNA', 'LADENBURG', 'LAGOS', 'LAGURUS', 'LAHOLM', 'LAHOR', 'LAMA', 'LAMB', 'LAMBOIDES', 'LAMELLAE', 'LAMENTATIONS', 'LAMIUM', 'LAMP', 'LAMPAS', 'LAMPSACUS', 'LANCET', 'LANCHANG', 'LAND', 'LANDAFF', 'LANDAU', 'LANDEN', 'LANDGRAVE', 'LANDGRAVIATE', 'LANDRECY', 'LANDSCROON', 'LANDSHUT', 'LANDSKIP', 'LANERK', 'LANGUAGE', 'LANGUEDOC', 'LANGUOR', 'LANIGEROUS', 'LANNIERS', 'LANTANA', 'LANUGO', 'LANZO', 'LAODICEA', 'LAON', 'LAOS', 'LAPATHUM', 'LAPLAND', 'LAPWING', 'LAQUEUS', 'LARCENY', 'LAREDO', 'LARES', 'LARK', 'LARUS', 'LARYNX', 'LASERPITIUM', 'LASSITUDE', 'LATH', 'LATHE', 'LATHYRUS', 'LATIN', 'LATISSIMUS', 'LATITUDINARIAN', 'LATTEN', 'LAVANDULA', 'LAVATERA', 'LAUDER', 'LAUGHTER', 'LAUNCESTON', 'LAUNCH', 'LAURENTALIA', 'LAURUS', 'LAUSANNE', 'W', 'LAWN', 'LAWSONIA', 'LAYERS', 'LAZARITES', 'LAZULI', 'LEAF', 'LEAGUE', 'LEAK', 'LEAKAGE', 'LEAOTUNG', 'LEAP', 'LEARMOUTH', 'LEATHER', 'LEAVEN', 'LECHEA', 'LECTICA', 'LECTISTERNIUM', 'LECTURERS', 'LEDBURY', 'LEDGER', 'LEDUM', 'LEE', 'LEEDS', 'LEERDAM', 'LEES', 'LEET', 'LEEWARD', 'LEG', 'LEGACY', 'LEGATEE', 'LEGATE', 'LEGATUS', 'LEGEND', 'LEGGIARDO', 'LEGHORN', 'LEGION', 'LEGITIMATION', 'LEGITIME', 'LEGUMINOUS', 'LEICESTER', 'LEINSTER', 'LEIPSIC', 'LEITH', 'LEMBURG', 'LEMMA', 'LEMNA', 'LEMNOS', 'LEMON', 'LEMONADE', 'LEMURIA', 'LENA', 'LENS', 'LENT', 'LENTISCUS', 'LEO', 'LEON', 'LEONTICE', 'LEONTINI', 'LEONTODON', 'LEONURUS', 'LEPANTO', 'LEPASTRUM', 'LEPIDOPTERA', 'LEPIUM', 'LEPROSY', 'LEPTODECORHOMBES', 'LEPTOPOLYGINGLIMI', 'LEPTURA', 'LEPUS', 'LERNEA', 'LESBOS', 'LESCAR', 'LESCARD', 'LESSONS', 'LESTWITHIEL', 'LETHARGY', 'LETHE', 'LETRIM', 'LETTER', 'LETTUCE', 'LEVANT', 'LEVATOR', 'LEUCADENDRON', 'LEUCOIUM', 'LEUCOMA', 'LEUCOPHLEGMATIA', 'LEVEL', 'LEVELLING', 'LEVER', 'LEVERET', 'LEVIGATION', 'LEVITE', 'LEVITICUS', 'LEVITY', 'LEVY', 'LEWARDEN', 'LEWES', 'LEWIS', 'LEYDEN', 'LEYTE', 'LIBANUS', 'LIBATION', 'LIBAW', 'LIBELLULA', 'LIBER', 'LIBERIA', 'LIBERTUS', 'LIBERTY', 'LIBRA', 'LIBRARY', 'LIBRATION', 'LIBYA', 'LICENCE', 'LICENTIATE', 'LICHEN', 'LICTORS', 'LIEGE', 'LIENTERY', 'LIEUTENANT', 'LIFE', 'LIFERENT', 'LIGAMENT', 'LIGATURE', 'LIGHT', 'LIGHTENING', 'LIGULATED', 'LIGUSTICUM', 'LIGUSTRUM', 'LILIADEOUS', 'LILIUM', 'LIMA', 'LIMB', 'LIMERIC', 'LIMINGTON', 'LIMIT', 'LIMNING', 'LIMODORUM', 'LIMOSELLA', 'LINCOLN', 'LINE', 'LINEAMENT', 'LING', 'LINGEN', 'LINGUATULA', 'LINNEN', 'UNNET', 'LINSEED', 'LINTEL', 'LINTON', 'LINTS', 'LINUM', 'LION', 'LIONCELLES', 'LIP', 'LIPOTHYMIA', 'LIPPIA', 'LIQUIDAMBER', 'LIQUOR', 'LIIUODENDRUM', 'LISBON', 'LISIEUX', 'LISLE', 'LITANY', 'LITCHFIELD', 'LITERATI', 'LITHANTHRAX', 'LITHARGE', 'LITHIDIA', 'LITHOGINESIA', 'LITHOMARGA', 'LITHOPHYTA', 'LITHOSPERMUM', 'LITHOSTROTION', 'LITHOTOMY', 'LITHOZUGIA', 'LITHUANIA', 'LITISCONTESTATION', 'LITURGY', 'LIVERPOOL', 'LIVONIA', 'LIVRE', 'LIXIVIOUS', 'LIXIVIUM', 'LIZZARD', 'LOACH', 'LOAMS', 'LOBE', 'LOCAL', 'LOCHIA', 'LOCHMABEN', 'LOCK', 'LOCKMAN', 'LOCRIDA', 'LOCULAMENT', 'LOCUST', 'LODGMENT', 'LOEFLINGIA', 'LOESELIA', 'LOG', 'LOGARITHMS', 'LOGIC', 'LOINS', 'LOIRE', 'LOLIUM', 'LOMMOND', 'LONDON', 'LONDONDERRY', 'LONGEVITY', 'LONGFORD', 'LONGIMETRY', 'LONGINICO', 'LONGITUDINAL', 'LOOP', 'LOOM', 'LORANTHUS', 'LORD', 'LORETTO', 'LORN', 'LORRAIN', 'LOTHIAN', 'LOTTERY', 'LOTUS', 'LOVAGE', 'LOUIS', 'LOUISIANA', 'LOUSE', 'LOUTH', 'LOUVAIN', 'LOWERING', 'LOXIA', 'LOZENGE', 'LUBEC', 'LUBEN', 'LUBLIN', 'LUBOW', 'LUCAR', 'LUCARNO', 'LUCCA', 'LUCERN', 'LUCERNE', 'LUCIOPERCA', 'LUCIUS', 'LUCONIA', 'LUDLOW', 'LUDWIGIA', 'LUES', 'LUGGERSHAL', 'LUGO', 'LUMBARIS', 'LUMBRICAL', 'LUMBRICUS', 'LUMME', 'LUNA', 'LUNAR', 'LUNARIA', 'LUND', 'LUNDY', 'LUNENBURG', 'LUNULA', 'LUPERCALIA', 'LUPINUS', 'LUPULUS', 'LUPUS', 'LURE', 'LUSATIA', 'LUSTRATION', 'LUSTRE', 'LUTE', 'LUTHERN', 'LUTON', 'LUTRA', 'LUXATION', 'LUXEMBURG', 'LYBIA', 'LYCEUM', 'LYCIUM', 'LYCODONTES', 'LYCOPSIS', 'LYCOPDS', 'LYDIA', 'LYMPH', 'LYMPHATICS', 'LYNX', 'LYRE', 'LYRIC', 'LYSIMACHIA', 'LYTHRUM', 'MACCABEES', 'AIACCLESFIELD', 'MACEDONIA', 'MACERATION', 'MACHINE', 'MACHINERY', 'MACKERAN', 'MACROPYRENIUM', 'MACROTELOSTYLA', 'MADAGASCAR', 'MADNESS', 'MADRAS', 'MADRID', 'MADRIGAL', 'MAES', 'MAESTRICHT', 'MAGADOXA', 'MAGAZINE', 'MAGDALEN', 'MAGDEBURG', 'MAGI', 'MAGIC', 'MAGISTERY', 'MAGISTRATE', 'MAGNET', 'MAGNIFYING', 'MAGNITUDE', 'MAGPY', 'MAHOMETANS', 'MAIDEN', 'MAIDSTONE', 'MAJESTY', 'MAIL', 'MAINE', 'MAINPRISE', 'MAJOR', 'MAJORCA', 'MALABAR', 'MALACCA', 'MALACHI', 'MALACIA', 'MALACOPTERYGIOUS', 'MALAGA', 'MALAMOCCA', 'MALDON', 'MALE', 'MALIGNANT', 'MALL', 'MALLEUS', 'MALLOW', 'MALMSBURY', 'MALO', 'MALOPE', 'MALPIGHIA', 'MALPLAQUET', 'MALTA', 'MALTON', 'MALVA', 'MALUS', 'MAMALUKES', 'MAMMEA', 'MAN', 'MANCHESER', 'MANDAMUS', 'MANDARINS', 'MANDATE', 'MANDRAGORA', 'MANE', 'MANEGE', 'MANES', 'MANGIFERA', 'MANIA', 'MANICHEES', 'MANICORDON', 'MANIFESTO', 'MANILLE', 'MANIPULUS', 'MANNA', 'MANOR', 'MANSION', 'MANSLAUGHTER', 'MANTELETS', 'MANTLE', 'MANUMISSION', 'MAPLE', 'MAPPARIUS', 'MARASMUS', 'MARBLING', 'MARCASITES', 'MARCGRAVE', 'MARCGRAVIA', 'MARCH', 'MARCHANTIA', 'MARCHE', 'MARCHPURG', 'MARCIONITES', 'MARCOSIANS', 'MARE', 'MARGARETTA', 'MARGARITA', 'MARGATE', 'MARIGNAN', 'MARINER', 'MARINO', 'MARJORAM', 'MARITIME', 'MARKET', 'MARLBRO', 'MARLOW', 'MARMALADE', 'MARMORA', 'MARMOTTE', 'MAROSCH', 'MARPURG', 'MARQUE', 'MARQUETRY', 'MARQUIS', 'MARRIAGE', 'MARROW', 'MARRUBIUM', 'MARS', 'MARSEILLES', 'MARSHAL', 'MARSHFIELD', 'MARSHMALLOW', 'MARSILEA', 'MARTINGALE', 'MARTINICO', 'MARTYNIA', 'MARTYR', 'MARYLAND', 'MASCULINE', 'MASON', 'MASONRY', 'MASS', 'MASSA', 'MASSETER', 'MASSORA', 'MASTER', 'MASTICATION', 'MASTICH', 'MASTIGADOUR', 'MASULIPATAN', 'MATCH', 'MATERAN', 'MATRICULA', 'MATRIX', 'MATRONALIA', 'MATT', 'MATTER', 'MATTHEW', 'MATTINS', 'MATTURANTS', 'MAUNCH', 'MAUSOLEUM', 'MAXILLA', 'MAXIM', 'MAXIMUM', 'MAY', 'MAYENNE', 'MEAD', 'MEADOW', 'MEAN', 'MEASLES', 'MEASURE', 'MEATH', 'MEAUX', 'MECCA', 'MECHOACAN', 'MECON', 'MECONIUM', 'MEDAL', 'MEDALLION', 'MEDEOLA', 'MEDIASTINUM', 'MEDIATE', 'CINE', 'MEDINA', 'MEDITULLIUM', 'MEDIUM', 'MEDULLA', 'MEDUSA', 'MEDWAY', 'MEISSEN', 'MELAMPODIUM', 'MELANCHOLY', 'MELANURUS', 'MELASTOMA', 'MELCHITES', 'MELES', 'MELIA', 'MELIANTHUS', 'MELICERES', 'MELINDA', 'MELINUM', 'MELISSA', 'MELITIS', 'MELLER', 'MELODY', 'MELOE', 'MELON', 'MELOTHRIA', 'MEMBER', 'MEMBERED', 'MEMECYLON', 'MEMORY', 'MEMPHIS', 'MENGRELIA', 'MENIALS', 'MENISCUS', 'MENNONITES', 'MENOLOGY', 'MENSALS', 'MENSES', 'MENSTRUUM', 'MENSURATION', 'MENTHA', 'MENTZ', 'MENYANTHES', 'MERCURIAL', 'MERCURLALIS', 'MERCURY', 'MERIONETHSHIRE', 'MERIT', 'MERLIN', 'MERLON', 'MERNS', 'MERGES', 'MERSE', 'MERULA', 'MESEEN', 'MESEMBRYANTHEMUM', 'MESENTERY', 'MESNE', 'MESOCOLON', 'MESOLOGARITHMS', 'MESOPOTAMIA', 'MESPILUS', 'MESSASIPPI', 'MESSENGERS', 'MESSIAH', 'METACARPUS', 'METALS', 'METALLURGY', 'METAMORPHOSIS', 'METAPHOR', 'GOLD', 'SULPHUR', 'METASTASIS', 'METATARSUS', 'METATHESIS', 'METEMPSYCHOSIS', 'METEMTOSIS', 'METEOR', 'METHEGLIN', 'METHOD', 'METHODISTS', 'METONYMY', 'METRE', 'METRETES', 'METROPOEIS', 'METZ', 'MEXICO', 'MEZZOTINTO', 'MIASMA', 'MICA', 'MICAH', 'MICHAELMAS', 'MICHELIA', 'MICROCOS', 'MICROCOSM', 'MICROGRAPHY', 'MICROPUS', 'MICROSCOPE', 'MIDDLESEX', 'MIDHURST', 'BB', 'CC', 'DD', 'GG', 'HH', 'MM', 'II', 'KK', 'GGG', 'LL', 'LLL', 'EE', 'FF', 'L', 'OP', 'BCD', 'AA', 'EEEE', 'FFFF', 'ABC', 'EF', 'AABC', 'QP', 'R', 'ID', 'MILAN', 'MILDEW', 'MILE', 'MILIARY', 'MILITANT', 'MILITARY', 'MILITIA', 'MILIUM', 'MILK', 'MILL', 'MILLENARIANS', 'MILLERIA', 'MILLET', 'MILLION', 'MILLREE', 'MILT', 'MILTON', 'MILVUS', 'MIME', 'MIMESIS', 'MIMOSA', 'MIMULUS', 'MIMUSOFS', 'MINA', 'MIND', 'MINDANAO', 'MINDELHEIM', 'MIHDEN', 'MINEHEAD', 'MINEIIAL', 'MLNHO', 'MINIATURE', 'MINIM', 'MINIMUM', 'MINIUM', 'MINOR', 'MINOTAUR', 'MINSTREL', 'MINT', 'MINUARTIA', 'MINUET', 'MINUTE', 'MIRACLE', 'MIRALETUS', 'MISCHNAH', 'MISDEMEANOUR', 'MISFEASANCE', 'MISLETOE', 'MISNOMER', 'MISSAL', 'MISSIONARIES', 'MISY', 'MITCHELLA', 'MITE', 'MITELLA', 'MITRE', 'MITREOLA', 'MITTIMUS', 'MIXT', 'MIXTURE', 'MIZEN', 'MNIUM', 'MOCO', 'MODBURY', 'MODE', 'MODEL', 'MODENA', 'MODERATOR', 'MODERN', 'MODICA', 'MODIFICATION', 'MODILLIONS', 'MODULE', 'MOHERINGIA', 'MOFFAT', 'MOHAIR', 'MOHILA', 'MOIDORE', 'MOIETY', 'MOLA', 'MOLARES', 'MOLDAVIA', 'MOLE', 'MOLLUGO', 'MOLWITZ', 'MOMBAZA', 'MOMENT', 'MOMENTUM', 'MOMORDICA', 'MONA', 'MONADELPHIA', 'MONANDRIA', 'MONARCHY', 'MONARDA', 'MONASTERY', 'MONASTIC', 'MONCON', 'MONDAY', 'MONEY', 'MONKEY', 'MONOCHORD', 'MONOGULUS', 'MONODY', 'MONOGAMY', 'MONOLOGUE', 'MONOMOTOPA', 'MONOPETALOUS', 'MONOPOLI', 'MONOPOLY', 'MONOPYRENEOUS', 'MONOSYLLABLE', 'MONOTONY', 'MONOTROPA', 'MONS', 'MONSOON', 'MONSTER', 'MONTFERRAT', 'MONTFORT', 'MONTGOMERY', 'MONTROSE', 'MONTSERAT', 'MORASS', 'MORAVIA', 'MORAVIANS', 'MORBID', 'MORDELLA', 'MORESK', 'MORGAY', 'MORINA', 'MORINDA', 'MORINELLUS', 'MORLAIX', 'MORMYLUS', 'MORNING', 'MOROCCO', 'MOROCHTHUS', 'MORPETH', 'MORTALITY', 'MORTAR', 'MORTISE', 'MORTMAIN', 'MORTUARY', 'MORUS', 'MOSAIC', 'MOSAMBIQUE', 'MOSCHUS', 'MOSCOW', 'MOSCOWA', 'MOSELLE', 'MOSKITO', 'MOSPURG', 'MOSQUE', 'MOTACILLA', 'MOTE', 'MOTH', 'MOTHER', 'MOTION', 'MOTTO', 'MOVEABLE', 'MOVEMENT', 'MOULD', 'MOULDING', 'MOULINET', 'MOUND', 'MOUNT', 'MOUNTAIN', 'MOUSE', 'MOUSEL', 'MQUTH', 'MSCYSLAW', 'MUCOR', 'MUCUS', 'MUER', 'MUFFLE', 'MUFTI', 'MUGGLETONIANS', 'MUID', 'MULL', 'MULATTO', 'MULBERRY', 'MULCT', 'MULE', 'MULLERAS', 'MULLET', 'MULSUM', 'MULTAN', 'MULTIPLICAND', 'MULTIPLICATOR', 'MULTURE', 'MULVIA', 'MUM', 'MUMMY', 'MUNGATS', 'MUNICH', 'MUNICIPAL', 'MUNITION', 'MUNSTER', 'MURCIA', 'MURDER', 'MURENGERS', 'MUREX', 'MURO', 'MURRAIN', 'MURRAY', 'MURREY', 'MUS', 'MUSCADINE', 'MUSCLE', 'MUSEUM', 'MUSES', 'MUSHROOM', 'AU', 'MUSKET', 'MUSKETOON', 'MUSLIN', 'MUSSALNDA', 'MUSSELBOROUGH', 'MUSTARD', 'MUTE', 'MUTILATION', 'MUTULE', 'MUTUUM', 'MYAGRUM', 'MYLOGLOSSUM', 'MYOPIA', 'MYOSOTIS', 'MYOSURUS', 'MYRIAD', 'MYRICA', 'MYRMECOPHAGA', 'MYRRH', 'MYRSINE', 'MYRTIFORM', 'MYRTLE', 'MYRTUS', 'MYURUS', 'NABONASSAR', 'NADIR', 'NAHUM', 'NAIADS', 'NAIL', 'NAIRN', 'NAISSANT', 'NAME', 'NANCY', 'NANFIQ', 'NANKING', 'NANSAMUND', 'NANTZ', 'NAPHTHA', 'NAPLES', 'NARBONNE', 'NARBOROUGH', 'NARCISSUS', 'NARCOTICS', 'NARDO', 'NARDUS', 'NARRATION', 'NARWAL', 'NASSAU', 'NASSUS', 'NATES', 'NATION', 'NATIVITY', 'NATOLIA', 'NATRIX', 'NATRUM', 'NATURALS', 'NATURE', 'MAVARINO', 'NAVARRE', 'NAVE', 'NAVEL', 'NAVEREINI', 'NAVEW', 'NAVIDAD', 'NAUMACHIA', 'NAUSEA', 'NAUTILUS', 'NAVY', 'NAXIA', 'NAZARENES', 'NAZARITES', 'NEALED', 'NEATH', 'NEBULY', 'NECESSARY', 'NECESSITY', 'NECK', 'NECKAR', 'NECROMANCY', 'NECTAR', 'NECTARIUM', 'NEEDHAM', 'NEEDLE', 'NEEDLES', 'NEGAPATAN', 'NEGATION', 'NEGATIVE', 'NEGOMBO', 'NEGRAIS', 'NEGROES', 'NEGROLAND', 'NEGROPONT', 'NEHEMIAH', 'NELLENBURG', 'NEMOURS', 'NEOMENIA', 'NEOPHYTES', 'NEOTTIA', 'NEPENTHES', 'NEPHEW', 'NEPHRITIC', 'NEPHRITIS', 'NERICIA', 'NERIUM', 'NERVES', 'NESTORIANS', 'NETHERLANDS', 'NETTINGS', 'NETTLE', 'NETTUNO', 'NEVERS', 'NEUFCHATEL', 'NEVIN', 'NEURITICS', 'NEUROGRAPHY', 'NEUSTAT', 'NEUTER', 'NEUTRALITY', 'NEWARK', 'NEWBOROUGH', 'NEWBURG', 'NEWBURY', 'NEWCASTLE', 'NEWEL', 'NEWFOUNDLAND', 'NEWHAUSEL', 'NEWMARK', 'NEWMARKET', 'NEWNHAM', 'NEWPORT', 'NEWSTAT', 'NEWTON', 'NIAGARA', 'NIBANO', 'NICARAGUA', 'NICARIA', 'NICASTRO', 'NICE', 'NICHE', 'NICOLAITANS', 'NICOMEDIA', 'NICOPOLIS', 'NICOTERA', 'NIGOTIANA', 'NIDUS', 'NIECE', 'NIEMEN', 'NIEPER', 'NIESTAT', 'NIESTER', 'NIGELLA', 'NIGER', 'NIGHT', 'NILE', 'NIMEGUEN', 'NIMETULAHITES', 'NIMPO', 'NINEVEH', 'NINOVE', 'NIO', 'NIORT', 'NIPHON', 'NIPPERS', 'NIPPLES', 'NISNA', 'NISSA', 'NITHSDALE', 'NITRACHT', 'NIVELLE', 'NIXABOUR', 'NOBILITY', 'NOBLE', 'NOCERA', 'NOCTAMBULI', 'NOCTILUCA', 'NOCTURNAL', 'NODUS', 'NOETIANS', 'NOGENT', 'NOLI', 'NOMARCHA', 'NOME', 'NOMENCLATOR', 'NOMENCLATORES', 'NOMENCLATURE', 'NOMINALS', 'NOMINATIVE', 'NONAGE', 'NONCONFORMISTS', 'NONE', 'NORDEN', 'NORFOLK', 'NORMANDY', 'NORROY', 'NORTH', 'NORTHALLERTON', 'NORTHAMPTON', 'NORTHAUSEN', 'NORTHLEECH', 'NORTHUMBERLAND', 'NORTHWICH', 'NORWAY', 'NORWICH', 'NOSE', 'NOTARY', 'NOTATION', 'NOTES', 'NOTHUS', 'NOTION', 'NOTONECTA', 'NOTTEBURG', 'NOTTINGHAM', 'NOVARA', 'NOVATIANS', 'NOVATION', 'NOVEL', 'NOVELLARA', 'NOVEMBER', 'NOVEMVIRI', 'NOVIGRAD', 'NOUN', 'NOVOGOROD', 'NOVOGRODECK', 'NOWED', 'NUBIA', 'NUCHA', 'NUCIFRAGA', 'NUCLEUS', 'NUDITIES', 'NULLITY', 'NOMENIUS', 'NUMERATION', 'NUMIDIA', 'NUMISMATOGRAPHIA', 'NUMMUS', 'NUN', 'NUNCIO', 'NUNCUPATIVE', 'NUNDINAL', 'NURENBURG', 'NURSERY', 'NUSANCE', 'NUT', 'NUTATION', 'NUTMEG', 'NUTRITION', 'NUYS', 'NYBURG', 'NYCHTHEMERON', 'NYCTANTHES', 'NYCTICORAX', 'NYLAND', 'NYMPH', 'NYMPHEUM', 'NYONS', 'NYSLOT', 'OAKAM', 'OAKHAMPTON', 'OAR', 'OBADIAH', 'OBELISK', 'OBERSTEIN', 'OBERWESEL', 'OBJECT', 'OBJECTION', 'OBLATI', 'OBLATION', 'OBLIGATION', 'OBLIQUE', 'OBLIQUUS', 'OBLONG', 'OBOLUS', 'OBREPTITIOUS', 'OBSECRATION', 'OBSERVATION', 'OBSERVATORY', 'OBSTRUCTION', 'OBTURATOR', 'OBTUSE', 'OBULARIA', 'OBY', 'OCCIDENT', 'OCCULT', 'OCCULTATION', 'OCCUPANT', 'OCHLOCRACY', 'OCHNA', 'OCHRE', 'OCKER', 'OCKINGHAM', 'OCTAETERIDES', 'OCTAGON', 'OCTANDRIA', 'OCTANT', 'OCTAPLA', 'OCTATEUCH', 'OCTOBER', 'OCZAKOW', 'ODA', 'ODENSEE', 'ODER', 'ODERBERG', 'ODIERNHEIM', 'ODEUM', 'ODIHAM', 'ODONTALGIA', 'ODONTOIDE', 'ODOROUS', 'ODYSSEY', 'OECONOMY', 'GECUMENICAL', 'OEDENBURG', 'OELAND', 'OENANTHE', 'OENOTHERA', 'OESEL', 'OESOPHAGUS', 'OESTRUS', 'QETING', 'OFFENBURG', 'OFFICE', 'OFFICER', 'OFFICIAL', 'OFFICINAL', 'OFFING', 'OGEE', 'OGIVE', 'OGLIO', 'OHIO', 'OSIANS', 'OKEHAM', 'OLDENBURG', 'OLDENLANDIA', 'OLDENZEL', 'OLEAGINOUS', 'OLECRANUM', 'OLERON', 'OLESCO', 'OLIBANUM', 'OLIGARCHY', 'OLINDA', 'OLIO', 'OLIVA', 'OLIVE', 'OLIVENZA', 'OLYMPIAD', 'OLYMPUS', 'OMAN', 'OMBRE', 'OMBRIA', 'OMELET', 'OMEN', 'DMENTUM', 'OMLANDS', 'OMMEN', 'OMOPHAGIA', 'OMOPLATE', 'ONANDAGOES', 'ONANIA', 'ONEGLIA', 'ONEIRGCRITICA', 'ONGAR', 'ONISCUS', 'ONOCLEA', 'ONOMANCY', 'ONOMATOPOEIA', 'ONONIS', 'ONOPORDUM', 'ONTARIO', 'ONYX', 'OOST', 'OPACITY', 'OPAL', 'OPALIA', 'OPERA', 'OPERATION', 'OPERATOR', 'OPHIDIUM', 'OPHIOGLOSSUM', 'OPHIOMANCY', 'OPHIORHIZA', 'OPHIOXYLON', 'OPHITES', 'OPHTHALMOSCOPY', 'OPIATES', 'OPINION', 'OPISTHOTONOS', 'OPIUM', 'OPOPANAX', 'OPOSSUM', 'OPPILATION', 'OPPONENT', 'OPPOSITION', 'OPTERIA', 'OPUNTIA', 'ORACLE', 'ORAL', 'ORATION', 'ORATORIO', 'ORB', 'ORBICULARIS', 'ORBIS', 'ORBIT', 'ORCHARD', 'ORCHESTRA', 'ORCHIS', 'ORDEAL', 'ORDER', 'ORDINANCE', 'ORDINATION', 'ORDNANCE', 'OREBRO', 'OREGRUND', 'ORFORD', 'ORGAL', 'ORGAN', 'ORGASM', 'ORGIA', 'ORGIVA', 'ORGUES', 'ORIFICE', 'ORIGANUM', 'ORIGENISTS', 'ORIGINAL', 'ORIGUELLA', 'ORIOLUS', 'ORION', 'ORJXA', 'ORLEANOIS', 'ORLEANS', 'ORLOPE', 'ORMOND', 'ORMUS', 'ORNITHOGALUM', 'ORNITHOLOGY', 'ORNITHOMANCY', 'ORNIOPHPUS', 'OROBANCHE', 'OROBUS', 'ORONTIUM', 'ORPHAN', 'ORPIMENT', 'ORPINE', 'ORRERY', 'ORTEGIA', 'ORTHODOX', 'ORTHOPNOEA', 'ORTON', 'ORVIETTO', 'ORWELL', 'ORYZA', 'OSACA', 'GSBECKIA', 'OSCHEOCELE', 'OSMUNDA', 'OSSORY', 'OSTAGIO', 'OSTEND', 'OSTEOCOLLA', 'OSTEOLOGY', 'OSTEOSPERMUM', 'OSTIA', 'OSTRACISM', 'OSTREA', 'OSTRICH', 'OSWEGO', 'OSWESTRY', 'OSYRIS', 'OTHONNA', 'OTIS', 'OTOQUE', 'OTRANTO', 'OTTER', 'OTTOMAN', 'OTTONA', 'OVAL', 'OVARIES', 'OVATION', 'OUDENBURG', 'OVERHALE', 'OVERSMAN', 'OVERT', 'OVERTUR', 'OVERYSSEL', 'OVIEDO', 'OVILIA', 'OVIPAROUS', 'OULZ', 'OUNDLE', 'OVOLO', 'OUSTIACH', 'OUTLAW', 'OUTLAWRY', 'OUTWORKS', 'OUZEL', 'OWL', 'OX', 'OXALIS', 'OXFORD', 'OXGANG', 'OXUS', 'OXYCOCCUS', 'OXYCRATE', 'OXYCROCEUM', 'OXYGLYCU', 'OXYMEL', 'OYER', 'OYES', 'OYSTER', 'PACA', 'PACE', 'PACHAMAC', 'PACHODECARHOMBIS', 'PACK', 'PACOS', 'PACTOLUS', 'PADDOC', 'PADERBORNE', 'PADSTOW', 'PADUA', 'PADUAN', 'PADUS', 'PASAN', 'PAIONIA', 'PAGANALIA', 'PAGANELLUS', 'PAGANISM', 'PAGEANT', 'PAGOD', 'PAIN', 'PAINTING', 'PALAESTRA', 'PALAISTROPHYLAX', 'PALAMBOANG', 'PALAMEDIA', 'PALATE', 'PALATINATE', 'PALATINE', 'PALE', 'PALERMO', 'PALESTINE', 'PALESTRINA', 'PALIMBAM', 'PALINDROMUS', 'PALING', 'PALINODY', 'PALIURUS', 'PALL', 'PALLA', 'PALLADIUM', 'PALLET', 'PALLIATION', 'PALLIUM', 'PALMATED', 'PALMIPEDES', 'PALMYRA', 'PALOS', 'PALPABLE', 'PALPITATION', 'PALUDAMENTUM', 'PALY', 'PAMPELUNA', 'PANACEA', 'PANADA', 'PANAMA', 'PANARO', 'PANAX', 'PANAY', 'PANCARPUS', 'PANCREAS', 'PANDECTS', 'PANDICULATION', 'PANEGYRIC', 'PANEGYRICUM', 'PANGONIA', 'PANIC', 'PANICLE', 'PANICUM', 'PANNEL', 'PANORPA', 'PANTALOON', 'PANTHEON', 'PANTHER', 'PANTOMIME', 'PANUCO', 'PAPENHEIM', 'PAPHLAGONIA', 'PAPHOS', 'PAPILIO', 'PAPOUS', 'PAPPUS', 'PAR', 'PARABLE', 'PARACENTESIS', 'PARACLET', 'PARADISEA', 'PARADISE', 'PARADOX', 'PARAEA', 'PARAGOGE', 'PARAGUAY', 'PARALIPOMENA', 'PARALLACTIC', 'PARALLAX', 'PARALLEL', 'PARALLELOGRAM', 'PARALLELOPIPEDIA', 'PARALOGISM', 'PARALYSIS', 'PARAMECIA', 'PARAMETER', 'PARAMOUNT', 'PARANYMPH', 'PARAPET', 'PARAPHIMOSIS', 'PARAPHRASE', 'PARAPHROSYNE', 'PARASITE', 'PARASITES', 'PARASYNANCHE', 'PARATHENAR', 'PARBUNCLE', 'PARCEE', 'PARCHMENT', 'PARELCON', 'PAREMBOLE', 'PARENCHYMA', 'PARENT', 'PARENTALIA', 'PARENTHESIS', 'PARETONIUM', 'PARGET', 'PARGETING', 'PARIA', 'PARIS', 'PARISH', 'PARK', 'PARKINSONIA', 'PARLEY', 'PARLIAMENT', 'PARMA', 'PARNASSUS', 'PARODY', 'PARONOMASIA', 'PAROS', 'PAROTIDES', 'PARRELS', 'PARROT', 'PARSLEY', 'PARSNEP', 'PARSON', 'PARSONAGE', 'PARTERRE', 'PARTHIA', 'PARTI', 'PARTICIPLE', 'PARTICLE', 'PARTNER', 'PARTRIDGE', 'PARULIDES', 'PARUS', 'PASCHAL', 'PAISLEY', 'PASQUIN', 'PASQUINADE', 'PASSANT', 'PASSAO', 'PASSAU', 'PASSERINA', 'PASSIONS', 'PASSIVE', 'PASSOVER', 'PASTEBOARD', 'PASTIL', 'PASTINACA', 'PASTORAL', 'PASTURE', 'PATAGONIA', 'PATAGONULA', 'PATAN', 'PATCHUGA', 'PATE', 'PATELLA', 'PATENT', 'PATH', 'PATHETIC', 'PATHOGNOMONIC', 'PATHOS', 'PATMOS', 'PATNA', 'PATANCE', 'PATOWMAC', 'PATRAS', 'PATRIARCHS', 'PATRICIAN', 'PATRIMONY', 'PATRINGTON', 'PATRIPASSIANS', 'PATROL', 'PATRON', 'PATRONAGE', 'PATRONYMIC', 'PAVETTA', 'PAVIA', 'PAULICIANS', 'PAULTNIA', 'PAUSANIA', 'PAUSE', 'PAW', 'PEA', 'PEACH', 'PEACOCK', 'PEAK', 'PEAN', 'PEAR', 'PEARCH', 'PEARL', 'PEAT', 'PEBBLES', 'PECCANT', 'PECK', 'PECORA', 'PECTORAL', 'PECTORALIS', 'PECULIUM', 'PEDAGOGUE', 'PEDANT', 'PEDESTAL', 'PEDICULARIS', 'PEDICULUS', 'PEDILUVIUM', 'PEDIMENT', 'PEDIR', 'PEDUNCLE', 'PEER', 'PEERESS', 'PEGANUM', 'PEGASUS', 'PEGU', 'PEKIN', 'PELAGIANS', 'PELICANUS', 'PELICAN', 'PELLICLE', 'PELVIS', 'PENATES', 'PENCIL', 'PENDULOUS', 'PENETRALE', 'PENICILLUS', 'PENINSULA', 'PENIS', 'PENNY', 'PENRISE', 'PENRYN', 'PENSANCE', 'PENSION', 'PENTACROSTIC', 'PENTAEDROSTYLA', 'PENTAGON', 'PENTAGRAPH', 'PENTAMETER', 'PENTAPETALOUS', 'PENTAPETES', 'PENTASTYLE', 'PENTATEUCH', 'PENTATHLON', 'PENTECOST', 'PENULTIMA', 'PENUMBRA', 'PEPLIS', 'PEPO', 'PEPPER', 'PERA', 'PERAMBULATOR', 'PERCA', 'PERCEPTION', 'PERENNIAL', 'PERFUME', 'PERGAMUS', 'PERIAGOGE', 'PERIANTHIUM', 'PERICARDIUM', 'PERICARPIUM', 'PERICHORUS', 'PERICRANIUM', 'PERIGEE', 'PERIGRAPHE', 'PERIGUEUX', 'PERIHELIUM', 'PERIMETER', 'PERIOD', 'PERIODIC', 'PERIOECI', 'PERIOPHTHALMIUM', 'PERIOSTEUM', 'PERIPETIA', 'PERIPHERY', 'PERIPLOCA', 'PERIPNEUMONY', 'PERISTAPHYLINUS', 'PERISTYLE', 'PERISYSTOLE', 'PERITONAEUM', 'PERITROCHIUM', 'PERJURY', 'PERMEABLE', 'PERMUTATION', 'PERNAMBUCO', 'PERORATION', 'PEROUSA', 'PERPENDICULAR', 'PERPIGNAN', 'PERRUKE', 'PERRY', 'PERSECUTION', 'PERSEPOLIS', 'PERSIA', 'PERSICA', 'PERSICARIA', 'PERSON', 'PERSONALITY', 'PERSONIFYING', 'PERSPIRATION', 'PERTH', 'PERTHAMBOY', 'PERU', 'PERUGIA', 'PESARO', 'PESSARY', 'PESTILENCE', 'PETAL', 'PETALISM', 'PETECHIAL', 'PETER', 'PETERBOROUGH', 'PETERSHAGEN', 'PETHERTON', 'PETITGUAVES', 'PETITVERIA', 'PETRE', 'PETREA', 'PETRIDIA', 'PETRIFACTION', 'PETROLEUM', 'PETROMYZON', 'PETTAW', 'PETTIPOLI', 'PETUNSE', 'PEUCEDANUM', 'PEWTER', 'PEZIZA', 'PHACA', 'PHENOMENON', 'PHAGEDENA', 'PHALANGIUM', 'PHALANX', 'PHALARIS', 'PHAJEUS', 'PHANATIC', 'PHANTASM', 'PHARISEES', 'PHARMACY', 'PHARNACEUM', 'PHAROS', 'PHARSALUS', 'PHASCUM', 'PHASEOLOUS', 'PHASES', 'PHASIANUS', 'PHASSACHATES', 'PHEASANT', 'PHELLANDRIUM', 'PHENICIA', 'PHILADELPHIA', 'PHILIPPI', 'PHILIPPICS', 'PHILIPPOPOLI', 'PHILIPSTAT', 'PHILLYREA', 'PHILOLOGY', 'PHILOMATHES', 'PHILOSOPHER', 'PHILOSOPHIC', 'PHILOSOPHY', 'PHILYCA', 'PHIMOSIS', 'PHLEGM', 'PHLEGMAGOGUES', 'PHLEGMATIC', 'PHLEGMON', 'PHLOGISCIERIA', 'PHLOGONIAL', 'PHLOMIS', 'PHLOX', 'PHOCA', 'PHOCEA', 'PHOENIX', 'PHOLAS', 'PHONICS', 'PHOSPHORUS', 'PHRENSY', 'PHRYGIA', 'PHTHIRIASIS', 'PHTHISIS', 'PHYLLANTFIUS', 'PHYLLIS', 'PHYSALIS', 'PHYSETER', 'PHYSICAL', 'PHYSICIAN', 'PHYSICS', 'PHYTEUMA', 'PHYTOLACCA', 'PICA', 'PICARDY', 'PICKLE', 'PICKERY', 'PICQUERING', 'PICRIS', 'PICUS', 'PIECE', 'PIEDMONT', 'PIETISTS', 'PIG', 'PIGEON', 'PIGMENTS', 'PIKE', 'PILASTER', 'PILE', 'PILL', 'PILLAR', 'PILLORY', 'PILOT', 'PIN', 'PINE', 'PINGUICULA', 'PINION', 'PINK', 'PINNACE', 'PINNACLE', 'PINUS', 'PIONEER', 'PIPE', 'PIPER', 'PIRATE', 'PISA', 'PISCARY', 'PISCES', 'PISCINA', 'PISSAPHALTUM', 'PISTACIA', 'PISTIL', 'PISTOL', 'PISTOLE', 'PISTON', 'PISUM', 'PITCH', 'PITH', 'PLACE', 'PLACENTA', 'PLACENTIA', 'PLAGIARY', 'PLAGUE', 'PLAN', 'PLANE', 'PLANET', 'PLANETARIUM', 'PLANISPHERE', 'PLANT', 'PLANTAGO', 'PLANTARIS', 'PLANTATION', 'PLASTER', 'PLASTIC', 'PLATA', 'PLATALEA', 'PLATANUS', 'PLATBAND', 'PLATFORM', 'PLATONIC', 'PLATOON', 'PLEA', 'PLEBEIAN', 'PLEDGE', 'PLEDGET', 'PLEIADES', 'PLENITUDE', 'PLENUM', 'PLEONASM', 'PLETHORA', 'PLEURISY', 'PLEURONECTES', 'PLEXUS', 'PLIMTON', 'PLINTH', 'PLOT', 'PLOUGH', 'PLOUGHMAN', 'PLUKNETIA', 'PLUMAGE', 'PLUMBAGO', 'PLUMBUM', 'PLUMMFT', 'PLUMOSE', 'PLURAL', 'PLURALITY', 'PLUSH', 'PNEUMONICS', 'PO', 'POA', 'POCHARD', 'PODAGRA', 'PODALIA', 'PODENSTIEN', 'PODOPHYLLUM', 'POEM', 'POET', 'POETRY', 'POICTIERS', 'POINCIANA', 'POINT', 'POISON', 'POLAR', 'POLARITY', 'POLE', 'POLEMICAL', 'POLEMONIUM', 'POLIANTHES', 'POLISHER', 'POLISHING', 'POLITICS', 'POLITY', 'POLL', 'POLLACK', 'POLLEX', 'POLLUX', 'POLYACANTHA', 'POLYADELPHIA', 'POLYANDRIA', 'POLYANTHUS', 'POLYCHREST', 'POLYCNEMUM', 'POLYGALA', 'POLYGAMIT', 'POLYGAMY', 'POLYGLOTT', 'POLYGON', 'POLYGONATUM', 'POLYGONUM', 'POLYGYNIA', 'POLYHEDRON', 'POLYMATHY', 'POLYPUS', 'POLYPETALOUS', 'POLYPODIUM', 'POLYPREMUM', 'POLYSYLLABLE', 'POLYTHEISM', 'POLYTRICHUM', 'POMERANIA', 'POMMEL', 'PONTIFICATE', 'PONTON', 'PONTUS', 'POOL', 'POOLOWAY', 'POOP', 'POOR', 'POPAYAN', 'POPE', 'POPLAR', 'POPLFTVEUS', 'POPPY', 'POPULAR', 'PORCELAIN', 'PORCUPINE', 'PORE', 'PORIA', 'PORPESSE', 'PORPHYRY', 'PORTA', 'PORTER', 'PORTICO', 'PORTLAND', 'PORTRAIT', 'POSITIVE', 'POSSESSION', 'POSSESSIVE', 'POSSIBILITY', 'POSSIBLE', 'POST', 'POSTHUMOUS', 'POSTING', 'POSTLIMINIUM', 'POTAMOGETON', 'POTANCE', 'POTATOE', 'POTENT', 'POTENTIA', 'POTENTIAL', 'POTENTILLA', 'POTERIUM', 'POTHOS', 'PQTJON', 'POTTLE', 'POULTRY', 'POUND', 'POUNDAGE', 'POURPRESTORE', 'POURSUIVANT', 'POURVEYANCE', 'POWDER', 'POX', 'PRACTICE', 'PRAGUE', 'PRATIQUE', 'PREAMBLE', 'PREBEND', 'PREBENDARY', 'PRECARIUM', 'PRECEDENCE', 'PRECEDENT', 'PRECEPT', 'PRECESSION', 'PRECIPITANT', 'PRECIPITATE', 'PRECOGNITION', 'PRECORDIA', 'PREDECESSOR', 'PREDICAMENT', 'PREENING', 'PREFACE', 'PREFECT', 'PREGNANCY', 'PRELIMINARY', 'PRELUDE', 'PRENANTHES', 'PRESAGE', 'PRESBURG', 'PRESBYTA', 'PRESBYTER', 'PRESCIENCE', 'PRESCRIPTION', 'PRESENCE', 'PRESS', 'PRESTO', 'PRESTON', 'PRETEXT', 'PRETOR', 'PRETORIUM', 'PRIAPISM', 'PRIAPUS', 'PRIEST', 'PRIMAGE', 'PRIMATE', 'PRIME', 'PRIMIPILUS', 'PRIMITIVE', 'PRIMULA', 'PRINCE', 'PRINCIPAL', 'PRINCIPLE', 'PRINOS', 'PRINT', 'PRINTER', 'PRIOR', 'PRISCILLIANISTS', 'PRISM', 'PRIVATEERS', 'PRIVATION', 'PRIVATIVE', 'PRIVET', 'PRIVILEGE', 'PRIZE', 'PROBATION', 'PROBE', 'PROBLEM', 'PROBOSCIS', 'PROCELEUSMATICUS', 'PROCESS', 'PROCESSION', 'PROCLAMATION', 'PROCONSUL', 'PROCURATOR', 'PROCYON', 'PRODUCT', 'PROFANE', 'PROFESSION', 'PROFESSOR', 'PROFILE', 'PROFLUVIUM', 'PROJECTION', 'PROJECTURE', 'PROLAPSUS', 'PROLATE', 'PROLEGOMENA', 'PROLEPSIS', 'PROLIFIC', 'PROLIXITY', 'PROLOGUE', 'PROMETHEUS', 'PROMISE', 'PROMONTORY', 'PROMULGATED', 'PRONATORS', 'PRONOUN', 'PRONUNCIATION', 'PROOF', 'PROPAGATION', 'PROPERTY', 'PROPHECY', 'PROPHET', 'PROPOLIS', 'PROPONTIS', 'PROPOSITION', 'PROPREFECT', 'PROPRETOR', 'PROROGATION', 'PROSCRIPTION', 'PROSE', 'PROSECUTOR', 'PROSPERPINACA', 'PROSODY', 'PROSOPOPOEIA', 'PROSTATAS', 'PROSTYLE', 'PROTEA', 'PROTESTANT', 'PROTHONOTARY', 'PROTOTYPE', 'PROTRACTOR', 'PROTUBERANCE', 'PROVEDITOR', 'PROVENCE', 'PROVERB', 'PROVIDENCE', 'PROVINCIAL', 'PROVOST', 'PROW', 'PROXIMITY', 'PROXY', 'PRUCH', 'PRUCK', 'PRUNES', 'PRUNING', 'PRUNUS', 'PRURITIS', 'PRYTANES', 'PSALM', 'PSALMODY', 'PSALTERY', 'PSIDIUM', 'PSITTACUS', 'PSOAS', 'PSORALIA', 'PTARMICA', 'PTELEA', 'PTERIS', 'PTERYGOID', 'PTISAN', 'PTYALISM', 'PUBERTY', 'PUBES', 'PUBLICAN', 'PUBLICATION', 'PUDENDA', 'PUERILITY', 'PUGIL', 'PULEX', 'PULLEY', 'PULMO', 'PULMONARIA', 'PULP', 'PULPIT', 'PULSATILLA', 'PULSE', 'PULVERIZATION', 'PULVIS', 'PUMICE', 'PUMP', 'PUN', 'PUNCH', 'PUNCHEON', 'PUNCTUATION', 'PUNCTURE', 'PUNICA', 'PUNISHMENT', 'PUPIL', 'PURCHASE', 'PURE', 'PURFLEW', 'PURGATION', 'PURGATORY', 'PURIFICATION', 'PURIM', 'PURITAN', 'PURLINS', 'PURLUE', 'PURPLE', 'PURPURA', 'PURPURE', 'PURSER', 'PURSLAIN', 'PURVIEW', 'PURULENT', 'PUS', 'PUSTULE', 'PUTTY', 'PYCNOSITLE', 'PYGARGUS', 'PYGMY', 'PYLORUS', 'PYRAMID', 'PYRAMIDALIS', 'PYRIFORMIS', 'PYRMONT', 'PYROLA', 'PYROMANCY', 'PYROTECHNY', 'PYROTICS', 'PYRRHICFIA', 'PYRRHICHIUS', 'PYRRHONIANS', 'PYRUS', 'PYTHAGOREANS', 'PYTHIA', 'QUADRANS', 'QUADRANT', 'QUADRAT', 'QUADRATRIX', 'QUADRATURE', 'QUADRATUS', 'QUADREL', 'QUADRIGA', 'QUADRILATERAL', 'QUADRUPEDS', 'QUESTUS', 'QUAKERS', 'QUALITY', 'QUAMSI', 'QUAMTUM', 'QUARTATION', 'QUARTER', 'QUARTERING', 'QUAVER', 'QUEBEC', 'QUEEN', 'QUEENBOROUGH', 'QUERCUS', 'QUERCY', 'QUERIA', 'QUESTION', 'QUESTOR', 'QUEUE', 'QUICK', 'QUIETISTS', 'QUILLS', 'QUINTILIANS', 'QUIRITES', 'QUINCE', 'QUINDECEMVIRI', 'QUOTIDIAN', 'QUOTIENT', 'RABBIT', 'RACE', 'RACHITIS', 'RACK', 'RACKOON', 'RADIALIS', 'RADIANT', 'RADIATION', 'RADICAL', 'RADICLE', 'RADISH', 'RADIUS', 'RADNOR', 'RAGULED', 'RAJA', 'RAJANIA', 'RAIL', 'RAIN', 'RAISINS', 'RALLUS', 'RAM', 'RAMADAN', 'RAMIFICATION', 'RAMMER', 'RAMSEY', 'RAMUS', 'RANCHIERA', 'RANCID', 'RANGIFER', 'RANSOM', 'RANULA', 'RANUNCULUS', 'RAOLCONDA', 'RAPE', 'RAPHANUS', 'RAPIER', 'RAPINE', 'RAPPAHANOCK', 'RAPTURE', 'RARE', 'RAREFACTION', 'RASEBURG', 'RASTAT', 'RAT', 'RATAFIA', 'RATCH', 'RATCHETS', 'RATE', 'RATEEN', 'RATIO', 'RATIOCINATION', 'RATION', 'RATIONAL', 'RATIONALE', 'RATLINES', 'RAX', 'RAVEN', 'RAVENNA', 'RAUVOLFIA', 'REALM', 'REALMONT', 'REAR', 'REASONING', 'REBALE', 'REBEL', 'REBELLION', 'REBUS', 'RECKONING', 'RECLUSE', 'RECOLLECTION', 'RECONNOITRE', 'RECORD', 'RECORDER', 'RECTILINEAR', 'RECTOR', 'RECTORY', 'RECTUM', 'RECTUS', 'RECURRENTS', 'RECURVIROSTRA', 'RECUSANTS', 'RED', 'REDDLE', 'REDEMPTION', 'REDENS', 'REDINTEGRATION', 'REDOUBT', 'REDRESSING', 'REDUBBORS', 'REDUCTION', 'REQJJNDANCY', 'REED', 'REEF', 'REEL', 'REEVING', 'REFECTION', 'REFINING', 'REFORMATION', 'REFRIGERATORY', 'REFUGE', 'REFUGEES', 'REGALE', 'REGALIA', 'REGARDANT', 'REGARDER', 'REGEL', 'REGENERATION', 'REGENT', 'REGIMEN', 'REGION', 'REGISTER', 'REGRATOR', 'REGULAR', 'REGULUS', 'REHEARSAL', 'REINS', 'REJOINDER', 'REITERATION', 'RELAPSE', 'RELATION', 'RELATIVE', 'RELAXATION', 'RELAY', 'RELEVANCY', 'RELICS', 'RELICT', 'RELIEVO', 'RELIGION', 'REMEMBRANCERS', 'REMINISCENCE', 'REMISSION', 'REMONSTRANCE', 'REMPLY', 'RENAL', 'RENCOUNTER', 'RENCOUNTRE', 'RENDEZVOUS', 'RENEALMIA', 'RENEGATE', 'RENFREW', 'RENNES', 'RENT', 'RENUNCIATION', 'REPEAT', 'REPELLENTS', 'REPLETION', 'REPRESENTATION', 'REPRESENTATIVE', 'REPROBATION', 'REPRODUCTION', 'REPUBLIC', 'REPULSION', 'REQUEST', 'REQUISITION', 'RESCHET', 'RESCISSION', 'RESCRIPT', 'RESEDA', 'RESERVATION', 'RESERVOIR', 'RESIDUE', 'RESIGNATION', 'RESISTANCE', 'RESOLUTION', 'RESOLVENTS', 'RESONANCE', 'RESPIRATION', 'RESPITE', 'RESPONDENT', 'RESPONSE', 'RESSAULT', 'RESSORT', 'REST', 'RESTITUTION', 'RESTIVE', 'RESTORATION', 'RESTORATIVE', 'RESTRINGENT', 'RESULT', 'RESUSCITATION', 'RETAINER', 'RETALIATION', 'RETARDATION', 'RETENTION', 'RETIARII', 'RETICULA', 'RETINA', 'RETINUE', 'RETIRADE', 'RETORT', 'RETRACTS', 'RETROCESSION', 'RETROGRADATION', 'REVE', 'REVEL', 'REVELATION', 'REVELS', 'REVENUE', 'REVERBERATION', 'REVERBERATORY', 'REVEREND', 'REVERIE', 'REVULSION', 'REYGATE', 'RHAGADES', 'RHAMNUS', 'RHAMPHASTOS', 'RHAPSODI', 'RHAPSODOMANCY', 'RHAPSODY', 'RHE', 'RHEIMS', 'RHETERIANS', 'RHETORIC', 'RHEUMATISM', 'RHEXIA', 'RHINANTHUS', 'RHINE', 'RHINEBURG', 'RHINEFIELD', 'RHINOCEROS', 'RHIZOPHORO', 'RHODES', 'RHODIOLA', 'RHODODENDRUM', 'RHOMBOIDES', 'RHOMBUS', 'RHONE', 'RHUMB', 'RHUS', 'RHYME', 'RHYTHM', 'RIBBAN', 'RIBBAND', 'RIBES', 'RIBS', 'RICCIA', 'RICE', 'RICHLIEU', 'RICHMOND', 'RICINUS', 'RICKETS', 'RIDGE', 'RIDGLING', 'RIDICULE', 'RIDING', 'RIEF', 'RIGA', 'RIGHT', 'RIGIDITY', 'RKSOR', 'RIMINI', 'RING', 'RIPPON', 'RISK', 'RITE', 'RITORNELLO', 'RITUAL', 'RIVAL', 'ROACH', 'ROANOAK', 'ROB', 'ROBBERY', 'ROBINIA', 'ROBORANTS', 'ROCHEFOUCAUT', 'ROCHELLE', 'ROCHFORT', 'ROCK', 'ROCKET', 'ROD', 'ROE', 'ROELLA', 'ROER', 'RGGA', 'ROGATION', 'ROLL', 'ROMAN', 'ROMANCE', 'ROMANIA', 'ROME', 'RONDELETIA', 'ROOD', 'ROOF', 'ROOK', 'ROOM', 'ROOT', 'ROPE', 'ROSA', 'ROSCOMMON', 'ROSE', 'ROSIENNE', 'ROSS', 'ROSTOCK', 'ROSTOF', 'ROSTRA', 'ROSYCRUCIANS', 'ROT', 'ROTA', 'ROTATION', 'ROTHSAY', 'ROTONDO', 'ROTTERDAM', 'ROTULA', 'ROTUNDUS', 'ROUEN', 'ROVIGO', 'ROUNDELAY', 'ROUSILLON', 'ROWEL', 'OXBURGH', 'ROYAL', 'ROYALTIES', 'ROYENA', 'ROYSTON', 'RUBELLIO', 'RUBETA', 'RUBIA', 'RUBIGALIA', 'RUBININSKA', 'RUBRIC', 'RUBY', 'RUCTATION', 'RUDBECKIA', 'RUDENTURE', 'RUDIARUS', 'RUDIMENTS', 'RUE', 'RUELLIA', 'RUFF', 'RUGEN', 'RULE', 'RUM', 'RUMEN', 'RUMEX', 'RUMFORD', 'RUNGS', 'RUNIC', 'RUNNER', 'RUNNET', 'RUPICAPRA', 'RURAL', 'RUSCUS', 'RUSH', 'RUSSIA', 'RUSTIC', 'RUSTRE', 'RUT', 'RUTA', 'RUTHYN', 'RUTICILLA', 'RUTILUS', 'RUTLAND', 'RYE', 'RYNCHOPS', 'RYPEN', 'RYSWICK', 'BABAIANS', 'SABBATH', 'SABINA', 'SABLE', 'SABLUSTAN', 'RABRE', 'SACCADE', 'SACCAI', 'SACCHARUM', 'SACCULUS', 'SACERDOTAL', 'SACKBUT', 'SACRAMENT', 'SACRAMENTARY', 'SACRED', 'SACRIFICE', 'SACRILEGE', 'SACRISTAN', 'SADERASAPATAN', 'SADDUCEES', 'SAFFRON', 'SAGAPENUM', 'SAGENE', 'SAGINA', 'SAGITTARIA', 'SAGITTARIUS', 'SAGREE', 'SAICK', 'SAIL', 'SAILING', 'SAINT', 'SALAMANCA', 'SALAMANDER', 'SALAMIS', 'SALEM', 'SALERNO', 'SALET', 'SALIANT', 'SALIC', 'SALICORNIA', 'SALII', 'SALINA', 'SALINE', 'SALISBURY', 'SALIVA', 'SALIVAL', 'SALIX', 'SALEE', 'SALLY', 'SALONICHI', 'SALPA', 'SALSETTE', 'SALSOLA', 'SALT', 'SALTSBURG', 'SALVADORA', 'SALUTATION', 'SALUZZO', 'SAMARCAND', 'SAMARIA', 'SAMARITANS', 'SAMBALLAS', 'SAMBUCUS', 'SAMOGITIA', 'SAMOIDA', 'SAMOLUS', 'SAMOS', 'SAMOPHRACIA', 'SAMPSEANS', 'SANCTIFICATION', 'SANCTION', 'SANCTUARY', 'SAND', 'SANDECK', 'SANDAL', 'SANDIVER', 'SANDIX', 'SANDWICH', 'SANGUISORBA', 'SANHEDRIM', 'SANIDIUM', 'SANIES', 'SANQUHAR', 'SANTILLANA', 'SANTORINI', 'SAONE', 'SAP', 'SAPHENA', 'SAPIENZA', 'SAPPHIC', 'SAPONARIA', 'SAPPHIRE', 'SARABAITES', 'SARABAND', 'SARACENS', 'SARAGOSSA', 'SARCOCOLLA', 'SARCOMA', 'SARCOTICS', 'SARDINIA', 'SARDIS', 'SARK', 'SAROTHRA', 'SARSAPARILLA', 'SARUM', 'SASSAFRAS', 'SATTINET', 'SATURANTS', 'SATURDAY', 'SATURN', 'SATURNINE', 'SATYRIUM', 'SAVANNA', 'SAUCISSON', 'SAVIN', 'SAVIOUR', 'SAUMUR', 'SAVOLAXIA', 'SAVORY', 'SAXIFRAGA', 'SAXONY', 'SAY', 'SCABIOSA', 'SCAFFOLD', 'SCALADO', 'SCALE', 'SCALENE', 'SCALENUS', 'SCALPEL', 'SCALPER', 'SCANDEROON', 'SCANDIX', 'SCANNING', 'SCAPHOIDES', 'SCAPULA', 'SCARBOROUGH', 'SCARLET', 'SCARP', 'SCARPANTO', 'SCARUS', 'SCAVENGERS', 'SCENE', 'SCENOGRAPHY', 'SCEPTER', 'SCEPTICISM', 'SCHAFFHOUSE', 'SCHALHOLT', 'SCHAMACHIA', 'SCHELD', 'SCHELLING', 'SCHEMNITZ', 'SCHENECTIDA', 'SCHETLAND', 'SCHIRAS', 'SCHISM', 'SCHOENUS', 'SCHOLASTIC', 'SCHOLIAST', 'SCHOLIUM', 'SCHOOL', 'SCHWALBASH', 'SCHWALBEA', 'SCHWATS', 'SCIARRI', 'SCIO', 'SCIRO', 'SCIRPUS', 'SCLAVONIA', 'SCLERANTHUS', 'SCLEROTICA', 'SCLEROTICS', 'SCOLOPAX', 'SCOMBER', 'SCONE', 'SCOPER', 'SCORIA', 'SCORIFICATION', 'SCORPIO', 'SCORPIURUS', 'SCOT', 'SCOTIA', 'SCQTISTS', 'SCOTLAND', 'SCOTOMIA', 'SCREW', 'SCRIBE', 'SCRIBING', 'SCRIPTURE', 'SCROPHULA', 'SCROPHULARIA', 'SCROTUM', 'SCRUPI', 'SCRUPLE', 'SCULPTURE', 'SCUM', 'SCUTTLES', 'SEAFORD', 'SEAL', 'SEALER', 'SEALING', 'SEASIN', 'SEASONS', 'SECALE', 'SECANT', 'SECOND', 'SECRETION', 'SECTOR', 'SECULAR', 'SECULARIZATION', 'SECURIDACA', 'SECUTORES', 'SEDAN', 'SEDIMENT', 'SEDITION', 'SEDR', 'SEDUM', 'SEEDLINGS', 'SEEDY', 'SEELING', 'SEGEDIN', 'SEGESWAEE', 'SEGOVIA', 'SEGRA', 'SEGREANT', 'SEGUE', 'SEGURA', 'SEIZURE', 'SEISIN', 'SELAGO', 'SELBY', 'SELENDERS', 'SELENOGRAPHY', 'SELINGENSKOY', 'SELINUM', 'SELKIRK', 'SEMENDRIA', 'SEMI', 'SEMIFLOSCULUS', 'SEMIGALIA', 'SEMINAL', 'SEMINARY', 'SEMINATION', 'SEMIS', 'SEMTSPINALIS', 'SEMPERVIVUM', 'SENA', 'SENATE', 'SENEGA', 'SENESCHAL', 'SENS', 'SENSATION', 'SENSE', 'SENTENCE', 'SENTIMENTS', 'SENTINEL', 'SEPARATISTS', 'SEPIA', 'SEPS', 'SEPTEMBER', 'SEPTENTRIO', 'SEPTUAGESIMA', 'SEPTUM', 'SEQUELS', 'SEQUESTRATION', 'SERAGLIO', 'SERAPH', 'SERAPHIC', 'SERENE', 'SERGE', 'SERGEANT', 'SERIES', 'SEROSITY', 'SERPENT', 'SERPENTARIA', 'SERRATULA', 'SERRATUS', 'SERVANT', 'SERVETISTS', 'SERVIA', 'SERVITES', 'SERVITUDE', 'SERUM', 'SESAMUM', 'SESSILE', 'SESSION', 'SESTERCE', 'SESTOS', 'SET', 'SETHIANS', 'SETON', 'SETTE', 'SETTING', 'SETTLE', 'SEVERN', 'SEVILLE', 'SEWER', 'SEX', 'SEXAGENARY', 'SEXAGESIMA', 'SEXTANS', 'SEXTANT', 'SEXTILE', 'SEXTON', 'SEXTUPLE', 'SEYNE', 'SHADOW', 'SHAFTSBURY', 'SHAG', 'SHAGREEN', 'SHAKLES', 'SHAMBLES', 'SHAMMY', 'SHANK', 'SHANKER', 'SHANNON', 'SHASTER', 'SHEATHING', 'SHEATS', 'SHEEP', 'SHEERING', 'SHEFFIELD', 'SHEFFORD', 'SHEFFNEL', 'SHEIK', 'SHIELDS', 'SHEKEL', 'SHELF', 'SHELL', 'SHERBORN', 'SHERBRO', 'SHERENESS', 'SHERIFF', 'SHIP', 'V', 'X', 'SHIPTON', 'SHIVERS', 'SHOAL', 'SHOE', 'SHORE', 'SHOVELLR', 'SHOWER', 'SHREWSBURY', 'SHRIMP', 'SHRINE', 'SHROPSHIRE', 'SHROWDS', 'SHRUB', 'SHUTTLE', 'SI', 'SIAM', 'SIBA', 'SIBALDIA', 'SIBERIA', 'SIBTHORPIA', 'SIBYLS', 'SICILY', 'SICTOS', 'SIDEROXYLUM', 'SIDMOUTH', 'SIDON', 'SIDRA', 'SIEGE', 'SIENNA', 'SIEUR', 'SIGAN', 'SIGESBECKIA', 'SIGETH', 'SIGHT', 'SIGISTAN', 'SIGN', 'SIGNATURE', 'SIGNET', 'SILENE', 'SILESIA', 'SILIQUA', 'SILK', 'SILPHIUM', 'SILVERING', 'SIMIA', 'SIMILE', 'SIMONICAL', 'SIMONIANS', 'SIMONY', 'SIMPLE', 'SIN', 'SINAI', 'SINAPI', 'SINAPISM', 'SINCIPUT', 'SINE', 'SINEW', 'SINGING', 'SINISTER', 'SINISTRI', 'SINOPLE', 'SINUOSITY', 'SINUS', 'SION', 'SIPHON', 'SIRANAGER', 'SIRE', 'SIREN', 'SIRIUS', 'SISON', 'SISYMBRIUM', 'SITE', 'SITGPHYLAX', 'SITTA', 'SIUM', 'SIXTH', 'SIZE', 'SKAITE', 'SKELETON', 'SKIFF', 'SKIN', 'SKINNER', 'SKIPTON', 'SKIRMISH', 'SKULL', 'SKY', 'SLAB', 'SLATE', 'SLAVE', 'SLEEP', 'SLEEPER', 'SLESWICK', 'SLIDING', 'SLIGO', 'SLING', 'SLIPPING', 'SLOANEA', 'SLOATH', 'SLOOP', 'SLUCZK', 'SLUTTELBURG', 'SMALAND', 'SMALT', 'SMARAGDUS', 'SMARIS', 'SMELL', 'SMELT', 'SMELTING', 'SMILAX', 'SMITHERY', 'SMOKE', 'SMUGGLERS', 'SMUT', 'SMYRNA', 'SMYRNIUM', 'SNAFFLE', 'SNAIL', 'SNAKE', 'SNAPDRAGON', 'SNEEZING', 'SNIPE', 'SNUFF', 'SOAP', 'SOCAGE', 'SOCCUS', 'SOCIETY', 'SOCINIANS', 'SOCOTORA', 'SODA', 'SODBURY', 'SODOMY', 'SOFA', 'SOFALA', 'SOFFITA', 'SOFTENING', 'SOGEHANA', 'SOISSONS', 'SOL', 'SOLANUM', 'SOLAR', 'SOLDANELLA', 'SOLDER', 'SOLDERING', 'SOLDIER', 'SOLEA', 'SOLECISM', 'SOLEN', 'SOLFAING', 'SOLICITOR', 'SOLID', 'SOLIDAGO', 'SOLIDITY', 'SOLILOQUY', 'SOLITARY', 'SOLITARIES', 'SOLO', 'SOLVENT', 'SOLUTION', 'SOMERSETSHIRE', 'SOMERTON', 'SOMNAMBULI', 'SON', 'SONATA', 'SONCHUS', 'SONG', 'SONNET', 'SOOT', 'SOPHISM', 'SOPHIST', 'SOPHISTICATION', 'SORBUS', 'SORCERY', 'SORET', 'SOREX', 'SORITES', 'SORRENTO', 'SORTILEGE', 'SOTERIA', 'SOUBISE', 'SOUGH', 'SOVEREIGN', 'SOUL', 'SOUND', 'SOUNDING', 'SOUP', 'SOURIS', 'SOUTH', 'SOUTHAM', 'SOUTHAMPTON', 'SOUTHPETHERTON', 'SOUTHWARK', 'SOUTHWELL', 'SOUVIGNY', 'SOW', 'SOWING', 'SPAW', 'SPAIN', 'SPALATRO', 'SPALDING', 'SPAN', 'SPANDAW', 'SPANIEL', 'SPAR', 'SPARGANIUM', 'SPARROW', 'SPARTIUM', 'SPARUS', 'SPASMODIC', 'SPATHA', 'SPAVIN', 'SPAYING', 'SPEAKING', 'SPECIES', 'SPECIFIC', 'SPECIFICATION', 'SPECTACLES', 'SPECULATIVE', 'SPEECH', 'SPEEDWELL', 'SPELL', 'SPELLING', 'SPERGULA', 'SPERMACOCE', 'SPEY', 'SPHACELUS', 'SPHAGNUM', 'SPHERE', 'SPHEROID', 'SPHINCTER', 'SPIDER', 'SPIGELBURG', 'SPIGELIA', 'SPIKE', 'SPIKENARD', 'SPILIMBERGO', 'SPILSBY', 'SPINACHIA', 'SPINET', 'SPINNING', 'SPIRAL', 'SPIRIT', 'SPITHEAD', 'SPLACHNUM', 'SPLENIUS', 'SPLENT', 'SPLICING', 'SPODIUM', 'SPOILS', 'SPONDIAS', 'SPONGIA', 'SPONTANEOUS', 'SPOONING', 'SPORADES', 'SPOTS', 'SPOUT', 'SPRAT', 'SPRING', 'SPUNGING', 'SPUR', 'SPURGE', 'SPURRY', 'SPUTUM', 'SPY', 'SQUADRON', 'SQUALUS', 'SQUAMARIA', 'SQUAMOUS', 'SQUARE', 'SQUILL', 'SQUIRREL', 'STABLE', 'STADIUM', 'STADTHOLDER', 'STAEHELINA', 'STAFF', 'STAFFORD', 'STAG', 'STAGE', 'STAINES', 'STALBRIDGE', 'STALK', 'STALLION', 'STAMFORD', 'STAMINEOUS', 'STAMPALIA', 'STANCHION', 'STAND', 'STANDARD', 'STANDON', 'STANHOPE', 'STANLEY', 'STANNARIES', 'STANNUM', 'STANTON', 'STANZA', 'STAPELIA', 'STAPES', 'STAPHYLINUS', 'STAR', 'STARCH', 'STARGARD', 'STATE', 'STATES', 'STATICE', 'STATICS', 'STATION', 'STATIONARY', 'STATUARY', 'STATUE', 'STATURE', 'STATUTE', 'STAVANGER', 'STAVEREN', 'STAY', 'STEADY', 'STEATITES', 'STEATOMA', 'STEEL', 'STEEPLE', 'STEERAGE', 'STEGANOGRAPHY', 'STEGEBURG', 'STEGNOTICS', 'STELLERA', 'STELLIONATE', 'STEM', 'STEMPLES', 'STENOGRAPHY', 'STEPHEN', 'STERCULIA', 'STEREOGRAPHY', 'STEREOMETRY', 'STERILITY', 'STERLING', 'STERNBERG', 'STERNUM', 'STERNUTATORY', 'STETIN', 'STEVENAGE', 'STEW', 'STEWARD', 'STEWART', 'STEWARTEA', 'STEYNING', 'STIBIUM', 'STICKLEBACK', 'STIGMA', 'STIGMATIZING', 'STING', 'STIPULATION', 'STIRLING', 'STIRRUP', 'STIVES', 'STOCKHERN', 'STOCKBRIDGE', 'STOCKHOLM', 'STOCKING', 'STOCKPORT', 'STOCKTON', 'STOCKZOW', 'STOICS', 'STOKEGOMER', 'STOKESLY', 'STOLBERG', 'STOLE', 'STOMACH', 'STOMACHIC', 'STONES', 'STONEHENGE', 'STOOL', 'STOPPER', 'STORAX', 'STORGE', 'STORK', 'STORMAR', 'STORTFORD', 'STOVES', 'STOURBRIDGE', 'STOW', 'STOWAGE', 'STRAIN', 'STRAKES', 'STRALSUND', 'STRAND', 'STRANDED', 'STRANGURY', 'STRANRAER', 'STRATAGEM', 'STRAFEGUS', 'STRAFFORD', 'STRAWBERRY', 'STRIKE', 'STRIX', 'SFROMBOLI', 'STROUD', 'STRUMAS', 'STRYCHNOS', 'STUFF', 'STUM', 'STUPOR', 'STURMINSTER', 'STURNUS', 'STYLE', 'STYLET', 'STYLOIDES', 'SUBCLAVIAN', 'SUBER', 'SUBJECT', 'SUBLIMATION', 'SUBREPTIQN', 'SUBREPTITIOUS', 'SUBROGATION', 'SUBSCAPULARIS', 'SUBSCRIPTION', 'SUBSEQUENT', 'SUBSISTENCE', 'SUBSTANCE', 'SUBSTANTIAL', 'SUBSTANTIVE', 'SUBSTITUTE', 'SUBSTITUTION', 'SUBSTRACTION', 'SUBTENSE', 'SUBTERRANEOUS', 'SUBTILE', 'SUBULARIA', 'SUBULATED', 'SUCCEDANEUM', 'SUCCESSOR', 'SUCCORY', 'SUCCUBUS', 'SUCCULA', 'SUCHUEN', 'SUCKERS', 'SUCTION', 'SUDATORY', 'SUDBURY', 'SUDORIFIC', 'SUEZ', 'SUFFOCATION', 'SUFFOLK', 'SUFFRAGAN', 'SUFFRAGE', 'SUFFRUTEX', 'SUGAR', 'SUGILLATION', 'SUIT', 'SULTAN', 'SUM', 'SUMACH', 'SUMATRA', 'SUMMONS', 'SUN', 'SUNTGOW', 'SUPERCARGO', 'SUPERCILIUM', 'SUPEREROGATION', 'SUPERFICIES', 'SUPERIOR', 'SUPERLATIVE', 'SUPERNUMERARY', 'SUPERSEDEAS', 'SUPERSTIFION', 'SUPINATION', 'SUPINATOR', 'SUPPLEMENT', 'SUPPORTED', 'SUPPURATION', 'SUPRACOSTALES', 'SUPRALAPSARY', 'SURAT', 'SURCHARGE', 'SURCOAT', 'SURCULUS', 'SURETY', 'SURFEIT', 'SURGE', 'URINAM', 'SURMOUNTED', 'SURROGATE', 'SURVEYING', 'SURVEYOR', 'SURVIVOR', 'SUS', 'SUSDAL', 'SUSPENSION', 'SUSSEX', 'SUTURE', 'SWABBER', 'SWABIA', 'SWALE', 'SWAN', 'SWEAT', 'SWEDEN', 'SWEEP', 'SWEET', 'SWERIN', 'SWERTIA', 'SWIMMING', 'SWINE', 'SWINGLING', 'SWITZ', 'SWITZERLAND', 'SWORD', 'SYLLABLE', 'SYLLABUS', 'SYLLOGISM', 'SYMBOL', 'SYMMETRY', 'SYMPATHETIC', 'SYMPATHY', 'SYMPHONY', 'SYMPHYSIS', 'SYMPHYTUM', 'SYMPOSIARCH', 'SYMPTOMATICAL', 'SYNTHESIS', 'SYNAGOGUE', 'SYNALOEPHA', 'SYNARTHROSIS', 'SYNCHRONISM', 'SYNCOPATION', 'SYNDROME', 'SYNECDOCHE', 'SYNECPHONESIS', 'SYNGENESIA', 'SYNNEUROSIS', 'SYNOCHUS', 'SYNOD', 'SYNODALS', 'SYNODICAL', 'SYNOECIA', 'SYNONYMOUS', 'SYNOVIA', 'SYNTAX', 'SYNTEXIS', 'SYNTHETIC', 'SYNUSIASTS', 'SYRACUSE', 'SYRIA', 'SYRINGE', 'SYRUP', 'SYSSARCOSIS', 'SYSTEM', 'SYSTYLE', 'SYZYGY', 'TABARCA', 'TABASCO', 'TABBY', 'TABBYING', 'TABELLA', 'TABELLIO', 'TABERNACLE', 'TABES', 'TABLATURE', 'TABORITES', 'TABRISTAN', 'TACAMAHACA', 'TACK', 'TACKLE', 'TACTICS', 'TADCASTER', 'TADPOLE', 'TAFFETY', 'TAGETES', 'TAGUS', 'TAJACU', 'TAIL', 'TAILZIE', 'TAINE', 'TALC', 'TALENT', 'TALIO', 'TALISMANS', 'TALLOW', 'TALLY', 'TALMUD', 'TALPA', 'TAMANDAU', 'TAMARINDUS', 'TAMARIX', 'TAMBAC', 'TAMUS', 'TAMWORTH', 'TAN', 'TANACETUM', 'TANGIER', 'TANGUT', 'TANJOUR', 'TANNER', 'TANZY', 'TAPESTRY', 'TAPPING', 'TAR', 'TARACON', 'TARAGON', 'TARANTO', 'TARANTULA', 'TARE', 'TARGET', 'TARGUM', 'TARIF', 'TARPEIAN', 'TASSEL', 'TASTE', 'TATA', 'TAU', 'TAVASTUS', 'TAUGHT', 'TAVISTOCK', 'TAUNTON', 'TAURUS', 'TAWING', 'MX', 'TAXUS', 'TAY', 'TEA', 'TEAL', 'TEARS', 'TECKLENBURG', 'TECHNICAL', 'TEES', 'TEFLIS', 'TEGAPATAN', 'TEHAMA', 'TELAMON', 'TELESIN', 'TELLER', 'TELLICHERRY', 'TEMPERAMENT', 'TEMPLE', 'TEMPORAL', 'TENANT', 'TENBURY', 'TENBY', 'TENCH', 'TENDER', 'TENDONS', 'TENEBRIO', 'TENEDOS', 'TENEMENT', 'TENERIF', 'TENES', 'TENESMUS', 'TENOR', 'TENSE', 'TENT', 'TENURE', 'TEPID', 'TERCE', 'TERCERA', 'TEREBINTHUS', 'TERES', 'TERGOWISCO', 'TERMINALIA', 'TERMINATION', 'TERNATE', 'TERRACE', 'TERRAQUEOUS', 'TERRELLA', 'TERRESTRIAL', 'TERRIER', 'TERRITORY', 'TERROUEN', 'TERTIAN', 'TERVEL', 'TESSIN', 'TEST', 'TESTACEOUS', 'TESTATOR', 'TESTES', 'TESTUDO', 'TETANUS', 'TETHYS', 'TETICACO', 'TETRACHORD', 'TETRADECARHOMBIS', 'TETRADIAPASON', 'TETRADYNAMIA', 'TETRAEDRON', 'TETRAGON', 'TETRAGONIA', 'TETRAGONOTHECA', 'TETRAGRAMMATON', 'TETRANDRIA', 'TETRAQ', 'TETRAPHARMACUM', 'TETRAPTERA', 'TETRAPTOTE', 'TETRAPYRAMIDIA', 'TETRARCH', 'TETUAN', 'TEUTONIC', 'TEWKSBURY', 'TEXEL', 'TEXT', 'TEXTURE', 'THALIA', 'THALICTRUM', 'THAMES', 'THANE', 'THAPSIA', 'THAWING', 'THEATINES', 'THEATRE', 'THEBAID', 'THELEGONUM', 'THEME', 'THENAR', 'THEOBROMA', 'THEOCRACY', 'THEODOLITE', 'THEOGONY', 'THEOPHRASTA', 'THEOREM', 'THEORY', 'THERAPEUTICS', 'THERAPHIM', 'THERMOMETER', 'THESEA', 'THESIS', 'THESSALY', 'THETFORD', 'THEURGY', 'THIGH', 'THIMBLE', 'THIRSK', 'THIRST', 'THISTLE', 'THLASPI', 'THOMISM', 'THOMISTS', 'THORAX', 'THORNBURY', 'THOUGHT', 'THOULON', 'THOULOSE', 'THRACE', 'THRASHING', 'THRICHECHUS', 'THRIPS', 'THROAT', 'THRONE', 'THROWSTER', 'THULE', 'THUMB', 'THUNDER', 'THURSDAY', 'THURSO', 'THUYA', 'THYMUS', 'THYRSUS', 'TIARA', 'TIBER', 'TIBIA', 'TIEND', 'TIERCE', 'TIGRIS', 'TILBURY', 'TILLACA', 'TILLANDSIA', 'TIMAR', 'TIMBER', 'TIME', 'TIMOR', 'TINCTURE', 'TINMOUTH', 'TINNING', 'TINUS', 'TIPPERARY', 'TIPSTAFF', 'TIRE', 'TIROL', 'TITANS', 'TITLE', 'TITMOUSE', 'TITUBATION', 'TINERTQN', 'TMESIS', 'TOBACCO', 'TOBAGO', 'TOBOLSKI', 'TOCKAY', 'TOGA', 'TOILS', 'TQISE', 'TOLEDO', 'TOLEN', 'TOLERATION', 'TOLLENON', 'TOLU', 'TOLUIFERA', 'TOMB', 'TOMENTUM', 'TONE', 'TONSILS', 'TONSURE', 'TOOL', 'TOOTH', 'TOPARCHY', 'TOPAZ', 'TOPHUS', 'TORBAY', 'TORCELLA', 'TORCH', 'TORDYLIUM', 'TORUS', 'TORIES', 'TORMENTILLA', 'TORNADO', 'TORNE', 'TORPEDO', 'TORQUE', 'TORREFACTION', 'TORRENT', 'TORRINGTON', 'TORTOISE', 'TORTURE', 'TOTNESS', 'TOUCAN', 'TOURINE', 'TOURNEY', 'TOURNEFORTIA', 'TOURNEQUET', 'TOWN', 'TOXICODENDRON', 'TOZZIA', 'TRACHEA', 'TRACHELIUM', 'TRADESCANTIA', 'TRADITION', 'TRAGACANTH', 'TRAGEDY', 'TRAGIA', 'TRAGOPOGON', 'TRAGUS', 'TRAIN', 'TRAINING', 'TRANSFORMATION', 'TRANSFUSION', 'TRANSGRESSION', 'TRANSILVANIA', 'TRANSIT', 'TRANSITIVE', 'TRANSLATION', 'TRANSMARINE', 'TRANSMIGRATION', 'TRANSMUTATION', 'TRANSOM', 'TRANSPARENCY', 'TRANSPIRATION', 'TRANSPLANTATION', 'TRANSPORTATION', 'TRANSPOSITION', 'TRANSUBSTANTIATION', 'TRANSVERSE', 'TRAPA', 'TRAPEZIUS', 'TRAVERSE', 'TRAVESTY', 'TREASON', 'TREASURE', 'TREASURER', 'TREASURY', 'TREATY', 'TREBLE', 'TREE', 'TREMOR', 'TRENCHES', 'TREPANNING', 'TRESPASS', 'TRESSURE', 'TRET', 'TRIAL', 'TRIANDRIA', 'TRIANGLE', 'TRIANGULARIS', 'TRIBE', 'TRIBRACHYS', 'TRIBULUS', 'TRIBUNAL', 'TRIBUNE', 'TRIBUTARY', 'TRIBUTE', 'TRICHOSTEMA', 'TRIENNIAL', 'TRIENS', 'TRIENTALIS', 'TRIESTE', 'TRIGA', 'TRIGLA', 'TRIGGNELLA', 'TRINGLE', 'TRINIDAD', 'TRINITARIANS', 'TRINITY', 'TRIONES', 'TRIP', 'TRIPARTITE', 'TRIPARTITION', 'TRIPHTHONG', 'TRIQUETROUS', 'TRIREMIS', 'TRISPASTON', 'TRISYLLABLE', 'TRITON', 'TRITURATION', 'TRIUMFETTA', 'TRIUMVIR', 'TRIUMVIRATE', 'TROCHANTER', 'TROCHE', 'TROCHILUS', 'TROCHLEA', 'TROCHLEARES', 'TROGLODYTES', 'TROJA', 'TRONCONNEE', 'TROOP', 'TROPE', 'TROPICS', 'TROUT', 'TRUMPET', 'TRUNCATED', 'TRUNCHEON', 'TRUNDLE', 'TRUNK', 'TRUNNIONS', 'TRUSS', 'TRUSTEE', 'TRUTH', 'TUB', 'TUBE', 'TUBERCLE', 'TUBIPORA', 'TUMEFACTION', 'TUNICA', 'TUNIS', 'TURBAN', 'TURBINATED', 'TURBO', 'TURBOT', 'TURCOISE', 'TURCOMANIA', 'TURDUS', 'TURENNE', 'TURGESCENCE', 'TURIN', 'TURKEY', 'TURKY', 'TURMERIC', 'TURNEP', 'TURNERA', 'TURNING', 'TURPENTINE', 'TURTLE', 'TUSCANY', 'TUSSILAGO', 'TUTTY', 'TWEED', 'TWEEDALE', 'TWEER', 'TYGER', 'TYMPANUM', 'TYMPANY', 'TYPE', 'TYPHA', 'TYPHODES', 'TYPOGRAPHY', 'TYRANT', 'TYRE', 'TYRONE', 'VACUUM', 'VAGINA', 'VAGUM', 'VAIRY', 'VALAIS', 'VALANTIA', 'VALENCIA', 'VAN', 'VANELLUS', 'VAPOUR', 'VALERIANA', 'VALET', 'VALID', 'VALLADOLID', 'VALLENGIN', 'VALLISNERIA', 'VALUE', 'VALVE', 'VARIEGATION', 'VARIX', 'VARNISH', 'VAS', 'VASE', 'VASSAL', 'VASTUS', 'VATERIA', 'VATICAN', 'VAUDOIS', 'VAULT', 'VAUR', 'UBEDA', 'UBES', 'UDDER', 'VECTOR', 'VEDETTE', 'VEER', 'VEGETABLE', 'VEGETATION', 'VEIL', 'VELA', 'VELARIUS', 'VELAY', 'VELITES', 'VELLEITY', 'VELLA', 'VELOCITY', 'VELVET', 'VENEERING', 'VENERY', 'VENESECTION', 'VENEZUELA', 'VENIAL', 'VENT', 'VENTER', 'VENTIDUCTS', 'VENTILATOR', 'VENTRICLE', 'VENUS', 'VERAGUA', 'VERATRUM', 'VERBAL', 'VERBERATION', 'VERBESINA', 'VERD', 'VERDIGREASE', 'VERDICT', 'VERGETTE', 'VERIFICATION', 'VERJUICE', 'VERMICULAR', 'VERMILION', 'VERMIN', 'VERNACULAR', 'VERNAL', 'VERONA', 'VERONICA', 'VERSAILLES', 'VERSE', 'VERSIFICATION', 'VERSION', 'VERT', 'VERTEX', 'VERTICITY', 'VETIGO', 'VERVAIN', 'VESLCATORIUM', 'VESICULA', 'VESPERS', 'VESSEL', 'VESTALIA', 'VESTALS', 'VESTIBLE', 'VESUVIUS', 'VETERAN', 'VIALES', 'VIATICUM', 'VIATOR', 'VIBEX', 'VIBRATION', 'VIBURNUM', 'VICAR', 'VICE', 'VICIA', 'VICTIM', 'VICTORY', 'VIENNA', 'VIGILS', 'VIGO', 'VILLAGE', 'VILLAIN', 'VILLOSE', 'VINALIA', 'VINCA', 'VINEGAR', 'VINEYARD', 'VINOUS', 'VINTAGE', 'VINUM', 'VIOL', 'VIOLA', 'VIOLENT', 'VIOLET', 'VIOLIN', 'VIOLONCELLO', 'VIRAGO', 'VIRGIN', 'VIRGINIA', 'VIRGO', 'VIRILE', 'VIRTUAL', 'VIRTUE', 'VIRTUOSO', 'VISCERA', 'VISCIDITY', 'VISCUM', 'VISIBLE', 'VISIER', 'VISION', 'VISIULA', 'VISUAL', 'VITEX', 'VITIS', 'VITRIOL', 'VITRIOLIC', 'VIVERRA', 'VIVIPAROUS', 'UKRAIN', 'ULADISLAW', 'ULCER', 'ULCERATION', 'ULEX', 'ULIGINOUS', 'ULM', 'ULMARIA', 'ULMUS', 'ULNA', 'ULNARIS', 'ULSTER', 'ULTERIOR', 'ULTRAMONTANE', 'ULYA', 'ULULA', 'UMBILICAL', 'UMBONE', 'UMPIRE', 'UNCTION', 'UNDECAGON', 'UNDERWALD', 'UNDERWOOD', 'UNGUENT', 'UNGUIS', 'UNGULA', 'UNICORN', 'UNIFORMITY', 'UNION', 'UNITY', 'UNIVERSAL', 'UNIVERSE', 'UNIVERSITY', 'UNIVOCAL', 'UNLAWFUL', 'VOCABULARY', 'VOCAL', 'VOCATIVE', 'VOICE', 'VOIDER', 'VOL', 'VOLA', 'VOLANT', 'VOLATILE', 'VOLATILISATION', 'VOLKAMERIA', 'VOLO', 'VOLT', 'VOLUME', 'VOLUTE', 'VOLVULUS', 'VOMIR', 'VOMICA', 'VOMIT', 'VOMITING', 'VOORN', 'VORTEX', 'VOWS', 'VOWEL', 'UPHOLSTER', 'UPLAND', 'UPRIGHT', 'UPTON', 'UPUPA', 'URACHUS', 'URANBURG', 'URBINO', 'URENA', 'URETERS', 'URETHRA', 'URI', 'URINAL', 'URINE', 'URN', 'UROGALLUS', 'URSA', 'URSULINES', 'URSUS', 'USANCE', 'USE', 'USEDOM', 'USHANT', 'USHER', 'USK', 'USQUEBAUGH', 'USTION', 'USTULATION', 'USUCAPFION', 'USUFRUIT', 'USURER', 'USURPATION', 'USURY', 'UTERINE', 'UTERUS', 'UTILE', 'UTOXETER', 'UTRECHT', 'UTRICULARIA', 'UVEA', 'VULCANO', 'VULGATE', 'VULNERARY', 'VULPES', 'VULTUR', 'VULVA', 'UVULARIA', 'UZBECK', 'WAAL', 'WADD', 'WADSET', 'WAFERS', 'WAGGON', 'WAGTAIL', 'WAIF', 'WAINSCOT', 'WAKEFIELD', 'WALCOURT', 'WALDEC', 'WALES', 'WALLINGFORD', 'WALLOONS', 'WALRUS', 'WALSALL', 'WALSINGHAM', 'WALTHAM', 'WALTHERIA', 'WAPENTAKE', 'WARD', 'WARDEN', 'WARDMOTE', 'WARE', 'WAREHAM', 'WARN', 'WARP', 'WARRANDICE', 'WARRANT', 'WARRANTY', 'WARSAW', 'WARSOVIA', 'WARWICK', 'WASH', 'WASHING', 'WASP', 'WATCH', 'WATER', 'WATERFORD', 'WATERING', 'WATLINGTON', 'WATTON', 'WAVED', 'WAVING', 'WAX', 'WAY', 'WEAR', 'WEASEL', 'WEATHER', 'WEAVING', 'WEDNESDAY', 'WEED', 'WEEK', 'WEEVER', 'WEIGH', 'WEIGHING', 'WEIGHT', 'WEIL', 'WEIMAR', 'WEISEL', 'WEISSENBURG', 'WEISSENFELD', 'WELCHPOLE', 'WELD', 'WELL', 'WELLAND', 'WELLINBOROUGH', 'WELLINGTON', 'WEM', 'WEN', 'WENDOVER', 'WENER', 'WENLOCK', 'WENSUSSEL', 'WEOBLEY', 'WERMELAND', 'WESEL', 'WESER', 'WESTRURY', 'WESTLOW', 'WESFMANIA', 'WESTMEATH', 'WESTMORELAND', 'WESTPIJALIA', 'WESTRAM', 'WEXFORD', 'WEYMOUTH', 'WHALE', 'WHEAT', 'WHEEL', 'WHELP', 'WHETSTONE', 'WHEY', 'WHIG', 'WHIP', 'WHIST', 'WHITBY', 'WHITCHURCH', 'WHITE', 'WHITEHAVEN', 'WHITENESS', 'WHITING', 'WHITES', 'WHITSUNDAY', 'WICKET', 'WICKLIFFISTS', 'WICKWARE', 'WIDOW', 'WIFE', 'WIGTOWN', 'WILDERNESS', 'WILL', 'WILLIAMSBURG', 'WILLIAMSTAT', 'WILNA', 'WILTON', 'WILTSHIRE', 'WINCHELSEA', 'WINCHESTER', 'WINDLASS', 'WINDOW', 'WINDSOR', 'WINE', 'WING', 'WINSLOW', 'WINSTER', 'WINTER', 'WINTERTONNESSE', 'WIRE', 'WISDOM', 'WITCHCRAFT', 'WITEPSKI', 'WITNESS', 'WITNEY', 'WITTLESEYMERE', 'WIVELSCOMB', 'WOAD', 'WOBURN', 'WOLAW', 'WOLF', 'WOLFEMBUTTLE', 'WOLFERDYKE', 'WOLGA', 'WOLKOWSKA', 'WOLLIN', 'WOLOGDA', 'WOLVERHAMPTON', 'WOMAN', 'WOOD', 'WOODBRIDGE', 'WOODSTOCK', 'WORCESTER', 'WORCUM', 'WORD', 'WORKSOP', 'WORLD', 'WORMS', 'WORMWOOD', 'WORSTED', 'WOUND', 'WRASSE', 'WRINTON', 'WRIST', 'WRIT', 'WRONG', 'WURTEMBURG', 'WYE', 'XALISCO', 'XANSI', 'XANTUM', 'XERANTHEMUM', 'XEROPHAGIA', 'XICHU', 'XINYAN', 'XIPHIAS', 'XIPHOIDES', 'XYLOCASIA', 'XYLON', 'XYNOECIA', 'XYRIS', 'XYSTARCHA', 'XYSTUS', 'YARD', 'YARE', 'YARMOUTH', 'YARN', 'YARUM', 'YAWS', 'YELLOW', 'YEOMAN', 'YEOVIL', 'YEST', 'YEW', 'YLA', 'YNCA', 'YOAK', 'YOANGFU', 'YOLK', 'YONNE', 'YORK', 'ZAFFER', 'ZAMORA', 'ZAPATA', 'ZEA', 'ZEAL', 'ZEALOTS', 'ZEBRA', 'ZEDOARY', 'ZELL', 'ZEND', 'ZEPHANIAH', 'ZEPHYR', 'ZEST', 'ZEUGMA', 'ZEUS', 'ZERETHICUS', 'ZINGIBER', 'ZINZIBER', 'ZIRANIA', 'ZONE', 'ZOOLOGY', 'ZOOTOMY', 'ZUG', 'ZURICH', 'ZUTPHEN', 'ZUYDERSEE', 'ZWEIBRUGGEN', 'ZYGOMA', 'ZYGOMATICUS'])"
      ]
     },
     "execution_count": 13,
     "metadata": {},
     "output_type": "execute_result"
    }
   ],
   "source": [
    "# This is all the extracted entries\n",
    "\n",
    "word_dict.keys()"
   ]
  },
  {
   "cell_type": "code",
   "execution_count": 14,
   "id": "legendary-opposition",
   "metadata": {},
   "outputs": [
    {
     "data": {
      "text/html": [
       "<div>\n",
       "<style scoped>\n",
       "    .dataframe tbody tr th:only-of-type {\n",
       "        vertical-align: middle;\n",
       "    }\n",
       "\n",
       "    .dataframe tbody tr th {\n",
       "        vertical-align: top;\n",
       "    }\n",
       "\n",
       "    .dataframe thead th {\n",
       "        text-align: right;\n",
       "    }\n",
       "</style>\n",
       "<table border=\"1\" class=\"dataframe\">\n",
       "  <thead>\n",
       "    <tr style=\"text-align: right;\">\n",
       "      <th></th>\n",
       "      <th>0</th>\n",
       "    </tr>\n",
       "  </thead>\n",
       "  <tbody>\n",
       "    <tr>\n",
       "      <th></th>\n",
       "      <td>i ! $* i $: iu^b ' n*s-f7^'v L i A j J ^ /^^W/ ; h:;^’ J - }r-r£c9'&amp;} \"*— \" ..^4-—&gt;, 'I ■ .,/.■ -,... v V *• C*?&gt;7 y &lt;rw /U^v UJ~L ^ (txk^L j 1rvt*Xitj $/i*4j/cJysx*£&gt;Xb&lt;. f^oLZ^^c^. % 'bvC JJ.' }v*c CclU^K &lt;77t .yy*t4**2^t*-C{+r ^tXCe^vK &amp;v»w 8/y: t^cCv-yt^yA. *-? ^v. •^GL* ftc*frt * U^&gt;. ‘ ** a^yUf^yX ^ }tA£. yylrrCj? yu&gt;t f\\ ^^2! ENCYCLOPEDIA BRITANNICA.VOLUME the FIRST.**■* ' ,T S :u -I &gt;;j .1 M U a C V' .A ARTS and SCIENCES, COVI PILED UPON A NEW PLAN.IN WHICH The diferent Sciences and Arts are dioefted into \" O diflinct Treatifes or Syitems; AND . The \\irious Technic a lTerms, &lt;&amp;c. are explained as they occur in the order of the Alphabet.ILLUSTRATED WITH ONE HUNDRED AND SIXTY COPPERPLATES.fry a Society of GENTLEMEN in Scotland.IN THREE VOLUME S.VOL. I.EDINBURGH: Printed for A. Bell and C. Macearquhar; Aid fold by C o l i n M a cf a r q.u h a r, at his Printing-office, N.coifon-HreeL \\l965r.</td>\n",
       "    </tr>\n",
       "    <tr>\n",
       "      <th>SCO</th>\n",
       "      <td>PREFACE UTILITY ought to be the principal intention of every publication.Wherever this intention does not plainly appear, neither the books nor their authors have the finalleft claim to the approbation of mankind.To diffufe the knowledge of Science, is the profefled defign of the following work. What methods, it may be alked, have the compilers employed to accomplilh this delign ? Not to mention original articles, they have had recourle to the belt books upon almoft every lubjedt, extracted the ufefiil parts, and rejected whatever appeared trifling or lefs interefting. Inftead of difinembering the Sciences, by attempting to treat them intelligibly under a multitude of technical terms, they have digefted the principles of every Icience in the form of lyftems or diftindl treatifes, and explained the terms as they occur in the order of the alphabet, with references to the Iciences to which they belong.As this plan differs from that of all the Dictionaries of Arts and Sciences hitherto...</td>\n",
       "    </tr>\n",
       "    <tr>\n",
       "      <th>AABAM</th>\n",
       "      <td>a term, among alchemifts, for lead, AACH, the name of a town and river in Swabia. It is alfo a name fometimes given toAix-la-chapelle.</td>\n",
       "    </tr>\n",
       "    <tr>\n",
       "      <th>AADE</th>\n",
       "      <td>the name of two rivers, one in the country of the Grifons in Switzerland, and the other in Dutch Brabant.</td>\n",
       "    </tr>\n",
       "    <tr>\n",
       "      <th>AAHUS</th>\n",
       "      <td>a fmall town and diftrift in Weftphalia.</td>\n",
       "    </tr>\n",
       "    <tr>\n",
       "      <th>...</th>\n",
       "      <td>...</td>\n",
       "    </tr>\n",
       "    <tr>\n",
       "      <th>ZUTPHEN</th>\n",
       "      <td>a city of a county of the fame name, in Gelderland, fituated on the river Ylfel, fixteen miles northeal! of Arnheim : E. long. 6°, N. lat. 52° 15'.</td>\n",
       "    </tr>\n",
       "    <tr>\n",
       "      <th>ZUYDERSEE</th>\n",
       "      <td>a great bay of the German ocean, which lies in the middle of the United provinces, having the illands of Texel, Flie, and Schelling, at the entrance of it, on the ntirth ; the provinces of Friefland, Overylfel, and Gelderland, on the eaft ; Utrecht, and part of Holland, on the fouth ; and another part of Holland on the weft. The chief town is Amfterdam.</td>\n",
       "    </tr>\n",
       "    <tr>\n",
       "      <th>ZWEIBRUGGEN</th>\n",
       "      <td>a county of the palatinate of the.Rhme, in Germany, fubjeft to the duke of Deuxponts.ZYGAlNA, in ichthyology. See Sq_alvs.</td>\n",
       "    </tr>\n",
       "    <tr>\n",
       "      <th>ZYGOMA</th>\n",
       "      <td>in anatomy. See Anatomy p. 152.</td>\n",
       "    </tr>\n",
       "    <tr>\n",
       "      <th>ZYGOMATICUS</th>\n",
       "      <td>in anatomy. See An atomy, p. 306.ZYGOPHVLLUM, in botany, a genus of the decandria nionogynia clafs. The corolla confifts of five leaves and the corolla of five petals ; the nedlarium confifts of ten leaves, covering the germen , and the capfule has five celis,, There are 8 fpecies, none of them natives of Britain;, F I N I COR R I G E N D A.Page 132. col. 1. !. 25,26. 0$ from the falivary Metaphysics, 1. 10. Tot metiphyjict, rt%&amp; phyjtcs.glands, from /making, &amp;c. read, at to the falivary glands P. 588. col. 2. I. ult. Inilead of which is almoys really' from ftnoking, See. a diphthong, read, which is always, when long, really a P. u°- col. 2. 1. ult. Tot [Hid. n° 2.) read (Plate diphthong.CXLVIL fig. I. «° I.) P. 59b. col. 1. 1. 41. Tot curve line, read curvilineaL N 0 T A N D A 1. In the Table of Errata at the end of Vol. I. it wai faid, “ That Plate XLVII. reprefented a different Orrery from the one deferibed.” This was a midake the Printer was fomehow led into : for the Orrery t...</td>\n",
       "    </tr>\n",
       "  </tbody>\n",
       "</table>\n",
       "<p>12093 rows × 1 columns</p>\n",
       "</div>"
      ],
      "text/plain": [
       "                                                                                                                                                                                                                                                                                                                                                                                                                                                                                                                                                                                                                                                                                                                                                                                                                                                                                                                                                                                                                                                   0\n",
       "                                                                                                       i ! $* i $: iu^b ' n*s-f7^'v L i A j J ^ /^^W/ ; h:;^’ J - }r-r£c9'&} \"*— \" ..^4-—>, 'I ■ .,/.■ -,... v V *• C*?>7 y <rw /U^v UJ~L ^ (txk^L j 1rvt*Xitj $/i*4j/cJysx*£>Xb<. f^oLZ^^c^. % 'bvC JJ.' }v*c CclU^K <77t .yy*t4**2^t*-C{+r ^tXCe^vK &v»w 8/y: t^cCv-yt^yA. *-? ^v. •^GL* ftc*frt * U^>. ‘ ** a^yUf^yX ^ }tA£. yylrrCj? yu>t f\\ ^^2! ENCYCLOPEDIA BRITANNICA.VOLUME the FIRST.**■* ' ,T S :u -I >;j .1 M U a C V' .A ARTS and SCIENCES, COVI PILED UPON A NEW PLAN.IN WHICH The diferent Sciences and Arts are dioefted into \" O diflinct Treatifes or Syitems; AND . The \\irious Technic a lTerms, <&c. are explained as they occur in the order of the Alphabet.ILLUSTRATED WITH ONE HUNDRED AND SIXTY COPPERPLATES.fry a Society of GENTLEMEN in Scotland.IN THREE VOLUME S.VOL. I.EDINBURGH: Printed for A. Bell and C. Macearquhar; Aid fold by C o l i n M a cf a r q.u h a r, at his Printing-office, N.coifon-HreeL \\l965r.\n",
       "SCO          PREFACE UTILITY ought to be the principal intention of every publication.Wherever this intention does not plainly appear, neither the books nor their authors have the finalleft claim to the approbation of mankind.To diffufe the knowledge of Science, is the profefled defign of the following work. What methods, it may be alked, have the compilers employed to accomplilh this delign ? Not to mention original articles, they have had recourle to the belt books upon almoft every lubjedt, extracted the ufefiil parts, and rejected whatever appeared trifling or lefs interefting. Inftead of difinembering the Sciences, by attempting to treat them intelligibly under a multitude of technical terms, they have digefted the principles of every Icience in the form of lyftems or diftindl treatifes, and explained the terms as they occur in the order of the alphabet, with references to the Iciences to which they belong.As this plan differs from that of all the Dictionaries of Arts and Sciences hitherto...\n",
       "AABAM                                                                                                                                                                                                                                                                                                                                                                                                                                                                                                                                                                                                                                                                                                                                                                                                                                                                                                         a term, among alchemifts, for lead, AACH, the name of a town and river in Swabia. It is alfo a name fometimes given toAix-la-chapelle.\n",
       "AADE                                                                                                                                                                                                                                                                                                                                                                                                                                                                                                                                                                                                                                                                                                                                                                                                                                                                                                                                       the name of two rivers, one in the country of the Grifons in Switzerland, and the other in Dutch Brabant.\n",
       "AAHUS                                                                                                                                                                                                                                                                                                                                                                                                                                                                                                                                                                                                                                                                                                                                                                                                                                                                                                                                                                                                       a fmall town and diftrift in Weftphalia.\n",
       "...                                                                                                                                                                                                                                                                                                                                                                                                                                                                                                                                                                                                                                                                                                                                                                                                                                                                                                                                                                                                                                              ...\n",
       "ZUTPHEN                                                                                                                                                                                                                                                                                                                                                                                                                                                                                                                                                                                                                                                                                                                                                                                                                                                                                          a city of a county of the fame name, in Gelderland, fituated on the river Ylfel, fixteen miles northeal! of Arnheim : E. long. 6°, N. lat. 52° 15'.\n",
       "ZUYDERSEE                                                                                                                                                                                                                                                                                                                                                                                                                                                                                                                                                                                                                                                                        a great bay of the German ocean, which lies in the middle of the United provinces, having the illands of Texel, Flie, and Schelling, at the entrance of it, on the ntirth ; the provinces of Friefland, Overylfel, and Gelderland, on the eaft ; Utrecht, and part of Holland, on the fouth ; and another part of Holland on the weft. The chief town is Amfterdam.\n",
       "ZWEIBRUGGEN                                                                                                                                                                                                                                                                                                                                                                                                                                                                                                                                                                                                                                                                                                                                                                                                                                                                                                               a county of the palatinate of the.Rhme, in Germany, fubjeft to the duke of Deuxponts.ZYGAlNA, in ichthyology. See Sq_alvs.\n",
       "ZYGOMA                                                                                                                                                                                                                                                                                                                                                                                                                                                                                                                                                                                                                                                                                                                                                                                                                                                                                                                                                                                                               in anatomy. See Anatomy p. 152.\n",
       "ZYGOMATICUS   in anatomy. See An atomy, p. 306.ZYGOPHVLLUM, in botany, a genus of the decandria nionogynia clafs. The corolla confifts of five leaves and the corolla of five petals ; the nedlarium confifts of ten leaves, covering the germen , and the capfule has five celis,, There are 8 fpecies, none of them natives of Britain;, F I N I COR R I G E N D A.Page 132. col. 1. !. 25,26. 0$ from the falivary Metaphysics, 1. 10. Tot metiphyjict, rt%& phyjtcs.glands, from /making, &c. read, at to the falivary glands P. 588. col. 2. I. ult. Inilead of which is almoys really' from ftnoking, See. a diphthong, read, which is always, when long, really a P. u°- col. 2. 1. ult. Tot [Hid. n° 2.) read (Plate diphthong.CXLVIL fig. I. «° I.) P. 59b. col. 1. 1. 41. Tot curve line, read curvilineaL N 0 T A N D A 1. In the Table of Errata at the end of Vol. I. it wai faid, “ That Plate XLVII. reprefented a different Orrery from the one deferibed.” This was a midake the Printer was fomehow led into : for the Orrery t...\n",
       "\n",
       "[12093 rows x 1 columns]"
      ]
     },
     "execution_count": 14,
     "metadata": {},
     "output_type": "execute_result"
    }
   ],
   "source": [
    "pd.DataFrame([word_dict]).T"
   ]
  },
  {
   "cell_type": "markdown",
   "id": "dutch-renewal",
   "metadata": {},
   "source": [
    "## 1.2 Function definition\n",
    "Given a version of the path, clean out the entry content of that version"
   ]
  },
  {
   "cell_type": "code",
   "execution_count": 15,
   "id": "communist-theorem",
   "metadata": {},
   "outputs": [],
   "source": [
    "def clean_raw_lines(line):\n",
    "    if line.endswith(\"-\\n\"):\n",
    "        line=line.replace(\"-\\n\",\"\")\n",
    "    elif line.endswith(\"¬\\n\"):\n",
    "        line=line.replace(\"¬\\n\",\"\")\n",
    "    elif line.endswith(\".\\n\"):\n",
    "        line=line\n",
    "    else:\n",
    "        line=line.replace(\"\\n\",\" \")\n",
    "    return line\n",
    "    \n",
    "def read_txt_files(files_list):\n",
    "    file_content_list=[]\n",
    "    for file in files_list:\n",
    "        print(\"\\t - {}\".format(file))\n",
    "        \n",
    "        # Read a txt file and put the read content into the list\n",
    "        with open(file,encoding=\"utf-8\") as f:            \n",
    "            lines=f.readlines()\n",
    "        lines=[clean_raw_lines(line) for line in lines]\n",
    "        text=\"\".join(lines)\n",
    "        file_content_list.extend(text.split(\"\\n\"))\n",
    "            \n",
    "    # Combine the various text contents in the list\n",
    "    return file_content_list\n",
    "\n",
    "def more_clean(df_sentence):\n",
    "    word=\"\"\n",
    "    word_dict={}\n",
    "    whole_sent=\"\"\n",
    "    for sent in df_sentence[\"text\"]:\n",
    "        # If a sentence does not match the entry, it will be appended to the previous entry\n",
    "        res=re.match(r\"[A-Z]+,\",sent)\n",
    "        if res is None:\n",
    "            whole_sent+=sent\n",
    "        else:\n",
    "            # If a sentence matches the entry, save the previous entry and start a new entry\n",
    "            word_dict[word]=whole_sent            \n",
    "            word=res.group().strip(\",\")\n",
    "            whole_sent=sent.replace(word+\",\",\"\")\n",
    "\n",
    "    # Add the last entry\n",
    "    word_dict[word]=whole_sent\n",
    "    df=pd.DataFrame([word_dict]).T\n",
    "    df.columns=[\"text\"]\n",
    "    return df\n",
    "\n",
    "def clean_all_in_one(version_num):\n",
    "    # What txt found\n",
    "    files_list=glob.glob(os.path.join(\"Encyclopedia Britannica V1-V8\",\"Version {}\".format(version_num),\"*.txt\"))\n",
    "    print(\"Reading: {}\".format(os.path.join(\"Encyclopedia Britannica V1-V8\",\"Version {}\".format(version_num))))\n",
    "    files_list=sorted(files_list)\n",
    "\n",
    "    # Preliminarily cleaned out paragraphs\n",
    "    files_content=read_txt_files(files_list)\n",
    "    df_sentence=pd.DataFrame([files_content]).T\n",
    "    df_sentence.columns=[\"text\"]\n",
    "    \n",
    "    # Further clean up entries\n",
    "    df_encyclopedia=more_clean(df_sentence)\n",
    "    return df_encyclopedia\n",
    "    "
   ]
  },
  {
   "cell_type": "markdown",
   "id": "received-courage",
   "metadata": {},
   "source": [
    "## 1.2.1 Read all versions and clean"
   ]
  },
  {
   "cell_type": "code",
   "execution_count": 16,
   "id": "specified-linux",
   "metadata": {
    "scrolled": true
   },
   "outputs": [
    {
     "name": "stdout",
     "output_type": "stream",
     "text": [
      "Reading: Encyclopedia Britannica V1-V8/Version 1\n",
      "\t - Encyclopedia Britannica V1-V8/Version 1/144133901.txt\n",
      "\t - Encyclopedia Britannica V1-V8/Version 1/144133902.txt\n",
      "\t - Encyclopedia Britannica V1-V8/Version 1/144133903.txt\n",
      "Reading: Encyclopedia Britannica V1-V8/Version 2\n",
      "\t - Encyclopedia Britannica V1-V8/Version 2/144850370.txt\n",
      "\t - Encyclopedia Britannica V1-V8/Version 2/144850373.txt\n",
      "\t - Encyclopedia Britannica V1-V8/Version 2/144850374.txt\n",
      "\t - Encyclopedia Britannica V1-V8/Version 2/144850375.txt\n",
      "\t - Encyclopedia Britannica V1-V8/Version 2/144850376.txt\n",
      "\t - Encyclopedia Britannica V1-V8/Version 2/144850377.txt\n",
      "\t - Encyclopedia Britannica V1-V8/Version 2/144850378.txt\n",
      "\t - Encyclopedia Britannica V1-V8/Version 2/144850379.txt\n",
      "\t - Encyclopedia Britannica V1-V8/Version 2/190273289.txt\n",
      "\t - Encyclopedia Britannica V1-V8/Version 2/190273290.txt\n",
      "Reading: Encyclopedia Britannica V1-V8/Version 3\n",
      "\t - Encyclopedia Britannica V1-V8/Version 3/149977338.txt\n",
      "\t - Encyclopedia Britannica V1-V8/Version 3/149977873.txt\n",
      "\t - Encyclopedia Britannica V1-V8/Version 3/149978642.txt\n",
      "\t - Encyclopedia Britannica V1-V8/Version 3/149979156.txt\n",
      "\t - Encyclopedia Britannica V1-V8/Version 3/149979622.txt\n",
      "\t - Encyclopedia Britannica V1-V8/Version 3/149981189.txt\n",
      "\t - Encyclopedia Britannica V1-V8/Version 3/149981670.txt\n",
      "\t - Encyclopedia Britannica V1-V8/Version 3/149982181.txt\n",
      "\t - Encyclopedia Britannica V1-V8/Version 3/149982692.txt\n",
      "\t - Encyclopedia Britannica V1-V8/Version 3/149983206.txt\n",
      "\t - Encyclopedia Britannica V1-V8/Version 3/190273291.txt\n",
      "\t - Encyclopedia Britannica V1-V8/Version 3/190273372.txt\n",
      "\t - Encyclopedia Britannica V1-V8/Version 3/191253798.txt\n",
      "\t - Encyclopedia Britannica V1-V8/Version 3/191253799.txt\n",
      "\t - Encyclopedia Britannica V1-V8/Version 3/191253800.txt\n",
      "\t - Encyclopedia Britannica V1-V8/Version 3/191253801.txt\n",
      "\t - Encyclopedia Britannica V1-V8/Version 3/191253802.txt\n",
      "\t - Encyclopedia Britannica V1-V8/Version 3/191253803.txt\n",
      "\t - Encyclopedia Britannica V1-V8/Version 3/191253804.txt\n",
      "\t - Encyclopedia Britannica V1-V8/Version 3/191253805.txt\n",
      "\t - Encyclopedia Britannica V1-V8/Version 3/191253806.txt\n",
      "\t - Encyclopedia Britannica V1-V8/Version 3/191253814.txt\n",
      "\t - Encyclopedia Britannica V1-V8/Version 3/191253817.txt\n",
      "\t - Encyclopedia Britannica V1-V8/Version 3/191253822.txt\n",
      "\t - Encyclopedia Britannica V1-V8/Version 3/191253823.txt\n",
      "\t - Encyclopedia Britannica V1-V8/Version 3/191253824.txt\n",
      "\t - Encyclopedia Britannica V1-V8/Version 3/191253835.txt\n",
      "\t - Encyclopedia Britannica V1-V8/Version 3/191319917.txt\n",
      "\t - Encyclopedia Britannica V1-V8/Version 3/191320009.txt\n",
      "\t - Encyclopedia Britannica V1-V8/Version 3/191679021.txt\n",
      "\t - Encyclopedia Britannica V1-V8/Version 3/192200061.txt\n",
      "\t - Encyclopedia Britannica V1-V8/Version 3/192547778.txt\n",
      "\t - Encyclopedia Britannica V1-V8/Version 3/192547779.txt\n",
      "\t - Encyclopedia Britannica V1-V8/Version 3/193109107.txt\n",
      "\t - Encyclopedia Britannica V1-V8/Version 3/193322691.txt\n",
      "\t - Encyclopedia Britannica V1-V8/Version 3/194167545.txt\n",
      "Reading: Encyclopedia Britannica V1-V8/Version 4\n",
      "\t - Encyclopedia Britannica V1-V8/Version 4/191253818.txt\n",
      "\t - Encyclopedia Britannica V1-V8/Version 4/191253819.txt\n",
      "\t - Encyclopedia Britannica V1-V8/Version 4/191253825.txt\n",
      "\t - Encyclopedia Britannica V1-V8/Version 4/191253826.txt\n",
      "\t - Encyclopedia Britannica V1-V8/Version 4/191253836.txt\n",
      "\t - Encyclopedia Britannica V1-V8/Version 4/191253837.txt\n",
      "\t - Encyclopedia Britannica V1-V8/Version 4/191253838.txt\n",
      "\t - Encyclopedia Britannica V1-V8/Version 4/191253839.txt\n",
      "\t - Encyclopedia Britannica V1-V8/Version 4/191320556.txt\n",
      "\t - Encyclopedia Britannica V1-V8/Version 4/191320557.txt\n",
      "\t - Encyclopedia Britannica V1-V8/Version 4/191320558.txt\n",
      "\t - Encyclopedia Britannica V1-V8/Version 4/191320559.txt\n",
      "\t - Encyclopedia Britannica V1-V8/Version 4/191320560.txt\n",
      "\t - Encyclopedia Britannica V1-V8/Version 4/191320561.txt\n",
      "\t - Encyclopedia Britannica V1-V8/Version 4/191678900.txt\n",
      "\t - Encyclopedia Britannica V1-V8/Version 4/191678901.txt\n",
      "\t - Encyclopedia Britannica V1-V8/Version 4/191678902.txt\n",
      "\t - Encyclopedia Britannica V1-V8/Version 4/191678903.txt\n",
      "\t - Encyclopedia Britannica V1-V8/Version 4/191679019.txt\n",
      "\t - Encyclopedia Britannica V1-V8/Version 4/191679020.txt\n",
      "\t - Encyclopedia Britannica V1-V8/Version 4/191689060.txt\n",
      "\t - Encyclopedia Britannica V1-V8/Version 4/191689061.txt\n",
      "\t - Encyclopedia Britannica V1-V8/Version 4/191809865.txt\n",
      "\t - Encyclopedia Britannica V1-V8/Version 4/191809866.txt\n",
      "\t - Encyclopedia Britannica V1-V8/Version 4/192545783.txt\n",
      "\t - Encyclopedia Britannica V1-V8/Version 4/192545784.txt\n",
      "\t - Encyclopedia Britannica V1-V8/Version 4/192545785.txt\n",
      "\t - Encyclopedia Britannica V1-V8/Version 4/192545786.txt\n",
      "\t - Encyclopedia Britannica V1-V8/Version 4/192547776.txt\n",
      "\t - Encyclopedia Britannica V1-V8/Version 4/192547777.txt\n",
      "\t - Encyclopedia Britannica V1-V8/Version 4/192692190.txt\n",
      "\t - Encyclopedia Britannica V1-V8/Version 4/192692191.txt\n",
      "\t - Encyclopedia Britannica V1-V8/Version 4/192692192.txt\n",
      "\t - Encyclopedia Britannica V1-V8/Version 4/192692193.txt\n",
      "\t - Encyclopedia Britannica V1-V8/Version 4/192692194.txt\n",
      "\t - Encyclopedia Britannica V1-V8/Version 4/192692195.txt\n",
      "\t - Encyclopedia Britannica V1-V8/Version 4/193108316.txt\n",
      "\t - Encyclopedia Britannica V1-V8/Version 4/193108317.txt\n",
      "\t - Encyclopedia Britannica V1-V8/Version 4/193109110.txt\n",
      "\t - Encyclopedia Britannica V1-V8/Version 4/193109111.txt\n",
      "Reading: Encyclopedia Britannica V1-V8/Version 5\n",
      "\t - Encyclopedia Britannica V1-V8/Version 5/191678897.txt\n",
      "\t - Encyclopedia Britannica V1-V8/Version 5/191678898.txt\n",
      "\t - Encyclopedia Britannica V1-V8/Version 5/191678899.txt\n",
      "\t - Encyclopedia Britannica V1-V8/Version 5/191679033.txt\n",
      "\t - Encyclopedia Britannica V1-V8/Version 5/191689062.txt\n",
      "\t - Encyclopedia Britannica V1-V8/Version 5/191689063.txt\n",
      "\t - Encyclopedia Britannica V1-V8/Version 5/192016229.txt\n",
      "\t - Encyclopedia Britannica V1-V8/Version 5/192200897.txt\n",
      "\t - Encyclopedia Britannica V1-V8/Version 5/192200898.txt\n",
      "\t - Encyclopedia Britannica V1-V8/Version 5/192200899.txt\n",
      "\t - Encyclopedia Britannica V1-V8/Version 5/192200900.txt\n",
      "\t - Encyclopedia Britannica V1-V8/Version 5/192200901.txt\n",
      "\t - Encyclopedia Britannica V1-V8/Version 5/192547785.txt\n",
      "\t - Encyclopedia Britannica V1-V8/Version 5/192692638.txt\n",
      "\t - Encyclopedia Britannica V1-V8/Version 5/192984254.txt\n",
      "\t - Encyclopedia Britannica V1-V8/Version 5/192984255.txt\n",
      "\t - Encyclopedia Britannica V1-V8/Version 5/192984256.txt\n",
      "\t - Encyclopedia Britannica V1-V8/Version 5/193108318.txt\n",
      "\t - Encyclopedia Britannica V1-V8/Version 5/193109108.txt\n",
      "\t - Encyclopedia Britannica V1-V8/Version 5/193109109.txt\n",
      "Reading: Encyclopedia Britannica V1-V8/Version 6\n",
      "\t - Encyclopedia Britannica V1-V8/Version 6/191679036.txt\n",
      "\t - Encyclopedia Britannica V1-V8/Version 6/191689064.txt\n",
      "\t - Encyclopedia Britannica V1-V8/Version 6/191689065.txt\n",
      "\t - Encyclopedia Britannica V1-V8/Version 6/192015834.txt\n",
      "\t - Encyclopedia Britannica V1-V8/Version 6/192015835.txt\n",
      "\t - Encyclopedia Britannica V1-V8/Version 6/192015836.txt\n",
      "\t - Encyclopedia Britannica V1-V8/Version 6/192015837.txt\n",
      "\t - Encyclopedia Britannica V1-V8/Version 6/192015838.txt\n",
      "\t - Encyclopedia Britannica V1-V8/Version 6/192200322.txt\n",
      "\t - Encyclopedia Britannica V1-V8/Version 6/192200323.txt\n",
      "\t - Encyclopedia Britannica V1-V8/Version 6/192200662.txt\n",
      "\t - Encyclopedia Britannica V1-V8/Version 6/192547781.txt\n",
      "\t - Encyclopedia Britannica V1-V8/Version 6/192547782.txt\n",
      "\t - Encyclopedia Britannica V1-V8/Version 6/192547783.txt\n",
      "\t - Encyclopedia Britannica V1-V8/Version 6/192547784.txt\n",
      "\t - Encyclopedia Britannica V1-V8/Version 6/192692756.txt\n",
      "\t - Encyclopedia Britannica V1-V8/Version 6/192984257.txt\n",
      "\t - Encyclopedia Britannica V1-V8/Version 6/193057497.txt\n",
      "\t - Encyclopedia Britannica V1-V8/Version 6/193696080.txt\n",
      "\t - Encyclopedia Britannica V1-V8/Version 6/193696081.txt\n",
      "Reading: Encyclopedia Britannica V1-V8/Version 7\n",
      "\t - Encyclopedia Britannica V1-V8/Version 7/192693199.txt\n",
      "\t - Encyclopedia Britannica V1-V8/Version 7/192984258.txt\n",
      "\t - Encyclopedia Britannica V1-V8/Version 7/192984259.txt\n",
      "\t - Encyclopedia Britannica V1-V8/Version 7/193057500.txt\n",
      "\t - Encyclopedia Britannica V1-V8/Version 7/193057501.txt\n",
      "\t - Encyclopedia Britannica V1-V8/Version 7/193108322.txt\n",
      "\t - Encyclopedia Britannica V1-V8/Version 7/193108323.txt\n",
      "\t - Encyclopedia Britannica V1-V8/Version 7/193322688.txt\n"
     ]
    },
    {
     "name": "stdout",
     "output_type": "stream",
     "text": [
      "\t - Encyclopedia Britannica V1-V8/Version 7/193322689.txt\n",
      "\t - Encyclopedia Britannica V1-V8/Version 7/193322690.txt\n",
      "\t - Encyclopedia Britannica V1-V8/Version 7/193469090.txt\n",
      "\t - Encyclopedia Britannica V1-V8/Version 7/193469091.txt\n",
      "\t - Encyclopedia Britannica V1-V8/Version 7/193469092.txt\n",
      "\t - Encyclopedia Britannica V1-V8/Version 7/193638940.txt\n",
      "\t - Encyclopedia Britannica V1-V8/Version 7/193696083.txt\n",
      "\t - Encyclopedia Britannica V1-V8/Version 7/193696084.txt\n",
      "\t - Encyclopedia Britannica V1-V8/Version 7/193819043.txt\n",
      "\t - Encyclopedia Britannica V1-V8/Version 7/193819044.txt\n",
      "\t - Encyclopedia Britannica V1-V8/Version 7/193819045.txt\n",
      "\t - Encyclopedia Britannica V1-V8/Version 7/193913444.txt\n",
      "\t - Encyclopedia Britannica V1-V8/Version 7/194474782.txt\n",
      "Reading: Encyclopedia Britannica V1-V8/Version 8\n",
      "\t - Encyclopedia Britannica V1-V8/Version 8/192984260.txt\n",
      "\t - Encyclopedia Britannica V1-V8/Version 8/193108324.txt\n",
      "\t - Encyclopedia Britannica V1-V8/Version 8/193108325.txt\n",
      "\t - Encyclopedia Britannica V1-V8/Version 8/193108326.txt\n",
      "\t - Encyclopedia Britannica V1-V8/Version 8/193109113.txt\n",
      "\t - Encyclopedia Britannica V1-V8/Version 8/193109114.txt\n",
      "\t - Encyclopedia Britannica V1-V8/Version 8/193109115.txt\n",
      "\t - Encyclopedia Britannica V1-V8/Version 8/193322698.txt\n",
      "\t - Encyclopedia Britannica V1-V8/Version 8/193322699.txt\n",
      "\t - Encyclopedia Britannica V1-V8/Version 8/193322700.txt\n",
      "\t - Encyclopedia Britannica V1-V8/Version 8/193322701.txt\n",
      "\t - Encyclopedia Britannica V1-V8/Version 8/193469392.txt\n",
      "\t - Encyclopedia Britannica V1-V8/Version 8/193469393.txt\n",
      "\t - Encyclopedia Britannica V1-V8/Version 8/193592632.txt\n",
      "\t - Encyclopedia Britannica V1-V8/Version 8/193696085.txt\n",
      "\t - Encyclopedia Britannica V1-V8/Version 8/193696086.txt\n",
      "\t - Encyclopedia Britannica V1-V8/Version 8/193696087.txt\n",
      "\t - Encyclopedia Britannica V1-V8/Version 8/193696088.txt\n",
      "\t - Encyclopedia Britannica V1-V8/Version 8/193819046.txt\n",
      "\t - Encyclopedia Britannica V1-V8/Version 8/193819047.txt\n",
      "\t - Encyclopedia Britannica V1-V8/Version 8/193916150.txt\n"
     ]
    }
   ],
   "source": [
    "# Read all versions\n",
    "\n",
    "df_encyclopedia_list=[]\n",
    "for i in range(1,9):\n",
    "    df_encyclopedia=clean_all_in_one(i)\n",
    "    df_encyclopedia[\"version\"]=i\n",
    "    df_encyclopedia_list.append(df_encyclopedia)\n",
    "    \n",
    "df_encyclopedia_all=pd.concat(df_encyclopedia_list)"
   ]
  },
  {
   "cell_type": "code",
   "execution_count": 17,
   "id": "configured-swift",
   "metadata": {},
   "outputs": [
    {
     "data": {
      "text/html": [
       "<div>\n",
       "<style scoped>\n",
       "    .dataframe tbody tr th:only-of-type {\n",
       "        vertical-align: middle;\n",
       "    }\n",
       "\n",
       "    .dataframe tbody tr th {\n",
       "        vertical-align: top;\n",
       "    }\n",
       "\n",
       "    .dataframe thead th {\n",
       "        text-align: right;\n",
       "    }\n",
       "</style>\n",
       "<table border=\"1\" class=\"dataframe\">\n",
       "  <thead>\n",
       "    <tr style=\"text-align: right;\">\n",
       "      <th></th>\n",
       "      <th>text</th>\n",
       "      <th>version</th>\n",
       "    </tr>\n",
       "  </thead>\n",
       "  <tbody>\n",
       "    <tr>\n",
       "      <th>ABRA</th>\n",
       "      <td>a filver coin of Poland, in value nearly equivalent to an Englifli Hulling.</td>\n",
       "      <td>1</td>\n",
       "    </tr>\n",
       "    <tr>\n",
       "      <th>ABRACADABRA</th>\n",
       "      <td>a magical word or fpell, which being written as many times as the word contains letters, and omitting the lad letter of the former every time, was, in the ages of ignorance and fuperdition, vvyrn about the neck, as an antidote againd agues andfeveral other difeaies ABRAHAM’r balm, in botany, See Cannabis.</td>\n",
       "      <td>1</td>\n",
       "    </tr>\n",
       "    <tr>\n",
       "      <th>ABRAHAMITES</th>\n",
       "      <td>an order of monks exterminated - for idolatry by Theophilus in the ninth century. Alfo the name of another fedt of heretics who had adopted the errors of Paulus. See Paulicians.</td>\n",
       "      <td>1</td>\n",
       "    </tr>\n",
       "    <tr>\n",
       "      <th>ABRAMIS</th>\n",
       "      <td>an obfclete name for the filh cyprinus. See Cyprinus, B Abrasa, A B R (6 ABRASA, in furgery, ulcers, where the Ikin is fo tender and lax as to render them fubjeft to abrafion.</td>\n",
       "      <td>1</td>\n",
       "    </tr>\n",
       "    <tr>\n",
       "      <th>ABRASION</th>\n",
       "      <td>in medicine, the corroding of any part by acrid humours or medicines.</td>\n",
       "      <td>1</td>\n",
       "    </tr>\n",
       "    <tr>\n",
       "      <th>ABRAUM</th>\n",
       "      <td>an obfolete name of a certain fpecies of clay, called by fome authors Adamic earth, on account of its red colour.</td>\n",
       "      <td>1</td>\n",
       "    </tr>\n",
       "    <tr>\n",
       "      <th>ABRASAX</th>\n",
       "      <td>or Abraxas, a myftical term found in the ancient theology and philofophy of Balilides’s followers.</td>\n",
       "      <td>1</td>\n",
       "    </tr>\n",
       "    <tr>\n",
       "      <th>ABRAX</th>\n",
       "      <td>an antique (tone with the word abraxas engraved on it. They are of various fizes, and molt of them as old as the third century.</td>\n",
       "      <td>1</td>\n",
       "    </tr>\n",
       "    <tr>\n",
       "      <th>ABREAST</th>\n",
       "      <td>a fea-term. In an attack, purfuit, .or retreat at fea, the fquadrons or divilions of a fleet are often obliged to vary their difpofitions, and at the fame time obferve a proper regularity, by failing in right or curved lines: when they fail at a proper diftance from each other, and are all equally forward, they are then faid to have formed the line abreajl.ABRENUNCIATION See Renunciation.</td>\n",
       "      <td>1</td>\n",
       "    </tr>\n",
       "    <tr>\n",
       "      <th>ABRIDGEMENT</th>\n",
       "      <td>in literature, a term fignifying the redudtion of a book into a fmaller compafs. — The art of conveying much fentiment in few words, is the happieft talent an author can be poflefled of. This talent b peculiarly neceflary in the prefent ftate of literature ; for many writers have acquired the dexterity of fpreading a few tritical thoughts over feveral hundred pages. When an author hits upon a thought that pleafes him, he is apt to dwell upon it, to view it in different lights, to force it in improperly, or upon the flightefl: relations. Though this may be pleafant to the writer, it tires and vexes the reader.There is another great fource of diffufion in compofition. It is a capital object with an author, whatever be the fubjedt, to give vent to all his beft thoughts.When he finds a proper place for any of them, he is peculiarly happy. But, rather than facrifice a thought he is fond of, he forces it in by way of digreflion, or fuperfluous illuftration. If none of thefe expedients a...</td>\n",
       "      <td>1</td>\n",
       "    </tr>\n",
       "  </tbody>\n",
       "</table>\n",
       "</div>"
      ],
      "text/plain": [
       "                                                                                                                                                                                                                                                                                                                                                                                                                                                                                                                                                                                                                                                                                                                                                                                                                                                                                                                                                                                                                                                text  \\\n",
       "ABRA                                                                                                                                                                                                                                                                                                                                                                                                                                                                                                                                                                                                                                                                                                                                                                                                                                                                                                                                                                     a filver coin of Poland, in value nearly equivalent to an Englifli Hulling.   \n",
       "ABRACADABRA                                                                                                                                                                                                                                                                                                                                                                                                                                                                                                                                                                                                                                                                                                                       a magical word or fpell, which being written as many times as the word contains letters, and omitting the lad letter of the former every time, was, in the ages of ignorance and fuperdition, vvyrn about the neck, as an antidote againd agues andfeveral other difeaies ABRAHAM’r balm, in botany, See Cannabis.   \n",
       "ABRAHAMITES                                                                                                                                                                                                                                                                                                                                                                                                                                                                                                                                                                                                                                                                                                                                                                                                                                                        an order of monks exterminated - for idolatry by Theophilus in the ninth century. Alfo the name of another fedt of heretics who had adopted the errors of Paulus. See Paulicians.   \n",
       "ABRAMIS                                                                                                                                                                                                                                                                                                                                                                                                                                                                                                                                                                                                                                                                                                                                                                                                                                                              an obfclete name for the filh cyprinus. See Cyprinus, B Abrasa, A B R (6 ABRASA, in furgery, ulcers, where the Ikin is fo tender and lax as to render them fubjeft to abrafion.   \n",
       "ABRASION                                                                                                                                                                                                                                                                                                                                                                                                                                                                                                                                                                                                                                                                                                                                                                                                                                                                                                                                                                       in medicine, the corroding of any part by acrid humours or medicines.   \n",
       "ABRAUM                                                                                                                                                                                                                                                                                                                                                                                                                                                                                                                                                                                                                                                                                                                                                                                                                                                                                                                             an obfolete name of a certain fpecies of clay, called by fome authors Adamic earth, on account of its red colour.   \n",
       "ABRASAX                                                                                                                                                                                                                                                                                                                                                                                                                                                                                                                                                                                                                                                                                                                                                                                                                                                                                                                                           or Abraxas, a myftical term found in the ancient theology and philofophy of Balilides’s followers.   \n",
       "ABRAX                                                                                                                                                                                                                                                                                                                                                                                                                                                                                                                                                                                                                                                                                                                                                                                                                                                                                                                an antique (tone with the word abraxas engraved on it. They are of various fizes, and molt of them as old as the third century.   \n",
       "ABREAST                                                                                                                                                                                                                                                                                                                                                                                                                                                                                                                                                                                                                                      a fea-term. In an attack, purfuit, .or retreat at fea, the fquadrons or divilions of a fleet are often obliged to vary their difpofitions, and at the fame time obferve a proper regularity, by failing in right or curved lines: when they fail at a proper diftance from each other, and are all equally forward, they are then faid to have formed the line abreajl.ABRENUNCIATION See Renunciation.   \n",
       "ABRIDGEMENT   in literature, a term fignifying the redudtion of a book into a fmaller compafs. — The art of conveying much fentiment in few words, is the happieft talent an author can be poflefled of. This talent b peculiarly neceflary in the prefent ftate of literature ; for many writers have acquired the dexterity of fpreading a few tritical thoughts over feveral hundred pages. When an author hits upon a thought that pleafes him, he is apt to dwell upon it, to view it in different lights, to force it in improperly, or upon the flightefl: relations. Though this may be pleafant to the writer, it tires and vexes the reader.There is another great fource of diffufion in compofition. It is a capital object with an author, whatever be the fubjedt, to give vent to all his beft thoughts.When he finds a proper place for any of them, he is peculiarly happy. But, rather than facrifice a thought he is fond of, he forces it in by way of digreflion, or fuperfluous illuftration. If none of thefe expedients a...   \n",
       "\n",
       "             version  \n",
       "ABRA               1  \n",
       "ABRACADABRA        1  \n",
       "ABRAHAMITES        1  \n",
       "ABRAMIS            1  \n",
       "ABRASION           1  \n",
       "ABRAUM             1  \n",
       "ABRASAX            1  \n",
       "ABRAX              1  \n",
       "ABREAST            1  \n",
       "ABRIDGEMENT        1  "
      ]
     },
     "execution_count": 17,
     "metadata": {},
     "output_type": "execute_result"
    }
   ],
   "source": [
    "df_encyclopedia_all.iloc[100:110,:]"
   ]
  },
  {
   "cell_type": "code",
   "execution_count": 18,
   "id": "unlikely-melissa",
   "metadata": {},
   "outputs": [
    {
     "data": {
      "text/plain": [
       "(113196, 2)"
      ]
     },
     "execution_count": 18,
     "metadata": {},
     "output_type": "execute_result"
    }
   ],
   "source": [
    "df_encyclopedia_all.shape"
   ]
  },
  {
   "cell_type": "markdown",
   "id": "meaning-artwork",
   "metadata": {},
   "source": [
    "# 2. Further data cleaning\n",
    "\n",
    "This is mainly to remove non-letter words in text"
   ]
  },
  {
   "cell_type": "code",
   "execution_count": null,
   "id": "hazardous-conservation",
   "metadata": {
    "scrolled": true
   },
   "outputs": [],
   "source": [
    "stop_words=stopwords.words('english')\n",
    "            \n",
    "            \n",
    "def clean_text(text):\n",
    "   \n",
    "    # Remove all non-English letters directly\n",
    "    patten=r'[^a-z]'\n",
    "    text=re.sub(patten,' ',text.lower())\n",
    "    \n",
    "    # Replace multiple consecutive spaces with 1 space\n",
    "    text_list = re.sub(r'\\s+', ' ', text).split()\n",
    "    \n",
    "    # Remove stop words\n",
    "    text_list=[word for word in text_list if ((word not in stop_words) and len(word)>3)]\n",
    "    return \" \".join(text_list)\n",
    "\n",
    "\n",
    "df_encyclopedia_all[\"text_clean\"]=df_encyclopedia_all[\"text\"].apply(clean_text)\n",
    "\n",
    "df_encyclopedia_all.iloc[100:110,:]"
   ]
  },
  {
   "cell_type": "markdown",
   "id": "impossible-cemetery",
   "metadata": {},
   "source": [
    "# 3. LDA model"
   ]
  },
  {
   "cell_type": "code",
   "execution_count": null,
   "id": "established-picture",
   "metadata": {},
   "outputs": [],
   "source": [
    "from sklearn.feature_extraction.text import CountVectorizer\n",
    "\n",
    "count = CountVectorizer(stop_words='english',\n",
    "                        min_df=20,\n",
    "                        max_df=0.1,                      \n",
    "                        max_features=5000)\n",
    "X = count.fit_transform(df_encyclopedia_all['text_clean'].values)"
   ]
  },
  {
   "cell_type": "code",
   "execution_count": null,
   "id": "plastic-central",
   "metadata": {},
   "outputs": [],
   "source": [
    "from sklearn.decomposition import LatentDirichletAllocation\n",
    "\n",
    "lda = LatentDirichletAllocation(n_components=10,\n",
    "                                random_state=123)\n",
    "\n",
    "X_topics = lda.fit_transform(X)"
   ]
  },
  {
   "cell_type": "markdown",
   "id": "dirty-danger",
   "metadata": {},
   "source": [
    "## 3.1 Extract representative vocabulary for each topic\n",
    "\n",
    "+ Here are the top 20 important vocabularies for each topic"
   ]
  },
  {
   "cell_type": "code",
   "execution_count": null,
   "id": "statewide-illness",
   "metadata": {},
   "outputs": [],
   "source": [
    "n_top_words = 20\n",
    "feature_names = count.get_feature_names()\n",
    "\n",
    "for topic_idx, topic in enumerate(lda.components_):\n",
    "    print(\"Topic %d:\" % (topic_idx + 1))\n",
    "    print(\" \".join([feature_names[i] for i in topic.argsort()[:-n_top_words - 1:-1]]))"
   ]
  },
  {
   "cell_type": "code",
   "execution_count": null,
   "id": "living-contest",
   "metadata": {
    "scrolled": false
   },
   "outputs": [],
   "source": [
    "\n",
    "for i in range(10):\n",
    "    print('\\nTopic{}:'.format(i+1))\n",
    "    topic = X_topics[:, i].argsort()[::-1]\n",
    "\n",
    "    for iter_idx, text_idx in enumerate(topic[:3]): \n",
    "        print('\\n\\t sample#{}:'.format(iter_idx + 1),end=\" \")\n",
    "        print(df_encyclopedia_all['text'][text_idx][:200], '...')  \n",
    "        \n",
    "    print('='*120)"
   ]
  },
  {
   "cell_type": "code",
   "execution_count": null,
   "id": "pleased-proof",
   "metadata": {},
   "outputs": [],
   "source": [
    "def plot_top_words(model, feature_names, n_top_words, title):\n",
    "    fig, axes = plt.subplots(2, 5, figsize=(30, 20), sharex=True)\n",
    "    axes = axes.flatten()\n",
    "    for topic_idx, topic in enumerate(model.components_):\n",
    "        top_features_ind = topic.argsort()[:-n_top_words - 1:-1]\n",
    "        top_features = [feature_names[i] for i in top_features_ind]\n",
    "        weights = topic[top_features_ind]\n",
    "\n",
    "        ax = axes[topic_idx]\n",
    "        ax.barh(top_features, weights, height=0.7)\n",
    "        ax.set_title(f'Topic {topic_idx +1}',\n",
    "                     fontdict={'fontsize': 30})\n",
    "        ax.invert_yaxis()\n",
    "        ax.tick_params(axis='both', which='major', labelsize=20)\n",
    "        for i in 'top right left'.split():\n",
    "            ax.spines[i].set_visible(False)\n",
    "        fig.suptitle(title, fontsize=40)\n",
    "\n",
    "    plt.subplots_adjust(top=0.9, bottom=0.05, wspace=0.95, hspace=0.2)\n",
    "    plt.show()   \n"
   ]
  },
  {
   "cell_type": "code",
   "execution_count": null,
   "id": "structural-trance",
   "metadata": {},
   "outputs": [],
   "source": [
    "# The following are the Top 10 important vocabularies for each topic\n",
    "%matplotlib inline\n",
    "\n",
    "plot_top_words(model=lda, feature_names=feature_names, n_top_words=20, title='Topics in LDA model')"
   ]
  },
  {
   "cell_type": "markdown",
   "id": "thorough-survival",
   "metadata": {},
   "source": [
    "# 4. Count the distribution of entries for each topic by version"
   ]
  },
  {
   "cell_type": "code",
   "execution_count": null,
   "id": "oriental-relationship",
   "metadata": {},
   "outputs": [],
   "source": [
    "# Mark the topic to which each entry belongs\n",
    "# I take the topic with the highest probability as the topic to which the entry belongs\n",
    "\n",
    "df_encyclopedia_all[\"topic\"]=X_topics.argmax(axis=1)"
   ]
  },
  {
   "cell_type": "code",
   "execution_count": null,
   "id": "global-contemporary",
   "metadata": {},
   "outputs": [],
   "source": [
    "# Count the number of entries for each topic in the same version\n",
    "\n",
    "df_version_topic=df_encyclopedia_all.pivot_table(index=\"version\",columns=\"topic\",values=\"text\",aggfunc=\"count\")\n",
    "df_version_topic"
   ]
  },
  {
   "cell_type": "code",
   "execution_count": null,
   "id": "driven-implement",
   "metadata": {},
   "outputs": [],
   "source": [
    "# In the same version, calculate the proportion of the number of entries for each topic\n",
    "\n",
    "df_version_topic.div(df_version_topic.sum(axis=1),axis=0)"
   ]
  },
  {
   "cell_type": "code",
   "execution_count": null,
   "id": "substantial-microphone",
   "metadata": {},
   "outputs": [],
   "source": [
    "# Name the theme and visualize it\n",
    "topic_labels=[\"Math\",\"Architecture\",\"Materials\",\"Royal\",\"Church\",\"Craft\",\"Anatomy\",\"Trade\",\"Cultural\",\"Biology\"]\n",
    "\n",
    "plt.figure(figsize=(12,8))\n",
    "sns.heatmap(df_version_topic, cmap=\"YlGnBu\",linewidths=.5)\n",
    "\n",
    "plt.xlabel(\"Topic Number\",fontsize=12)\n",
    "plt.xticks([x+0.5 for x in range(10)],topic_labels)\n",
    "\n",
    "plt.ylabel(\"Version\",fontsize=12)\n",
    "plt.yticks([x+0.5 for x in range(8)],\n",
    "           ['Year(1771)','Year(1784)','Year(1797)','Year(1810)','Year(1817)','Year(1823)','Year(1842)','Year(1860)'],\n",
    "           rotation=0)\n",
    "\n",
    "plt.title(\"Frequency Distribution of Each Topic by Version\",fontsize=14)"
   ]
  },
  {
   "cell_type": "code",
   "execution_count": null,
   "id": "allied-polls",
   "metadata": {},
   "outputs": [],
   "source": [
    "sns.set_theme(style=\"white\",palette=sns.color_palette(\"husl\"))\n",
    "\n",
    "topic_labels=[\"Math\",\"Architecture\",\"Materials\",\"Royal\",\"Church\",\"Craft\",\"Anatomy\",\"Trade\",\"Cultural\",\"Biology\"]\n",
    "\n",
    "df_topic_pct=df_version_topic.div(df_version_topic.sum(axis=1),axis=0)\n",
    "plt.figure(figsize=(4,12))\n",
    "plt.yticks([x+0.5 for x in range(8)],\n",
    "           ['V1(1771)','V2(1784)','V3(1797)','V4(1810)','V5(1817)','V6(1823)','V7(1842)','V8(1860)'],\n",
    "           rotation=0)\n",
    "\n",
    "for i in [3,4,5,7,8,9]: \n",
    "    plt.fill_betweenx(y=df_topic_pct.index,\n",
    "                      x1=df_topic_pct.iloc[:,i],\n",
    "                      x2=-1*df_topic_pct.iloc[:,i],\n",
    "                      alpha=0.65,label=topic_labels[i])\n",
    "    \n",
    "plt.legend()\n",
    "plt.xlabel(\"Topic Percentage\",fontsize=12)"
   ]
  },
  {
   "cell_type": "code",
   "execution_count": null,
   "id": "0cc539c2",
   "metadata": {},
   "outputs": [],
   "source": [
    "sns.set_theme(style=\"white\",palette=sns.color_palette(\"husl\"))\n",
    "\n",
    "topic_labels=[\"Math\",\"Architecture\",\"Materials\",\"Royal\",\"Church\",\"Craft\",\"Anatomy\",\"Trade\",\"Cultural\",\"Biology\"]\n",
    "\n",
    "df_topic_pct=df_version_topic.div(df_version_topic.sum(axis=1),axis=0)\n",
    "plt.figure(figsize=(4,12))\n",
    "plt.yticks([x+0.5 for x in range(8)],\n",
    "           ['V1(1771)','V2(1784)','V3(1797)','V4(1810)','V5(1817)','V6(1823)','V7(1842)','V8(1860)'],\n",
    "           rotation=0)\n",
    "\n",
    "for i in range(10): # Entries changes for all topics\n",
    "    plt.fill_betweenx(y=df_topic_pct.index,\n",
    "                      x1=df_topic_pct.iloc[:,i],\n",
    "                      x2=-1*df_topic_pct.iloc[:,i],\n",
    "                      alpha=0.65,label=topic_labels[i])\n",
    "    \n",
    "plt.legend()\n",
    "plt.xlabel(\"Topic Percentage\",fontsize=12)"
   ]
  },
  {
   "cell_type": "code",
   "execution_count": null,
   "id": "exclusive-exploration",
   "metadata": {},
   "outputs": [],
   "source": [
    "sns.set_theme(style=\"white\",palette=sns.color_palette(\"husl\"))\n",
    "\n",
    "topic_labels=[\"Math\",\"Spots\",\"Chemical\",\"Military\",\"Politics\",\"Geography\",\"Agricultural\",\"Trade\",\"Cultural\",\"Biological\"]\n",
    "\n",
    "df_topic_pct=df_version_topic.div(df_version_topic.sum(axis=1),axis=0)\n",
    "plt.figure(figsize=(16,4))\n",
    "plt.xticks([x+0.5 for x in range(8)],\n",
    "           ['V1(1771)','V2(1784)','V3(1797)','V4(1810)','V5(1817)','V6(1823)','V7(1842)','V8(1860)'],\n",
    "           rotation=0)\n",
    "\n",
    "for i in [3,4,5,7,8,9]: \n",
    "    plt.fill_between(x=df_topic_pct.index,\n",
    "                      y1=df_topic_pct.iloc[:,i],\n",
    "                      y2=-1*df_topic_pct.iloc[:,i],\n",
    "                      alpha=0.5,label=topic_labels[i])\n",
    "    \n",
    "plt.legend()\n",
    "plt.ylabel(\"Topic Percentage\",fontsize=12)"
   ]
  },
  {
   "cell_type": "code",
   "execution_count": null,
   "id": "greek-looking",
   "metadata": {},
   "outputs": [],
   "source": [
    "sns.set_theme(style=\"white\",palette=sns.color_palette(\"husl\"))\n",
    "\n",
    "topic_labels=[\"Math\",\"Architecture\",\"Materials\",\"Royal\",\"Church\",\"Craft\",\"Anatomy\",\"Trade\",\"Cultural\",\"Biology\"]\n",
    "\n",
    "df_topic_pct=df_version_topic.div(df_version_topic.sum(axis=1),axis=0)\n",
    "plt.figure(figsize=(16,4))\n",
    "plt.xticks([x+0.5 for x in range(8)],\n",
    "           ['V1(1771)','V2(1784)','V3(1797)','V4(1810)','V5(1817)','V6(1823)','V7(1842)','V8(1860)'],\n",
    "           rotation=0)\n",
    "\n",
    "for i in [3,4,5,7,8,9]: # Materials science, Military & Royal Family, Politics & Church, Anatomy, Trade, Cultural\n",
    "    plt.plot(df_topic_pct.index,\n",
    "             df_topic_pct.iloc[:,i],marker=\"o\",\n",
    "             alpha=0.5,label=topic_labels[i])\n",
    "    \n",
    "plt.legend()\n",
    "plt.ylabel(\"Topic Percentage\",fontsize=12)"
   ]
  },
  {
   "cell_type": "code",
   "execution_count": null,
   "id": "c9dda6ec",
   "metadata": {},
   "outputs": [],
   "source": [
    "sns.set_theme(style=\"white\",palette=sns.color_palette(\"husl\"))\n",
    "\n",
    "topic_labels=[\"Math\",\"Architecture\",\"Materials\",\"Royal\",\"Church\",\"Craft\",\"Anatomy\",\"Trade\",\"Cultural\",\"Biology\"]\n",
    "\n",
    "df_topic_pct=df_version_topic.div(df_version_topic.sum(axis=1),axis=0)\n",
    "plt.figure(figsize=(16,4))\n",
    "plt.xticks([x+0.5 for x in range(8)],\n",
    "           ['V1(1771)','V2(1784)','V3(1797)','V4(1810)','V5(1817)','V6(1823)','V7(1842)','V8(1860)'],\n",
    "           rotation=0)\n",
    "\n",
    "for i in range(10): # Trends of all topics in the eight editions\n",
    "    plt.plot(df_topic_pct.index,\n",
    "             df_topic_pct.iloc[:,i],marker=\"o\",\n",
    "             alpha=0.5,label=topic_labels[i])\n",
    "    \n",
    "plt.legend()\n",
    "plt.ylabel(\"Topic Percentage\",fontsize=12)"
   ]
  },
  {
   "cell_type": "code",
   "execution_count": null,
   "id": "bored-beverage",
   "metadata": {
    "scrolled": true
   },
   "outputs": [],
   "source": [
    "sns.set_theme(style=\"white\",palette=sns.color_palette(\"husl\"))\n",
    "\n",
    "topic_labels=[\"Math\",\"Architecture\",\"Materials\",\"Royal\",\"Church\",\"Craft\",\"Anatomy\",\"Trade\",\"Cultural\",\"Biology\"]\n",
    "\n",
    "df_topic_pct=df_version_topic.div(df_version_topic.sum(axis=1),axis=0)\n",
    "plt.figure(figsize=(16,4))\n",
    "plt.xticks([x+0.5 for x in range(8)],\n",
    "           ['V1(1771)','V2(1784)','V3(1797)','V4(1810)','V5(1817)','V6(1823)','V7(1842)','V8(1860)'],\n",
    "           rotation=0)\n",
    "\n",
    "for i in [0,3,7,8]: # \n",
    "    plt.plot(df_topic_pct.index,\n",
    "             df_topic_pct.iloc[:,i],marker=\"o\",\n",
    "             alpha=0.5,label=topic_labels[i])\n",
    "    \n",
    "plt.legend()\n",
    "plt.ylabel(\"Topic Percentage\",fontsize=12)"
   ]
  },
  {
   "cell_type": "code",
   "execution_count": null,
   "id": "established-start",
   "metadata": {
    "scrolled": true
   },
   "outputs": [],
   "source": [
    "sns.set_theme(style=\"darkgrid\",palette=sns.color_palette(\"Set2\"))\n",
    "\n",
    "# The distribution chart of each version's entries and the proportion of topics\n",
    "\n",
    "topic_labels=[\"Math\",\"Architecture\",\"Materials\",\"Royal\",\"Church\",\"Craft\",\"Anatomy\",\"Trade\",\"Cultural\",\"Biology\"]\n",
    "    \n",
    "for i in range(df_version_topic.shape[0]):\n",
    "    y_dist=df_version_topic.iloc[i,:]\n",
    "    plt.figure(figsize=(8,6),dpi=100)\n",
    "    \n",
    "    plt.pie(x=y_dist.values,labels =topic_labels,autopct='%0.2f%%'\n",
    "            ,startangle=135\n",
    "            ,explode=[0.01]*10\n",
    "            ,colors=plt.cm.Set3(np.linspace(0, 1, 10)))\n",
    "\n",
    "    circle=plt.Circle((0,0), 0.4, color='white')\n",
    "    p=plt.gcf()\n",
    "    p.gca().add_artist(circle)\n",
    "\n",
    "    #plt.legend(loc=\"upper right\")\n",
    "    plt.title(\"Topic Distribution in Version{}\".format(i+1),fontsize=14)\n",
    "\n",
    "    plt.show()\n",
    "    print(\"=\"*120)"
   ]
  },
  {
   "cell_type": "code",
   "execution_count": null,
   "id": "3b840813",
   "metadata": {},
   "outputs": [],
   "source": []
  }
 ],
 "metadata": {
  "kernelspec": {
   "display_name": "Python 3",
   "language": "python",
   "name": "python3"
  },
  "language_info": {
   "codemirror_mode": {
    "name": "ipython",
    "version": 3
   },
   "file_extension": ".py",
   "mimetype": "text/x-python",
   "name": "python",
   "nbconvert_exporter": "python",
   "pygments_lexer": "ipython3",
   "version": "3.8.8"
  },
  "toc": {
   "base_numbering": 1,
   "nav_menu": {},
   "number_sections": true,
   "sideBar": true,
   "skip_h1_title": false,
   "title_cell": "Table of Contents",
   "title_sidebar": "Contents",
   "toc_cell": false,
   "toc_position": {},
   "toc_section_display": true,
   "toc_window_display": false
  }
 },
 "nbformat": 4,
 "nbformat_minor": 5
}
