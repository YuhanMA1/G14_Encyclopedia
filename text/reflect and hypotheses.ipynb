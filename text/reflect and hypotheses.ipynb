{
 "cells": [
  {
   "cell_type": "markdown",
   "id": "1c901de6",
   "metadata": {},
   "source": [
    "## Reflect"
   ]
  },
  {
   "cell_type": "markdown",
   "id": "0af7510a",
   "metadata": {},
   "source": [
    "\n",
    "As there are some errors in the results of the OCR scan, after some data cleaning I have obtained some visual charts.\n",
    "\n",
    "I can see which words have more mentions in Encyclopaedia Britannica, apart from some words that have no reference value, the main words are \"place\", \"water\", \"country \", \"king\", \"town\", \"city\", \"law \", \"man\", etc. I can realize from these words with a relatively high number of mentions that the people who edited this edition of the Encyclopedia Britannica mentioned a lot about history, cities, law, and famous people, which is the same purpose of the encyclopedia, which is to spread different types of knowledge to the readers. This data also helped me to grasp the main objects described in the seventh edition of the Encyclopaedia Britannica, which could provide some ideas for the direction of subsequent research, and it also provided some ideas for understanding the dominant culture of the world at the time. It was in the context of the society of the time that the editors edited this edition of the encyclopaedia, and it will be very different from the previous editions of the encyclopaedia.\n",
    "\n",
    "The number of references to different subjects also varies, as can be seen in the fact that 'law', 'history', 'art', and 'science' all fall into a relatively different category. This may indicate which topics are more important, and there are also some links between different topics, such as the relationship between law and history. References to the history of a region must also refer to the history of that region, as law is essential as a bridge to the construction of human culture.\n"
   ]
  },
  {
   "cell_type": "markdown",
   "id": "fbe9b53e",
   "metadata": {},
   "source": [
    "## Hypotheses"
   ]
  },
  {
   "cell_type": "markdown",
   "id": "8c45ce17",
   "metadata": {},
   "source": [
    "### 1.The most mentioned topics are probably the focus of the encyclopedia"
   ]
  },
  {
   "cell_type": "markdown",
   "id": "1c02165d",
   "metadata": {},
   "source": [
    "In the seventh edition of the encyclopaedia, \"law\", \"history\", \"art\", \"science \" are among the more important topics, and there are many sub-topics within these topics. Perhaps this is partly because the content of these themes is relatively important, and partly because they are more comprehensively researched and worth describing in detail.\n",
    "\n",
    "Later, in assignment 3, a study will be conducted with the group members in relation to the different versions of the content to examine whether and how the importance of the different themes changes from one version to another, and to identify trends over time."
   ]
  },
  {
   "cell_type": "markdown",
   "id": "1cfa6227",
   "metadata": {},
   "source": [
    "### 2.Highly used words are related to topics that are mentioned a lot"
   ]
  },
  {
   "cell_type": "markdown",
   "id": "94e0c81d",
   "metadata": {},
   "source": [
    "The most frequently used words, such as \"first\", \"water\", \"country\", \"king\", etc., are all related to more frequently mentioned subject words, such as \"law\", \"history\", \"art\", \"science\". It may be that as the frequency of subject descriptions increases, so does the frequency of use of the words associated with that subject.\n",
    "\n",
    "Subsequent work will probably start by dividing the different subject terms and the words related to the subject terms will be collated, and then looking for correlations with the high frequency words."
   ]
  },
  {
   "cell_type": "markdown",
   "id": "ec7752fd",
   "metadata": {},
   "source": [
    "### 3.The distribution of different topics in the encyclopedia is likely to be relatively even"
   ]
  },
  {
   "cell_type": "markdown",
   "id": "dddf2bb0",
   "metadata": {},
   "source": [
    "I chose \"art\" as my main subject of study and found that, in addition to \"draw\" and \"writer\", \"literature\", \"poet\", \"architecture\", and \"music\", all of which are in the same category. \"literature\", \"poet\", \"architecture\", and \"music\", all appear more frequently. They appear more frequently and are more evenly distributed in the seventh edition. It is important to bring all the sections on art together to see how the editors of the different editions have described different aspects of art.\n",
    "\n",
    "This will be followed by a collation of the sections on the different topics in the various editions and a division by edition, followed by research."
   ]
  },
  {
   "cell_type": "markdown",
   "id": "8e596801",
   "metadata": {},
   "source": [
    "### 4.Women are mentioned in much smaller numbers than men"
   ]
  },
  {
   "cell_type": "markdown",
   "id": "b7a448d5",
   "metadata": {},
   "source": [
    "In the word frequency statistics, the number of 'man' is relatively high, while 'female' is not. In the non-standard statistics, assuming that all genders are covered, it can be seen that the number of men is much higher than the number of women. This may be due to the fact that male greats are the main subjects of the editor's study (kings, dukes, male writers, etc.), while women are less frequently represented. It may be that there is not a great deal of documented data on women and there is not a great deal of material on the subject. It may be that women did not play a large role in the development of society.\n",
    "\n",
    "It is possible that some of these figures will be studied later on, perhaps in terms of their relationships, descriptive language, and contribution to history."
   ]
  },
  {
   "cell_type": "code",
   "execution_count": null,
   "id": "54880830",
   "metadata": {},
   "outputs": [],
   "source": []
  }
 ],
 "metadata": {
  "kernelspec": {
   "display_name": "Python 3",
   "language": "python",
   "name": "python3"
  },
  "language_info": {
   "codemirror_mode": {
    "name": "ipython",
    "version": 3
   },
   "file_extension": ".py",
   "mimetype": "text/x-python",
   "name": "python",
   "nbconvert_exporter": "python",
   "pygments_lexer": "ipython3",
   "version": "3.8.8"
  }
 },
 "nbformat": 4,
 "nbformat_minor": 5
}
